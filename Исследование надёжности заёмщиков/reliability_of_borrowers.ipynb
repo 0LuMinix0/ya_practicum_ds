{
 "cells": [
  {
   "cell_type": "markdown",
   "id": "5d4135a5",
   "metadata": {
    "deletable": false,
    "editable": false,
    "id": "c81daeeb"
   },
   "source": [
    "# Исследование надежности заемщиков\n"
   ]
  },
  {
   "cell_type": "markdown",
   "id": "b1dc8525",
   "metadata": {
    "id": "827c20bf"
   },
   "source": [
    "**Описание проекта**\n",
    "\n",
    "Заказчик — кредитный отдел банка. Нужно разобраться, влияет ли семейное положение и количество детей клиента на факт погашения кредита в срок. Входные данные от банка — статистика о платёжеспособности клиентов.\n",
    "\n",
    "Результаты исследования будут учтены при построении модели кредитного скоринга — специальной системы, которая оценивает способность потенциального заёмщика вернуть кредит банку.\n",
    "\n",
    "**Описание данных**\n",
    "\n",
    "* `children` — количество детей в семье;\n",
    "* `days_employed` — общий трудовой стаж в днях;\n",
    "* `dob_years` — возраст клиента в годах;\n",
    "* `education` — уровень образования клиента;\n",
    "* `education_id` — идентификатор уровня образования;\n",
    "* `family_status` — семейное положение;\n",
    "* `family_status_id` — идентификатор семейного положения;\n",
    "* `gender` — пол клиента;\n",
    "* `income_type` — тип занятости;\n",
    "* `debt` — имел ли задолженность по возврату кредитов;\n",
    "* `total_income` — ежемесячный доход;\n",
    "* `purpose` — цель получения кредита."
   ]
  },
  {
   "cell_type": "markdown",
   "id": "3cb06787",
   "metadata": {
    "toc": true
   },
   "source": [
    "<h1>Содержание<span class=\"tocSkip\"></span></h1>\n",
    "<div class=\"toc\"><ul class=\"toc-item\"><li><span><a href=\"#Изучение-общей-информации\" data-toc-modified-id=\"Изучение-общей-информации-1\"><span class=\"toc-item-num\">1&nbsp;&nbsp;</span>Изучение общей информации</a></span></li><li><span><a href=\"#Предобработка-данных\" data-toc-modified-id=\"Предобработка-данных-2\"><span class=\"toc-item-num\">2&nbsp;&nbsp;</span>Предобработка данных</a></span><ul class=\"toc-item\"><li><span><a href=\"#Удаление-пропусков\" data-toc-modified-id=\"Удаление-пропусков-2.1\"><span class=\"toc-item-num\">2.1&nbsp;&nbsp;</span>Удаление пропусков</a></span></li><li><span><a href=\"#Обработка-аномальных-значений\" data-toc-modified-id=\"Обработка-аномальных-значений-2.2\"><span class=\"toc-item-num\">2.2&nbsp;&nbsp;</span>Обработка аномальных значений</a></span></li><li><span><a href=\"#Удаление-пропусков-(продолжение)\" data-toc-modified-id=\"Удаление-пропусков-(продолжение)-2.3\"><span class=\"toc-item-num\">2.3&nbsp;&nbsp;</span>Удаление пропусков (продолжение)</a></span></li><li><span><a href=\"#Изменение-типов-данных\" data-toc-modified-id=\"Изменение-типов-данных-2.4\"><span class=\"toc-item-num\">2.4&nbsp;&nbsp;</span>Изменение типов данных</a></span></li><li><span><a href=\"#Обработка-дубликатов\" data-toc-modified-id=\"Обработка-дубликатов-2.5\"><span class=\"toc-item-num\">2.5&nbsp;&nbsp;</span>Обработка дубликатов</a></span></li><li><span><a href=\"#Категоризация-данных\" data-toc-modified-id=\"Категоризация-данных-2.6\"><span class=\"toc-item-num\">2.6&nbsp;&nbsp;</span>Категоризация данных</a></span></li></ul></li><li><span><a href=\"#Исследование-данных-и-ответы-на-вопросы\" data-toc-modified-id=\"Исследование-данных-и-ответы-на-вопросы-3\"><span class=\"toc-item-num\">3&nbsp;&nbsp;</span>Исследование данных и ответы на вопросы</a></span><ul class=\"toc-item\"><li><span><a href=\"#Есть-ли-зависимость-между-количеством-детей-и-возвратом-кредита-в-срок?\" data-toc-modified-id=\"Есть-ли-зависимость-между-количеством-детей-и-возвратом-кредита-в-срок?-3.1\"><span class=\"toc-item-num\">3.1&nbsp;&nbsp;</span>Есть ли зависимость между количеством детей и возвратом кредита в срок?</a></span></li><li><span><a href=\"#Есть-ли-зависимость-между-семейным-положением-и-возвратом-кредита-в-срок?\" data-toc-modified-id=\"Есть-ли-зависимость-между-семейным-положением-и-возвратом-кредита-в-срок?-3.2\"><span class=\"toc-item-num\">3.2&nbsp;&nbsp;</span>Есть ли зависимость между семейным положением и возвратом кредита в срок?</a></span></li><li><span><a href=\"#Есть-ли-зависимость-между-уровнем-дохода-и-возвратом-кредита-в-срок?\" data-toc-modified-id=\"Есть-ли-зависимость-между-уровнем-дохода-и-возвратом-кредита-в-срок?-3.3\"><span class=\"toc-item-num\">3.3&nbsp;&nbsp;</span>Есть ли зависимость между уровнем дохода и возвратом кредита в срок?</a></span></li><li><span><a href=\"#Как-разные-цели-кредита-влияют-на-его-возврат-в-срок?\" data-toc-modified-id=\"Как-разные-цели-кредита-влияют-на-его-возврат-в-срок?-3.4\"><span class=\"toc-item-num\">3.4&nbsp;&nbsp;</span>Как разные цели кредита влияют на его возврат в срок?</a></span></li><li><span><a href=\"#Приведите-возможные-причины-появления-пропусков-в-исходных-данных.\" data-toc-modified-id=\"Приведите-возможные-причины-появления-пропусков-в-исходных-данных.-3.5\"><span class=\"toc-item-num\">3.5&nbsp;&nbsp;</span>Приведите возможные причины появления пропусков в исходных данных.</a></span></li><li><span><a href=\"#Объясните,-почему-заполнить-пропуски-медианным-значением-—-лучшее-решение-для-количественных-переменных.\" data-toc-modified-id=\"Объясните,-почему-заполнить-пропуски-медианным-значением-—-лучшее-решение-для-количественных-переменных.-3.6\"><span class=\"toc-item-num\">3.6&nbsp;&nbsp;</span>Объясните, почему заполнить пропуски медианным значением — лучшее решение для количественных переменных.</a></span></li></ul></li><li><span><a href=\"#Общий-вывод\" data-toc-modified-id=\"Общий-вывод-4\"><span class=\"toc-item-num\">4&nbsp;&nbsp;</span>Общий вывод</a></span></li></ul></div>"
   ]
  },
  {
   "cell_type": "code",
   "execution_count": 6,
   "id": "6ecd947f",
   "metadata": {},
   "outputs": [],
   "source": [
    "import pandas as pd"
   ]
  },
  {
   "cell_type": "markdown",
   "id": "366f6b7c",
   "metadata": {
    "id": "744d7639"
   },
   "source": [
    "## Изучение общей информации"
   ]
  },
  {
   "cell_type": "code",
   "execution_count": 7,
   "id": "63b1fb28",
   "metadata": {
    "deletable": false,
    "id": "7bcf75c9"
   },
   "outputs": [],
   "source": [
    "try:\n",
    "    data = pd.read_csv('datasets\\data.csv')\n",
    "except:\n",
    "    data = pd.read_csv('https://code.s3.yandex.net/datasets/data.csv')"
   ]
  },
  {
   "cell_type": "code",
   "execution_count": 8,
   "id": "0b71a29c",
   "metadata": {
    "deletable": false,
    "id": "2a7cab99",
    "outputId": "1a8f3ef2-d323-4ec2-ddf7-89670b5944c4",
    "scrolled": true
   },
   "outputs": [
    {
     "data": {
      "text/html": [
       "<div>\n",
       "<style scoped>\n",
       "    .dataframe tbody tr th:only-of-type {\n",
       "        vertical-align: middle;\n",
       "    }\n",
       "\n",
       "    .dataframe tbody tr th {\n",
       "        vertical-align: top;\n",
       "    }\n",
       "\n",
       "    .dataframe thead th {\n",
       "        text-align: right;\n",
       "    }\n",
       "</style>\n",
       "<table border=\"1\" class=\"dataframe\">\n",
       "  <thead>\n",
       "    <tr style=\"text-align: right;\">\n",
       "      <th></th>\n",
       "      <th>children</th>\n",
       "      <th>days_employed</th>\n",
       "      <th>dob_years</th>\n",
       "      <th>education</th>\n",
       "      <th>education_id</th>\n",
       "      <th>family_status</th>\n",
       "      <th>family_status_id</th>\n",
       "      <th>gender</th>\n",
       "      <th>income_type</th>\n",
       "      <th>debt</th>\n",
       "      <th>total_income</th>\n",
       "      <th>purpose</th>\n",
       "    </tr>\n",
       "  </thead>\n",
       "  <tbody>\n",
       "    <tr>\n",
       "      <th>0</th>\n",
       "      <td>1</td>\n",
       "      <td>-8437.673028</td>\n",
       "      <td>42</td>\n",
       "      <td>высшее</td>\n",
       "      <td>0</td>\n",
       "      <td>женат / замужем</td>\n",
       "      <td>0</td>\n",
       "      <td>F</td>\n",
       "      <td>сотрудник</td>\n",
       "      <td>0</td>\n",
       "      <td>253875.639453</td>\n",
       "      <td>покупка жилья</td>\n",
       "    </tr>\n",
       "    <tr>\n",
       "      <th>1</th>\n",
       "      <td>1</td>\n",
       "      <td>-4024.803754</td>\n",
       "      <td>36</td>\n",
       "      <td>среднее</td>\n",
       "      <td>1</td>\n",
       "      <td>женат / замужем</td>\n",
       "      <td>0</td>\n",
       "      <td>F</td>\n",
       "      <td>сотрудник</td>\n",
       "      <td>0</td>\n",
       "      <td>112080.014102</td>\n",
       "      <td>приобретение автомобиля</td>\n",
       "    </tr>\n",
       "    <tr>\n",
       "      <th>2</th>\n",
       "      <td>0</td>\n",
       "      <td>-5623.422610</td>\n",
       "      <td>33</td>\n",
       "      <td>Среднее</td>\n",
       "      <td>1</td>\n",
       "      <td>женат / замужем</td>\n",
       "      <td>0</td>\n",
       "      <td>M</td>\n",
       "      <td>сотрудник</td>\n",
       "      <td>0</td>\n",
       "      <td>145885.952297</td>\n",
       "      <td>покупка жилья</td>\n",
       "    </tr>\n",
       "    <tr>\n",
       "      <th>3</th>\n",
       "      <td>3</td>\n",
       "      <td>-4124.747207</td>\n",
       "      <td>32</td>\n",
       "      <td>среднее</td>\n",
       "      <td>1</td>\n",
       "      <td>женат / замужем</td>\n",
       "      <td>0</td>\n",
       "      <td>M</td>\n",
       "      <td>сотрудник</td>\n",
       "      <td>0</td>\n",
       "      <td>267628.550329</td>\n",
       "      <td>дополнительное образование</td>\n",
       "    </tr>\n",
       "    <tr>\n",
       "      <th>4</th>\n",
       "      <td>0</td>\n",
       "      <td>340266.072047</td>\n",
       "      <td>53</td>\n",
       "      <td>среднее</td>\n",
       "      <td>1</td>\n",
       "      <td>гражданский брак</td>\n",
       "      <td>1</td>\n",
       "      <td>F</td>\n",
       "      <td>пенсионер</td>\n",
       "      <td>0</td>\n",
       "      <td>158616.077870</td>\n",
       "      <td>сыграть свадьбу</td>\n",
       "    </tr>\n",
       "    <tr>\n",
       "      <th>5</th>\n",
       "      <td>0</td>\n",
       "      <td>-926.185831</td>\n",
       "      <td>27</td>\n",
       "      <td>высшее</td>\n",
       "      <td>0</td>\n",
       "      <td>гражданский брак</td>\n",
       "      <td>1</td>\n",
       "      <td>M</td>\n",
       "      <td>компаньон</td>\n",
       "      <td>0</td>\n",
       "      <td>255763.565419</td>\n",
       "      <td>покупка жилья</td>\n",
       "    </tr>\n",
       "    <tr>\n",
       "      <th>6</th>\n",
       "      <td>0</td>\n",
       "      <td>-2879.202052</td>\n",
       "      <td>43</td>\n",
       "      <td>высшее</td>\n",
       "      <td>0</td>\n",
       "      <td>женат / замужем</td>\n",
       "      <td>0</td>\n",
       "      <td>F</td>\n",
       "      <td>компаньон</td>\n",
       "      <td>0</td>\n",
       "      <td>240525.971920</td>\n",
       "      <td>операции с жильем</td>\n",
       "    </tr>\n",
       "    <tr>\n",
       "      <th>7</th>\n",
       "      <td>0</td>\n",
       "      <td>-152.779569</td>\n",
       "      <td>50</td>\n",
       "      <td>СРЕДНЕЕ</td>\n",
       "      <td>1</td>\n",
       "      <td>женат / замужем</td>\n",
       "      <td>0</td>\n",
       "      <td>M</td>\n",
       "      <td>сотрудник</td>\n",
       "      <td>0</td>\n",
       "      <td>135823.934197</td>\n",
       "      <td>образование</td>\n",
       "    </tr>\n",
       "    <tr>\n",
       "      <th>8</th>\n",
       "      <td>2</td>\n",
       "      <td>-6929.865299</td>\n",
       "      <td>35</td>\n",
       "      <td>ВЫСШЕЕ</td>\n",
       "      <td>0</td>\n",
       "      <td>гражданский брак</td>\n",
       "      <td>1</td>\n",
       "      <td>F</td>\n",
       "      <td>сотрудник</td>\n",
       "      <td>0</td>\n",
       "      <td>95856.832424</td>\n",
       "      <td>на проведение свадьбы</td>\n",
       "    </tr>\n",
       "    <tr>\n",
       "      <th>9</th>\n",
       "      <td>0</td>\n",
       "      <td>-2188.756445</td>\n",
       "      <td>41</td>\n",
       "      <td>среднее</td>\n",
       "      <td>1</td>\n",
       "      <td>женат / замужем</td>\n",
       "      <td>0</td>\n",
       "      <td>M</td>\n",
       "      <td>сотрудник</td>\n",
       "      <td>0</td>\n",
       "      <td>144425.938277</td>\n",
       "      <td>покупка жилья для семьи</td>\n",
       "    </tr>\n",
       "    <tr>\n",
       "      <th>10</th>\n",
       "      <td>2</td>\n",
       "      <td>-4171.483647</td>\n",
       "      <td>36</td>\n",
       "      <td>высшее</td>\n",
       "      <td>0</td>\n",
       "      <td>женат / замужем</td>\n",
       "      <td>0</td>\n",
       "      <td>M</td>\n",
       "      <td>компаньон</td>\n",
       "      <td>0</td>\n",
       "      <td>113943.491460</td>\n",
       "      <td>покупка недвижимости</td>\n",
       "    </tr>\n",
       "    <tr>\n",
       "      <th>11</th>\n",
       "      <td>0</td>\n",
       "      <td>-792.701887</td>\n",
       "      <td>40</td>\n",
       "      <td>среднее</td>\n",
       "      <td>1</td>\n",
       "      <td>женат / замужем</td>\n",
       "      <td>0</td>\n",
       "      <td>F</td>\n",
       "      <td>сотрудник</td>\n",
       "      <td>0</td>\n",
       "      <td>77069.234271</td>\n",
       "      <td>покупка коммерческой недвижимости</td>\n",
       "    </tr>\n",
       "    <tr>\n",
       "      <th>12</th>\n",
       "      <td>0</td>\n",
       "      <td>NaN</td>\n",
       "      <td>65</td>\n",
       "      <td>среднее</td>\n",
       "      <td>1</td>\n",
       "      <td>гражданский брак</td>\n",
       "      <td>1</td>\n",
       "      <td>M</td>\n",
       "      <td>пенсионер</td>\n",
       "      <td>0</td>\n",
       "      <td>NaN</td>\n",
       "      <td>сыграть свадьбу</td>\n",
       "    </tr>\n",
       "    <tr>\n",
       "      <th>13</th>\n",
       "      <td>0</td>\n",
       "      <td>-1846.641941</td>\n",
       "      <td>54</td>\n",
       "      <td>неоконченное высшее</td>\n",
       "      <td>2</td>\n",
       "      <td>женат / замужем</td>\n",
       "      <td>0</td>\n",
       "      <td>F</td>\n",
       "      <td>сотрудник</td>\n",
       "      <td>0</td>\n",
       "      <td>130458.228857</td>\n",
       "      <td>приобретение автомобиля</td>\n",
       "    </tr>\n",
       "    <tr>\n",
       "      <th>14</th>\n",
       "      <td>0</td>\n",
       "      <td>-1844.956182</td>\n",
       "      <td>56</td>\n",
       "      <td>высшее</td>\n",
       "      <td>0</td>\n",
       "      <td>гражданский брак</td>\n",
       "      <td>1</td>\n",
       "      <td>F</td>\n",
       "      <td>компаньон</td>\n",
       "      <td>1</td>\n",
       "      <td>165127.911772</td>\n",
       "      <td>покупка жилой недвижимости</td>\n",
       "    </tr>\n",
       "    <tr>\n",
       "      <th>15</th>\n",
       "      <td>1</td>\n",
       "      <td>-972.364419</td>\n",
       "      <td>26</td>\n",
       "      <td>среднее</td>\n",
       "      <td>1</td>\n",
       "      <td>женат / замужем</td>\n",
       "      <td>0</td>\n",
       "      <td>F</td>\n",
       "      <td>сотрудник</td>\n",
       "      <td>0</td>\n",
       "      <td>116820.904450</td>\n",
       "      <td>строительство собственной недвижимости</td>\n",
       "    </tr>\n",
       "    <tr>\n",
       "      <th>16</th>\n",
       "      <td>0</td>\n",
       "      <td>-1719.934226</td>\n",
       "      <td>35</td>\n",
       "      <td>среднее</td>\n",
       "      <td>1</td>\n",
       "      <td>женат / замужем</td>\n",
       "      <td>0</td>\n",
       "      <td>F</td>\n",
       "      <td>сотрудник</td>\n",
       "      <td>0</td>\n",
       "      <td>289202.704229</td>\n",
       "      <td>недвижимость</td>\n",
       "    </tr>\n",
       "    <tr>\n",
       "      <th>17</th>\n",
       "      <td>0</td>\n",
       "      <td>-2369.999720</td>\n",
       "      <td>33</td>\n",
       "      <td>высшее</td>\n",
       "      <td>0</td>\n",
       "      <td>гражданский брак</td>\n",
       "      <td>1</td>\n",
       "      <td>M</td>\n",
       "      <td>сотрудник</td>\n",
       "      <td>0</td>\n",
       "      <td>90410.586745</td>\n",
       "      <td>строительство недвижимости</td>\n",
       "    </tr>\n",
       "    <tr>\n",
       "      <th>18</th>\n",
       "      <td>0</td>\n",
       "      <td>400281.136913</td>\n",
       "      <td>53</td>\n",
       "      <td>среднее</td>\n",
       "      <td>1</td>\n",
       "      <td>вдовец / вдова</td>\n",
       "      <td>2</td>\n",
       "      <td>F</td>\n",
       "      <td>пенсионер</td>\n",
       "      <td>0</td>\n",
       "      <td>56823.777243</td>\n",
       "      <td>на покупку подержанного автомобиля</td>\n",
       "    </tr>\n",
       "    <tr>\n",
       "      <th>19</th>\n",
       "      <td>0</td>\n",
       "      <td>-10038.818549</td>\n",
       "      <td>48</td>\n",
       "      <td>СРЕДНЕЕ</td>\n",
       "      <td>1</td>\n",
       "      <td>в разводе</td>\n",
       "      <td>3</td>\n",
       "      <td>F</td>\n",
       "      <td>сотрудник</td>\n",
       "      <td>0</td>\n",
       "      <td>242831.107982</td>\n",
       "      <td>на покупку своего автомобиля</td>\n",
       "    </tr>\n",
       "  </tbody>\n",
       "</table>\n",
       "</div>"
      ],
      "text/plain": [
       "    children  days_employed  dob_years            education  education_id  \\\n",
       "0          1   -8437.673028         42               высшее             0   \n",
       "1          1   -4024.803754         36              среднее             1   \n",
       "2          0   -5623.422610         33              Среднее             1   \n",
       "3          3   -4124.747207         32              среднее             1   \n",
       "4          0  340266.072047         53              среднее             1   \n",
       "5          0    -926.185831         27               высшее             0   \n",
       "6          0   -2879.202052         43               высшее             0   \n",
       "7          0    -152.779569         50              СРЕДНЕЕ             1   \n",
       "8          2   -6929.865299         35               ВЫСШЕЕ             0   \n",
       "9          0   -2188.756445         41              среднее             1   \n",
       "10         2   -4171.483647         36               высшее             0   \n",
       "11         0    -792.701887         40              среднее             1   \n",
       "12         0            NaN         65              среднее             1   \n",
       "13         0   -1846.641941         54  неоконченное высшее             2   \n",
       "14         0   -1844.956182         56               высшее             0   \n",
       "15         1    -972.364419         26              среднее             1   \n",
       "16         0   -1719.934226         35              среднее             1   \n",
       "17         0   -2369.999720         33               высшее             0   \n",
       "18         0  400281.136913         53              среднее             1   \n",
       "19         0  -10038.818549         48              СРЕДНЕЕ             1   \n",
       "\n",
       "       family_status  family_status_id gender income_type  debt  \\\n",
       "0    женат / замужем                 0      F   сотрудник     0   \n",
       "1    женат / замужем                 0      F   сотрудник     0   \n",
       "2    женат / замужем                 0      M   сотрудник     0   \n",
       "3    женат / замужем                 0      M   сотрудник     0   \n",
       "4   гражданский брак                 1      F   пенсионер     0   \n",
       "5   гражданский брак                 1      M   компаньон     0   \n",
       "6    женат / замужем                 0      F   компаньон     0   \n",
       "7    женат / замужем                 0      M   сотрудник     0   \n",
       "8   гражданский брак                 1      F   сотрудник     0   \n",
       "9    женат / замужем                 0      M   сотрудник     0   \n",
       "10   женат / замужем                 0      M   компаньон     0   \n",
       "11   женат / замужем                 0      F   сотрудник     0   \n",
       "12  гражданский брак                 1      M   пенсионер     0   \n",
       "13   женат / замужем                 0      F   сотрудник     0   \n",
       "14  гражданский брак                 1      F   компаньон     1   \n",
       "15   женат / замужем                 0      F   сотрудник     0   \n",
       "16   женат / замужем                 0      F   сотрудник     0   \n",
       "17  гражданский брак                 1      M   сотрудник     0   \n",
       "18    вдовец / вдова                 2      F   пенсионер     0   \n",
       "19         в разводе                 3      F   сотрудник     0   \n",
       "\n",
       "     total_income                                 purpose  \n",
       "0   253875.639453                           покупка жилья  \n",
       "1   112080.014102                 приобретение автомобиля  \n",
       "2   145885.952297                           покупка жилья  \n",
       "3   267628.550329              дополнительное образование  \n",
       "4   158616.077870                         сыграть свадьбу  \n",
       "5   255763.565419                           покупка жилья  \n",
       "6   240525.971920                       операции с жильем  \n",
       "7   135823.934197                             образование  \n",
       "8    95856.832424                   на проведение свадьбы  \n",
       "9   144425.938277                 покупка жилья для семьи  \n",
       "10  113943.491460                    покупка недвижимости  \n",
       "11   77069.234271       покупка коммерческой недвижимости  \n",
       "12            NaN                         сыграть свадьбу  \n",
       "13  130458.228857                 приобретение автомобиля  \n",
       "14  165127.911772              покупка жилой недвижимости  \n",
       "15  116820.904450  строительство собственной недвижимости  \n",
       "16  289202.704229                            недвижимость  \n",
       "17   90410.586745              строительство недвижимости  \n",
       "18   56823.777243      на покупку подержанного автомобиля  \n",
       "19  242831.107982            на покупку своего автомобиля  "
      ]
     },
     "execution_count": 8,
     "metadata": {},
     "output_type": "execute_result"
    }
   ],
   "source": [
    "data.head(20)"
   ]
  },
  {
   "cell_type": "code",
   "execution_count": 9,
   "id": "d268ef1c",
   "metadata": {
    "deletable": false,
    "id": "2b757bca",
    "outputId": "15376089-8dad-46c9-b520-c05248d43158",
    "scrolled": true
   },
   "outputs": [
    {
     "name": "stdout",
     "output_type": "stream",
     "text": [
      "<class 'pandas.core.frame.DataFrame'>\n",
      "RangeIndex: 21525 entries, 0 to 21524\n",
      "Data columns (total 12 columns):\n",
      " #   Column            Non-Null Count  Dtype  \n",
      "---  ------            --------------  -----  \n",
      " 0   children          21525 non-null  int64  \n",
      " 1   days_employed     19351 non-null  float64\n",
      " 2   dob_years         21525 non-null  int64  \n",
      " 3   education         21525 non-null  object \n",
      " 4   education_id      21525 non-null  int64  \n",
      " 5   family_status     21525 non-null  object \n",
      " 6   family_status_id  21525 non-null  int64  \n",
      " 7   gender            21525 non-null  object \n",
      " 8   income_type       21525 non-null  object \n",
      " 9   debt              21525 non-null  int64  \n",
      " 10  total_income      19351 non-null  float64\n",
      " 11  purpose           21525 non-null  object \n",
      "dtypes: float64(2), int64(5), object(5)\n",
      "memory usage: 2.0+ MB\n"
     ]
    }
   ],
   "source": [
    "data.info()"
   ]
  },
  {
   "cell_type": "markdown",
   "id": "f50fc97f",
   "metadata": {
    "deletable": false,
    "editable": false,
    "id": "333ec665"
   },
   "source": [
    "## Предобработка данных"
   ]
  },
  {
   "cell_type": "markdown",
   "id": "a0c80a75",
   "metadata": {
    "deletable": false,
    "editable": false,
    "id": "02d92d53"
   },
   "source": [
    "### Удаление пропусков"
   ]
  },
  {
   "cell_type": "code",
   "execution_count": 10,
   "id": "5c950754",
   "metadata": {
    "deletable": false,
    "id": "7f9b2309",
    "outputId": "81f4d817-781c-465c-ed15-91ce4446810d"
   },
   "outputs": [
    {
     "data": {
      "text/plain": [
       "children               0\n",
       "days_employed       2174\n",
       "dob_years              0\n",
       "education              0\n",
       "education_id           0\n",
       "family_status          0\n",
       "family_status_id       0\n",
       "gender                 0\n",
       "income_type            0\n",
       "debt                   0\n",
       "total_income        2174\n",
       "purpose                0\n",
       "dtype: int64"
      ]
     },
     "execution_count": 10,
     "metadata": {},
     "output_type": "execute_result"
    }
   ],
   "source": [
    "data.isna().sum()"
   ]
  },
  {
   "cell_type": "markdown",
   "id": "1e88e97b",
   "metadata": {
    "id": "db86e27b"
   },
   "source": [
    "В столбцах `days_employed` и `total_income` есть пропущенные значения.\n",
    "\n",
    "На сумму дохода сильнее всего влияет тип занятости, поэтому заполним пропуски в столбце `total_income` медианным значением по каждому типу из столбца `income_type`.\n",
    "\n",
    "Пропуски в столбце `days_employed` обработаем позже."
   ]
  },
  {
   "cell_type": "code",
   "execution_count": 11,
   "id": "211fafef",
   "metadata": {
    "deletable": false,
    "id": "42006a93"
   },
   "outputs": [],
   "source": [
    "for t in data['income_type'].unique():\n",
    "    data.loc[(data['income_type'] == t) & (data['total_income'].isna()), 'total_income'] = \\\n",
    "    data.loc[(data['income_type'] == t), 'total_income'].median()"
   ]
  },
  {
   "cell_type": "markdown",
   "id": "1671eed4",
   "metadata": {
    "deletable": false,
    "editable": false,
    "id": "89da5ece"
   },
   "source": [
    "### Обработка аномальных значений"
   ]
  },
  {
   "cell_type": "code",
   "execution_count": 12,
   "id": "94620e2d",
   "metadata": {},
   "outputs": [
    {
     "data": {
      "text/html": [
       "<div>\n",
       "<style scoped>\n",
       "    .dataframe tbody tr th:only-of-type {\n",
       "        vertical-align: middle;\n",
       "    }\n",
       "\n",
       "    .dataframe tbody tr th {\n",
       "        vertical-align: top;\n",
       "    }\n",
       "\n",
       "    .dataframe thead th {\n",
       "        text-align: right;\n",
       "    }\n",
       "</style>\n",
       "<table border=\"1\" class=\"dataframe\">\n",
       "  <thead>\n",
       "    <tr style=\"text-align: right;\">\n",
       "      <th></th>\n",
       "      <th>children</th>\n",
       "      <th>days_employed</th>\n",
       "      <th>dob_years</th>\n",
       "      <th>education_id</th>\n",
       "      <th>family_status_id</th>\n",
       "      <th>debt</th>\n",
       "      <th>total_income</th>\n",
       "    </tr>\n",
       "  </thead>\n",
       "  <tbody>\n",
       "    <tr>\n",
       "      <th>count</th>\n",
       "      <td>21525.000000</td>\n",
       "      <td>19351.000000</td>\n",
       "      <td>21525.000000</td>\n",
       "      <td>21525.000000</td>\n",
       "      <td>21525.000000</td>\n",
       "      <td>21525.000000</td>\n",
       "      <td>2.152500e+04</td>\n",
       "    </tr>\n",
       "    <tr>\n",
       "      <th>mean</th>\n",
       "      <td>0.538908</td>\n",
       "      <td>63046.497661</td>\n",
       "      <td>43.293380</td>\n",
       "      <td>0.817236</td>\n",
       "      <td>0.972544</td>\n",
       "      <td>0.080883</td>\n",
       "      <td>1.652253e+05</td>\n",
       "    </tr>\n",
       "    <tr>\n",
       "      <th>std</th>\n",
       "      <td>1.381587</td>\n",
       "      <td>140827.311974</td>\n",
       "      <td>12.574584</td>\n",
       "      <td>0.548138</td>\n",
       "      <td>1.420324</td>\n",
       "      <td>0.272661</td>\n",
       "      <td>9.804367e+04</td>\n",
       "    </tr>\n",
       "    <tr>\n",
       "      <th>min</th>\n",
       "      <td>-1.000000</td>\n",
       "      <td>-18388.949901</td>\n",
       "      <td>0.000000</td>\n",
       "      <td>0.000000</td>\n",
       "      <td>0.000000</td>\n",
       "      <td>0.000000</td>\n",
       "      <td>2.066726e+04</td>\n",
       "    </tr>\n",
       "    <tr>\n",
       "      <th>25%</th>\n",
       "      <td>0.000000</td>\n",
       "      <td>-2747.423625</td>\n",
       "      <td>33.000000</td>\n",
       "      <td>1.000000</td>\n",
       "      <td>0.000000</td>\n",
       "      <td>0.000000</td>\n",
       "      <td>1.077982e+05</td>\n",
       "    </tr>\n",
       "    <tr>\n",
       "      <th>50%</th>\n",
       "      <td>0.000000</td>\n",
       "      <td>-1203.369529</td>\n",
       "      <td>42.000000</td>\n",
       "      <td>1.000000</td>\n",
       "      <td>0.000000</td>\n",
       "      <td>0.000000</td>\n",
       "      <td>1.425944e+05</td>\n",
       "    </tr>\n",
       "    <tr>\n",
       "      <th>75%</th>\n",
       "      <td>1.000000</td>\n",
       "      <td>-291.095954</td>\n",
       "      <td>53.000000</td>\n",
       "      <td>1.000000</td>\n",
       "      <td>1.000000</td>\n",
       "      <td>0.000000</td>\n",
       "      <td>1.955499e+05</td>\n",
       "    </tr>\n",
       "    <tr>\n",
       "      <th>max</th>\n",
       "      <td>20.000000</td>\n",
       "      <td>401755.400475</td>\n",
       "      <td>75.000000</td>\n",
       "      <td>4.000000</td>\n",
       "      <td>4.000000</td>\n",
       "      <td>1.000000</td>\n",
       "      <td>2.265604e+06</td>\n",
       "    </tr>\n",
       "  </tbody>\n",
       "</table>\n",
       "</div>"
      ],
      "text/plain": [
       "           children  days_employed     dob_years  education_id  \\\n",
       "count  21525.000000   19351.000000  21525.000000  21525.000000   \n",
       "mean       0.538908   63046.497661     43.293380      0.817236   \n",
       "std        1.381587  140827.311974     12.574584      0.548138   \n",
       "min       -1.000000  -18388.949901      0.000000      0.000000   \n",
       "25%        0.000000   -2747.423625     33.000000      1.000000   \n",
       "50%        0.000000   -1203.369529     42.000000      1.000000   \n",
       "75%        1.000000    -291.095954     53.000000      1.000000   \n",
       "max       20.000000  401755.400475     75.000000      4.000000   \n",
       "\n",
       "       family_status_id          debt  total_income  \n",
       "count      21525.000000  21525.000000  2.152500e+04  \n",
       "mean           0.972544      0.080883  1.652253e+05  \n",
       "std            1.420324      0.272661  9.804367e+04  \n",
       "min            0.000000      0.000000  2.066726e+04  \n",
       "25%            0.000000      0.000000  1.077982e+05  \n",
       "50%            0.000000      0.000000  1.425944e+05  \n",
       "75%            1.000000      0.000000  1.955499e+05  \n",
       "max            4.000000      1.000000  2.265604e+06  "
      ]
     },
     "execution_count": 12,
     "metadata": {},
     "output_type": "execute_result"
    }
   ],
   "source": [
    "data.describe()"
   ]
  },
  {
   "cell_type": "markdown",
   "id": "160d02f1",
   "metadata": {
    "id": "57964554"
   },
   "source": [
    "В столбце `days_employed` имеется отрицательное количество дней трудового стажа. \n",
    "\n",
    "Заменим все отрицательные значения положительными."
   ]
  },
  {
   "cell_type": "code",
   "execution_count": 13,
   "id": "18b7113a",
   "metadata": {
    "deletable": false,
    "id": "f6f055bf"
   },
   "outputs": [],
   "source": [
    "data['days_employed'] = data['days_employed'].abs()"
   ]
  },
  {
   "cell_type": "markdown",
   "id": "8ed1d6d4",
   "metadata": {
    "id": "6107dd2f"
   },
   "source": [
    "Выведем для каждого типа занятости медианное значение трудового стажа в днях."
   ]
  },
  {
   "cell_type": "code",
   "execution_count": 14,
   "id": "0f55e674",
   "metadata": {
    "deletable": false,
    "id": "85a5faf6",
    "outputId": "801ef80e-522b-4668-f34e-565af7432bcf"
   },
   "outputs": [
    {
     "data": {
      "text/plain": [
       "income_type\n",
       "безработный        366413.652744\n",
       "в декрете            3296.759962\n",
       "госслужащий          2689.368353\n",
       "компаньон            1547.382223\n",
       "пенсионер          365213.306266\n",
       "предприниматель       520.848083\n",
       "сотрудник            1574.202821\n",
       "студент               578.751554\n",
       "Name: days_employed, dtype: float64"
      ]
     },
     "execution_count": 14,
     "metadata": {},
     "output_type": "execute_result"
    }
   ],
   "source": [
    "data.groupby('income_type')['days_employed'].agg('median')"
   ]
  },
  {
   "cell_type": "markdown",
   "id": "ce12e47b",
   "metadata": {
    "id": "38d1a030"
   },
   "source": [
    "У двух типов (безработные и пенсионеры) аномально большие значения. \n",
    "\n",
    "Поскольку столбец не понадобится для исследования, оставим значения как есть."
   ]
  },
  {
   "cell_type": "code",
   "execution_count": 15,
   "id": "06c31f6b",
   "metadata": {
    "deletable": false,
    "id": "ef5056eb",
    "outputId": "6975b15c-7f95-4697-d16d-a0c79b657b03"
   },
   "outputs": [
    {
     "data": {
      "text/plain": [
       "array([ 1,  0,  3,  2, -1,  4, 20,  5], dtype=int64)"
      ]
     },
     "execution_count": 15,
     "metadata": {},
     "output_type": "execute_result"
    }
   ],
   "source": [
    "data['children'].unique()"
   ]
  },
  {
   "cell_type": "markdown",
   "id": "5350d13c",
   "metadata": {
    "id": "40b9ebf2"
   },
   "source": [
    "В столбце `children` есть два аномальных значения. \n",
    "\n",
    "Удалим строки, в которых встречаются такие аномальные значения."
   ]
  },
  {
   "cell_type": "code",
   "execution_count": 16,
   "id": "66f13a0c",
   "metadata": {
    "deletable": false,
    "id": "3ff9801d"
   },
   "outputs": [],
   "source": [
    "data = data[(data['children'] != -1) & (data['children'] != 20)]"
   ]
  },
  {
   "cell_type": "code",
   "execution_count": 17,
   "id": "2333fece",
   "metadata": {
    "deletable": false,
    "id": "ad4fa8b7",
    "outputId": "b2097101-d49d-44d9-901b-32a65c9463d1"
   },
   "outputs": [
    {
     "data": {
      "text/plain": [
       "array([1, 0, 3, 2, 4, 5], dtype=int64)"
      ]
     },
     "execution_count": 17,
     "metadata": {},
     "output_type": "execute_result"
    }
   ],
   "source": [
    "data['children'].unique()"
   ]
  },
  {
   "cell_type": "markdown",
   "id": "1289e5c5",
   "metadata": {
    "deletable": false,
    "editable": false,
    "id": "75440b63"
   },
   "source": [
    "### Удаление пропусков (продолжение)"
   ]
  },
  {
   "cell_type": "markdown",
   "id": "04f2e70c",
   "metadata": {
    "id": "f4ea573f"
   },
   "source": [
    "Заполним пропуски в столбце `days_employed` медианными значениями по каждого типа занятости `income_type`."
   ]
  },
  {
   "cell_type": "code",
   "execution_count": 18,
   "id": "570f43ce",
   "metadata": {
    "deletable": false,
    "id": "af6b1a7e"
   },
   "outputs": [],
   "source": [
    "for t in data['income_type'].unique():\n",
    "    data.loc[(data['income_type'] == t) & (data['days_employed'].isna()), 'days_employed'] = \\\n",
    "    data.loc[(data['income_type'] == t), 'days_employed'].median()"
   ]
  },
  {
   "cell_type": "code",
   "execution_count": 19,
   "id": "744dff5e",
   "metadata": {
    "deletable": false,
    "id": "55f78bc2",
    "outputId": "8da1e4e1-358e-4e87-98c9-f261bce0a7b2"
   },
   "outputs": [
    {
     "data": {
      "text/plain": [
       "children            0\n",
       "days_employed       0\n",
       "dob_years           0\n",
       "education           0\n",
       "education_id        0\n",
       "family_status       0\n",
       "family_status_id    0\n",
       "gender              0\n",
       "income_type         0\n",
       "debt                0\n",
       "total_income        0\n",
       "purpose             0\n",
       "dtype: int64"
      ]
     },
     "execution_count": 19,
     "metadata": {},
     "output_type": "execute_result"
    }
   ],
   "source": [
    "data.isna().sum()"
   ]
  },
  {
   "cell_type": "markdown",
   "id": "22b5edb2",
   "metadata": {
    "deletable": false,
    "editable": false,
    "id": "ddc81e43"
   },
   "source": [
    "### Изменение типов данных"
   ]
  },
  {
   "cell_type": "markdown",
   "id": "a3c768c6",
   "metadata": {
    "id": "42d19d24"
   },
   "source": [
    "Заменим вещественный тип данных в столбце `total_income` на целочисленный."
   ]
  },
  {
   "cell_type": "code",
   "execution_count": 20,
   "id": "edc7776b",
   "metadata": {
    "deletable": false,
    "id": "920b65ad"
   },
   "outputs": [],
   "source": [
    "data['total_income'] = data['total_income'].astype(int)"
   ]
  },
  {
   "cell_type": "markdown",
   "id": "2aae9808",
   "metadata": {
    "deletable": false,
    "editable": false,
    "id": "80c420ba"
   },
   "source": [
    "### Обработка дубликатов"
   ]
  },
  {
   "cell_type": "code",
   "execution_count": 21,
   "id": "d252de84",
   "metadata": {},
   "outputs": [
    {
     "data": {
      "text/plain": [
       "array(['высшее', 'среднее', 'Среднее', 'СРЕДНЕЕ', 'ВЫСШЕЕ',\n",
       "       'неоконченное высшее', 'начальное', 'Высшее',\n",
       "       'НЕОКОНЧЕННОЕ ВЫСШЕЕ', 'Неоконченное высшее', 'НАЧАЛЬНОЕ',\n",
       "       'Начальное', 'Ученая степень', 'УЧЕНАЯ СТЕПЕНЬ', 'ученая степень'],\n",
       "      dtype=object)"
      ]
     },
     "execution_count": 21,
     "metadata": {},
     "output_type": "execute_result"
    }
   ],
   "source": [
    "data['education'].unique()"
   ]
  },
  {
   "cell_type": "markdown",
   "id": "e90b431c",
   "metadata": {},
   "source": [
    "В столбце `education` имеются неявные дубликаты. \n",
    "\n",
    "Обработаем их, приведя к нижнему регистру."
   ]
  },
  {
   "cell_type": "code",
   "execution_count": 22,
   "id": "4a51a253",
   "metadata": {
    "deletable": false
   },
   "outputs": [],
   "source": [
    "data['education'] = data['education'].str.lower()"
   ]
  },
  {
   "cell_type": "markdown",
   "id": "b4f71d6b",
   "metadata": {},
   "source": [
    "Проверим наличие неявных дубликатов в остальных столбцах."
   ]
  },
  {
   "cell_type": "code",
   "execution_count": 23,
   "id": "32919004",
   "metadata": {},
   "outputs": [
    {
     "name": "stdout",
     "output_type": "stream",
     "text": [
      "family_status:\n"
     ]
    },
    {
     "data": {
      "text/plain": [
       "array(['женат / замужем', 'гражданский брак', 'вдовец / вдова',\n",
       "       'в разводе', 'Не женат / не замужем'], dtype=object)"
      ]
     },
     "metadata": {},
     "output_type": "display_data"
    },
    {
     "name": "stdout",
     "output_type": "stream",
     "text": [
      "gender:\n"
     ]
    },
    {
     "data": {
      "text/plain": [
       "array(['F', 'M', 'XNA'], dtype=object)"
      ]
     },
     "metadata": {},
     "output_type": "display_data"
    },
    {
     "name": "stdout",
     "output_type": "stream",
     "text": [
      "income_type:\n"
     ]
    },
    {
     "data": {
      "text/plain": [
       "array(['сотрудник', 'пенсионер', 'компаньон', 'госслужащий',\n",
       "       'безработный', 'предприниматель', 'студент', 'в декрете'],\n",
       "      dtype=object)"
      ]
     },
     "metadata": {},
     "output_type": "display_data"
    },
    {
     "name": "stdout",
     "output_type": "stream",
     "text": [
      "purpose:\n"
     ]
    },
    {
     "data": {
      "text/plain": [
       "array(['покупка жилья', 'приобретение автомобиля',\n",
       "       'дополнительное образование', 'сыграть свадьбу',\n",
       "       'операции с жильем', 'образование', 'на проведение свадьбы',\n",
       "       'покупка жилья для семьи', 'покупка недвижимости',\n",
       "       'покупка коммерческой недвижимости', 'покупка жилой недвижимости',\n",
       "       'строительство собственной недвижимости', 'недвижимость',\n",
       "       'строительство недвижимости', 'на покупку подержанного автомобиля',\n",
       "       'на покупку своего автомобиля',\n",
       "       'операции с коммерческой недвижимостью',\n",
       "       'строительство жилой недвижимости', 'жилье',\n",
       "       'операции со своей недвижимостью', 'автомобили',\n",
       "       'заняться образованием', 'сделка с подержанным автомобилем',\n",
       "       'получение образования', 'автомобиль', 'свадьба',\n",
       "       'получение дополнительного образования', 'покупка своего жилья',\n",
       "       'операции с недвижимостью', 'получение высшего образования',\n",
       "       'свой автомобиль', 'сделка с автомобилем',\n",
       "       'профильное образование', 'высшее образование',\n",
       "       'покупка жилья для сдачи', 'на покупку автомобиля', 'ремонт жилью',\n",
       "       'заняться высшим образованием'], dtype=object)"
      ]
     },
     "metadata": {},
     "output_type": "display_data"
    }
   ],
   "source": [
    "for col in ['family_status', 'gender', 'income_type', 'purpose']:\n",
    "    print(f'{col}:')\n",
    "    display(data[col].unique())"
   ]
  },
  {
   "cell_type": "markdown",
   "id": "7239406f",
   "metadata": {},
   "source": [
    "В столбце `purpose` имеются неявные дубликаты. Обработаем их чуть позже."
   ]
  },
  {
   "cell_type": "markdown",
   "id": "ed30e404",
   "metadata": {
    "id": "dc587695"
   },
   "source": [
    "Проверим существование явных дубликатов."
   ]
  },
  {
   "cell_type": "code",
   "execution_count": 24,
   "id": "585d5f3c",
   "metadata": {
    "deletable": false,
    "id": "3ee445e4",
    "outputId": "9684deba-1934-42d1-99e1-cda61740f822"
   },
   "outputs": [
    {
     "data": {
      "text/plain": [
       "71"
      ]
     },
     "execution_count": 24,
     "metadata": {},
     "output_type": "execute_result"
    }
   ],
   "source": [
    "data.duplicated().sum()"
   ]
  },
  {
   "cell_type": "markdown",
   "id": "f1c9c872",
   "metadata": {},
   "source": [
    "Удалим дубликаты."
   ]
  },
  {
   "cell_type": "code",
   "execution_count": 25,
   "id": "4bee8458",
   "metadata": {
    "deletable": false,
    "id": "8575fe05"
   },
   "outputs": [],
   "source": [
    "data = data.drop_duplicates()"
   ]
  },
  {
   "cell_type": "markdown",
   "id": "008736ad",
   "metadata": {
    "deletable": false,
    "editable": false,
    "id": "9904cf55"
   },
   "source": [
    "### Категоризация данных"
   ]
  },
  {
   "cell_type": "markdown",
   "id": "03d14c01",
   "metadata": {
    "id": "72fcc8a2"
   },
   "source": [
    "Создадим в датафрейме столбец `total_income_category` с категориями на основе следующих диапазонов:\n",
    "- 0–30000 — `'E'`;\n",
    "- 30001–50000 — `'D'`;\n",
    "- 50001–200000 — `'C'`;\n",
    "- 200001–1000000 — `'B'`;\n",
    "- 1000001 и выше — `'A'`.\n",
    "\n",
    "\n",
    "Для этого создадим функцию `categorize_income()` и применим ее к столбцу `total_income`."
   ]
  },
  {
   "cell_type": "code",
   "execution_count": 26,
   "id": "19875077",
   "metadata": {
    "deletable": false,
    "id": "e1771346"
   },
   "outputs": [],
   "source": [
    "def categorize_income(income):\n",
    "    try:\n",
    "        if 0 <= income <= 30000:\n",
    "            return 'E'\n",
    "        elif 30001 <= income <= 50000:\n",
    "            return 'D'\n",
    "        elif 50001 <= income <= 200000:\n",
    "            return 'C'\n",
    "        elif 200001 <= income <= 1000000:\n",
    "            return 'B'\n",
    "        elif income >= 1000001:\n",
    "            return 'A'\n",
    "    except:\n",
    "        pass"
   ]
  },
  {
   "cell_type": "code",
   "execution_count": 27,
   "id": "f96c009b",
   "metadata": {
    "deletable": false,
    "id": "d5f3586d"
   },
   "outputs": [],
   "source": [
    "data['total_income_category'] = data['total_income'].apply(categorize_income)"
   ]
  },
  {
   "cell_type": "code",
   "execution_count": 28,
   "id": "74cdbd8e",
   "metadata": {},
   "outputs": [
    {
     "data": {
      "text/plain": [
       "0"
      ]
     },
     "execution_count": 28,
     "metadata": {},
     "output_type": "execute_result"
    }
   ],
   "source": [
    "data['total_income_category'].isna().sum()"
   ]
  },
  {
   "cell_type": "markdown",
   "id": "55ce7606",
   "metadata": {
    "id": "85d0aef0"
   },
   "source": [
    "На основании данных из столбца `purpose` сформируем новый столбец `purpose_category`, в который войдут следующие категории:\n",
    "- `'операции с автомобилем'`,\n",
    "- `'операции с недвижимостью'`,\n",
    "- `'проведение свадьбы'`,\n",
    "- `'получение образования'`.\n",
    "\n",
    "Для этого создадим функцию `categorize_purpose()` и применим ее к столбцу `purpose`."
   ]
  },
  {
   "cell_type": "code",
   "execution_count": 29,
   "id": "d454a746",
   "metadata": {
    "deletable": false,
    "id": "e149fab4"
   },
   "outputs": [],
   "source": [
    "def categorize_purpose(row):\n",
    "    try:\n",
    "        if 'автом' in row:\n",
    "            return 'операции с автомобилем'\n",
    "        elif 'жил' in row or 'недвиж' in row:\n",
    "            return 'операции с недвижимостью'\n",
    "        elif 'свад' in row:\n",
    "            return 'проведение свадьбы'\n",
    "        elif 'образов' in row:\n",
    "            return 'получение образования'\n",
    "    except:\n",
    "        return 'нет категории'"
   ]
  },
  {
   "cell_type": "code",
   "execution_count": 30,
   "id": "6b6889a7",
   "metadata": {
    "deletable": false,
    "id": "bf36e69b"
   },
   "outputs": [],
   "source": [
    "data['purpose_category'] = data['purpose'].apply(categorize_purpose)"
   ]
  },
  {
   "cell_type": "markdown",
   "id": "03e028f4",
   "metadata": {
    "id": "09b242bf"
   },
   "source": [
    "## Исследование данных и ответы на вопросы"
   ]
  },
  {
   "cell_type": "markdown",
   "id": "7c206c09",
   "metadata": {
    "id": "c5d66278"
   },
   "source": [
    "### Есть ли зависимость между количеством детей и возвратом кредита в срок?"
   ]
  },
  {
   "cell_type": "code",
   "execution_count": 31,
   "id": "26e5fdef",
   "metadata": {
    "deletable": false,
    "id": "2cacfc4a",
    "scrolled": true
   },
   "outputs": [
    {
     "data": {
      "text/html": [
       "<div>\n",
       "<style scoped>\n",
       "    .dataframe tbody tr th:only-of-type {\n",
       "        vertical-align: middle;\n",
       "    }\n",
       "\n",
       "    .dataframe tbody tr th {\n",
       "        vertical-align: top;\n",
       "    }\n",
       "\n",
       "    .dataframe thead th {\n",
       "        text-align: right;\n",
       "    }\n",
       "</style>\n",
       "<table border=\"1\" class=\"dataframe\">\n",
       "  <thead>\n",
       "    <tr style=\"text-align: right;\">\n",
       "      <th></th>\n",
       "      <th>children</th>\n",
       "      <th>debt</th>\n",
       "    </tr>\n",
       "  </thead>\n",
       "  <tbody>\n",
       "    <tr>\n",
       "      <th>0</th>\n",
       "      <td>0</td>\n",
       "      <td>7.543822</td>\n",
       "    </tr>\n",
       "    <tr>\n",
       "      <th>1</th>\n",
       "      <td>1</td>\n",
       "      <td>9.234609</td>\n",
       "    </tr>\n",
       "    <tr>\n",
       "      <th>2</th>\n",
       "      <td>2</td>\n",
       "      <td>9.454191</td>\n",
       "    </tr>\n",
       "    <tr>\n",
       "      <th>3</th>\n",
       "      <td>3</td>\n",
       "      <td>8.181818</td>\n",
       "    </tr>\n",
       "    <tr>\n",
       "      <th>4</th>\n",
       "      <td>4</td>\n",
       "      <td>9.756098</td>\n",
       "    </tr>\n",
       "    <tr>\n",
       "      <th>5</th>\n",
       "      <td>5</td>\n",
       "      <td>0.000000</td>\n",
       "    </tr>\n",
       "  </tbody>\n",
       "</table>\n",
       "</div>"
      ],
      "text/plain": [
       "   children      debt\n",
       "0         0  7.543822\n",
       "1         1  9.234609\n",
       "2         2  9.454191\n",
       "3         3  8.181818\n",
       "4         4  9.756098\n",
       "5         5  0.000000"
      ]
     },
     "execution_count": 31,
     "metadata": {},
     "output_type": "execute_result"
    }
   ],
   "source": [
    "pd.DataFrame(data.groupby('children')['debt'].mean() * 100).reset_index()"
   ]
  },
  {
   "cell_type": "code",
   "execution_count": 32,
   "id": "9c1aadb4",
   "metadata": {},
   "outputs": [
    {
     "data": {
      "text/html": [
       "<div>\n",
       "<style scoped>\n",
       "    .dataframe tbody tr th:only-of-type {\n",
       "        vertical-align: middle;\n",
       "    }\n",
       "\n",
       "    .dataframe tbody tr th {\n",
       "        vertical-align: top;\n",
       "    }\n",
       "\n",
       "    .dataframe thead th {\n",
       "        text-align: right;\n",
       "    }\n",
       "</style>\n",
       "<table border=\"1\" class=\"dataframe\">\n",
       "  <thead>\n",
       "    <tr style=\"text-align: right;\">\n",
       "      <th></th>\n",
       "      <th>children</th>\n",
       "      <th>days_employed</th>\n",
       "      <th>dob_years</th>\n",
       "      <th>education</th>\n",
       "      <th>education_id</th>\n",
       "      <th>family_status</th>\n",
       "      <th>family_status_id</th>\n",
       "      <th>gender</th>\n",
       "      <th>income_type</th>\n",
       "      <th>debt</th>\n",
       "      <th>total_income</th>\n",
       "      <th>purpose</th>\n",
       "      <th>total_income_category</th>\n",
       "      <th>purpose_category</th>\n",
       "    </tr>\n",
       "  </thead>\n",
       "  <tbody>\n",
       "    <tr>\n",
       "      <th>3979</th>\n",
       "      <td>5</td>\n",
       "      <td>1572.328285</td>\n",
       "      <td>42</td>\n",
       "      <td>среднее</td>\n",
       "      <td>1</td>\n",
       "      <td>гражданский брак</td>\n",
       "      <td>1</td>\n",
       "      <td>M</td>\n",
       "      <td>сотрудник</td>\n",
       "      <td>0</td>\n",
       "      <td>142594</td>\n",
       "      <td>на покупку своего автомобиля</td>\n",
       "      <td>C</td>\n",
       "      <td>операции с автомобилем</td>\n",
       "    </tr>\n",
       "    <tr>\n",
       "      <th>4397</th>\n",
       "      <td>5</td>\n",
       "      <td>3248.839837</td>\n",
       "      <td>36</td>\n",
       "      <td>среднее</td>\n",
       "      <td>1</td>\n",
       "      <td>женат / замужем</td>\n",
       "      <td>0</td>\n",
       "      <td>F</td>\n",
       "      <td>компаньон</td>\n",
       "      <td>0</td>\n",
       "      <td>168460</td>\n",
       "      <td>операции с недвижимостью</td>\n",
       "      <td>C</td>\n",
       "      <td>операции с недвижимостью</td>\n",
       "    </tr>\n",
       "    <tr>\n",
       "      <th>7866</th>\n",
       "      <td>5</td>\n",
       "      <td>773.124856</td>\n",
       "      <td>36</td>\n",
       "      <td>среднее</td>\n",
       "      <td>1</td>\n",
       "      <td>женат / замужем</td>\n",
       "      <td>0</td>\n",
       "      <td>F</td>\n",
       "      <td>сотрудник</td>\n",
       "      <td>0</td>\n",
       "      <td>48772</td>\n",
       "      <td>операции с жильем</td>\n",
       "      <td>D</td>\n",
       "      <td>операции с недвижимостью</td>\n",
       "    </tr>\n",
       "    <tr>\n",
       "      <th>15822</th>\n",
       "      <td>5</td>\n",
       "      <td>418.199982</td>\n",
       "      <td>31</td>\n",
       "      <td>среднее</td>\n",
       "      <td>1</td>\n",
       "      <td>женат / замужем</td>\n",
       "      <td>0</td>\n",
       "      <td>F</td>\n",
       "      <td>сотрудник</td>\n",
       "      <td>0</td>\n",
       "      <td>77552</td>\n",
       "      <td>сделка с подержанным автомобилем</td>\n",
       "      <td>C</td>\n",
       "      <td>операции с автомобилем</td>\n",
       "    </tr>\n",
       "    <tr>\n",
       "      <th>15916</th>\n",
       "      <td>5</td>\n",
       "      <td>2286.262752</td>\n",
       "      <td>37</td>\n",
       "      <td>среднее</td>\n",
       "      <td>1</td>\n",
       "      <td>женат / замужем</td>\n",
       "      <td>0</td>\n",
       "      <td>F</td>\n",
       "      <td>сотрудник</td>\n",
       "      <td>0</td>\n",
       "      <td>256698</td>\n",
       "      <td>покупка недвижимости</td>\n",
       "      <td>B</td>\n",
       "      <td>операции с недвижимостью</td>\n",
       "    </tr>\n",
       "    <tr>\n",
       "      <th>16211</th>\n",
       "      <td>5</td>\n",
       "      <td>387.317579</td>\n",
       "      <td>35</td>\n",
       "      <td>среднее</td>\n",
       "      <td>1</td>\n",
       "      <td>гражданский брак</td>\n",
       "      <td>1</td>\n",
       "      <td>F</td>\n",
       "      <td>госслужащий</td>\n",
       "      <td>0</td>\n",
       "      <td>126102</td>\n",
       "      <td>на проведение свадьбы</td>\n",
       "      <td>C</td>\n",
       "      <td>проведение свадьбы</td>\n",
       "    </tr>\n",
       "    <tr>\n",
       "      <th>20452</th>\n",
       "      <td>5</td>\n",
       "      <td>268.425464</td>\n",
       "      <td>38</td>\n",
       "      <td>начальное</td>\n",
       "      <td>3</td>\n",
       "      <td>женат / замужем</td>\n",
       "      <td>0</td>\n",
       "      <td>F</td>\n",
       "      <td>сотрудник</td>\n",
       "      <td>0</td>\n",
       "      <td>212545</td>\n",
       "      <td>заняться высшим образованием</td>\n",
       "      <td>B</td>\n",
       "      <td>получение образования</td>\n",
       "    </tr>\n",
       "    <tr>\n",
       "      <th>20837</th>\n",
       "      <td>5</td>\n",
       "      <td>2386.600221</td>\n",
       "      <td>35</td>\n",
       "      <td>среднее</td>\n",
       "      <td>1</td>\n",
       "      <td>женат / замужем</td>\n",
       "      <td>0</td>\n",
       "      <td>F</td>\n",
       "      <td>компаньон</td>\n",
       "      <td>0</td>\n",
       "      <td>204241</td>\n",
       "      <td>жилье</td>\n",
       "      <td>B</td>\n",
       "      <td>операции с недвижимостью</td>\n",
       "    </tr>\n",
       "    <tr>\n",
       "      <th>21156</th>\n",
       "      <td>5</td>\n",
       "      <td>1690.018117</td>\n",
       "      <td>59</td>\n",
       "      <td>среднее</td>\n",
       "      <td>1</td>\n",
       "      <td>женат / замужем</td>\n",
       "      <td>0</td>\n",
       "      <td>M</td>\n",
       "      <td>сотрудник</td>\n",
       "      <td>0</td>\n",
       "      <td>269068</td>\n",
       "      <td>операции со своей недвижимостью</td>\n",
       "      <td>B</td>\n",
       "      <td>операции с недвижимостью</td>\n",
       "    </tr>\n",
       "  </tbody>\n",
       "</table>\n",
       "</div>"
      ],
      "text/plain": [
       "       children  days_employed  dob_years  education  education_id  \\\n",
       "3979          5    1572.328285         42    среднее             1   \n",
       "4397          5    3248.839837         36    среднее             1   \n",
       "7866          5     773.124856         36    среднее             1   \n",
       "15822         5     418.199982         31    среднее             1   \n",
       "15916         5    2286.262752         37    среднее             1   \n",
       "16211         5     387.317579         35    среднее             1   \n",
       "20452         5     268.425464         38  начальное             3   \n",
       "20837         5    2386.600221         35    среднее             1   \n",
       "21156         5    1690.018117         59    среднее             1   \n",
       "\n",
       "          family_status  family_status_id gender  income_type  debt  \\\n",
       "3979   гражданский брак                 1      M    сотрудник     0   \n",
       "4397    женат / замужем                 0      F    компаньон     0   \n",
       "7866    женат / замужем                 0      F    сотрудник     0   \n",
       "15822   женат / замужем                 0      F    сотрудник     0   \n",
       "15916   женат / замужем                 0      F    сотрудник     0   \n",
       "16211  гражданский брак                 1      F  госслужащий     0   \n",
       "20452   женат / замужем                 0      F    сотрудник     0   \n",
       "20837   женат / замужем                 0      F    компаньон     0   \n",
       "21156   женат / замужем                 0      M    сотрудник     0   \n",
       "\n",
       "       total_income                           purpose total_income_category  \\\n",
       "3979         142594      на покупку своего автомобиля                     C   \n",
       "4397         168460          операции с недвижимостью                     C   \n",
       "7866          48772                 операции с жильем                     D   \n",
       "15822         77552  сделка с подержанным автомобилем                     C   \n",
       "15916        256698              покупка недвижимости                     B   \n",
       "16211        126102             на проведение свадьбы                     C   \n",
       "20452        212545      заняться высшим образованием                     B   \n",
       "20837        204241                             жилье                     B   \n",
       "21156        269068   операции со своей недвижимостью                     B   \n",
       "\n",
       "               purpose_category  \n",
       "3979     операции с автомобилем  \n",
       "4397   операции с недвижимостью  \n",
       "7866   операции с недвижимостью  \n",
       "15822    операции с автомобилем  \n",
       "15916  операции с недвижимостью  \n",
       "16211        проведение свадьбы  \n",
       "20452     получение образования  \n",
       "20837  операции с недвижимостью  \n",
       "21156  операции с недвижимостью  "
      ]
     },
     "execution_count": 32,
     "metadata": {},
     "output_type": "execute_result"
    }
   ],
   "source": [
    "data[data['children'] == 5]"
   ]
  },
  {
   "cell_type": "markdown",
   "id": "3a4e324b",
   "metadata": {
    "deletable": false,
    "id": "3a6b99ec"
   },
   "source": [
    "**Вывод** \n",
    "\n",
    "Кредитополучатели без детей являются более ответственными, чем клиенты, у которых есть дети. Видимо, наличие ребенка накладывает дополнительное финансовое бремя, и клиенты либо менее ответственно относятся к своим кредитным обязательствам, либо не имеют возможности гасить кредит в срок.\n",
    "\n",
    "Также нет должников среди клиентов, у которых пятеро детей. Однако из-за того, что во всем наборе данных таких клиентов всего девять, утверждать, что клиенты с пятью детьми в семье так же хорошо платят по кредитам, как и клиенты без детей, нельзя."
   ]
  },
  {
   "cell_type": "markdown",
   "id": "c2cc95b4",
   "metadata": {
    "id": "97be82ca"
   },
   "source": [
    "### Есть ли зависимость между семейным положением и возвратом кредита в срок?"
   ]
  },
  {
   "cell_type": "code",
   "execution_count": 33,
   "id": "a7f81660",
   "metadata": {},
   "outputs": [
    {
     "data": {
      "text/html": [
       "<div>\n",
       "<style scoped>\n",
       "    .dataframe tbody tr th:only-of-type {\n",
       "        vertical-align: middle;\n",
       "    }\n",
       "\n",
       "    .dataframe tbody tr th {\n",
       "        vertical-align: top;\n",
       "    }\n",
       "\n",
       "    .dataframe thead th {\n",
       "        text-align: right;\n",
       "    }\n",
       "</style>\n",
       "<table border=\"1\" class=\"dataframe\">\n",
       "  <thead>\n",
       "    <tr style=\"text-align: right;\">\n",
       "      <th></th>\n",
       "      <th>family_status</th>\n",
       "      <th>debt</th>\n",
       "    </tr>\n",
       "  </thead>\n",
       "  <tbody>\n",
       "    <tr>\n",
       "      <th>0</th>\n",
       "      <td>Не женат / не замужем</td>\n",
       "      <td>9.763948</td>\n",
       "    </tr>\n",
       "    <tr>\n",
       "      <th>1</th>\n",
       "      <td>в разводе</td>\n",
       "      <td>7.064760</td>\n",
       "    </tr>\n",
       "    <tr>\n",
       "      <th>2</th>\n",
       "      <td>вдовец / вдова</td>\n",
       "      <td>6.624606</td>\n",
       "    </tr>\n",
       "    <tr>\n",
       "      <th>3</th>\n",
       "      <td>гражданский брак</td>\n",
       "      <td>9.313014</td>\n",
       "    </tr>\n",
       "    <tr>\n",
       "      <th>4</th>\n",
       "      <td>женат / замужем</td>\n",
       "      <td>7.560558</td>\n",
       "    </tr>\n",
       "  </tbody>\n",
       "</table>\n",
       "</div>"
      ],
      "text/plain": [
       "           family_status      debt\n",
       "0  Не женат / не замужем  9.763948\n",
       "1              в разводе  7.064760\n",
       "2         вдовец / вдова  6.624606\n",
       "3       гражданский брак  9.313014\n",
       "4        женат / замужем  7.560558"
      ]
     },
     "execution_count": 33,
     "metadata": {},
     "output_type": "execute_result"
    }
   ],
   "source": [
    "fam_stat_group = pd.DataFrame(data.groupby('family_status')['debt'].mean() * 100).reset_index()\n",
    "fam_stat_group"
   ]
  },
  {
   "cell_type": "markdown",
   "id": "23c6f587",
   "metadata": {},
   "source": [
    "Укрупним группы до `'Были (сейчас) женаты официально'` и `'Не были женаты официально'`."
   ]
  },
  {
   "cell_type": "code",
   "execution_count": 34,
   "id": "f9f1269b",
   "metadata": {},
   "outputs": [
    {
     "data": {
      "text/html": [
       "<div>\n",
       "<style scoped>\n",
       "    .dataframe tbody tr th:only-of-type {\n",
       "        vertical-align: middle;\n",
       "    }\n",
       "\n",
       "    .dataframe tbody tr th {\n",
       "        vertical-align: top;\n",
       "    }\n",
       "\n",
       "    .dataframe thead th {\n",
       "        text-align: right;\n",
       "    }\n",
       "</style>\n",
       "<table border=\"1\" class=\"dataframe\">\n",
       "  <thead>\n",
       "    <tr style=\"text-align: right;\">\n",
       "      <th></th>\n",
       "      <th>family_status_group</th>\n",
       "      <th>debt</th>\n",
       "    </tr>\n",
       "  </thead>\n",
       "  <tbody>\n",
       "    <tr>\n",
       "      <th>0</th>\n",
       "      <td>Были (сейчас) женаты официально</td>\n",
       "      <td>7.083308</td>\n",
       "    </tr>\n",
       "    <tr>\n",
       "      <th>1</th>\n",
       "      <td>Не были женаты официально</td>\n",
       "      <td>9.538481</td>\n",
       "    </tr>\n",
       "  </tbody>\n",
       "</table>\n",
       "</div>"
      ],
      "text/plain": [
       "               family_status_group      debt\n",
       "0  Были (сейчас) женаты официально  7.083308\n",
       "1        Не были женаты официально  9.538481"
      ]
     },
     "execution_count": 34,
     "metadata": {},
     "output_type": "execute_result"
    }
   ],
   "source": [
    "family_status_group = {\n",
    "    'Были (сейчас) женаты официально': ['в разводе', 'вдовец / вдова', 'женат / замужем'],\n",
    "    'Не были женаты официально': ['Не женат / не замужем', 'гражданский брак']\n",
    "}\n",
    "\n",
    "debt = []\n",
    "\n",
    "for status, statuses in family_status_group.items():\n",
    "    mean_debt = fam_stat_group[fam_stat_group['family_status'].isin(statuses)]['debt'].mean()\n",
    "    debt.append((status, mean_debt))\n",
    "    \n",
    "pd.DataFrame(debt, columns=['family_status_group', 'debt'])"
   ]
  },
  {
   "cell_type": "markdown",
   "id": "77cec5ee",
   "metadata": {
    "deletable": false,
    "id": "1cef7837"
   },
   "source": [
    "**Вывод** \n",
    "\n",
    "Менее ответственными являются клиенты, которые не состоят или не состояли в браке. Узаконенные отношения (включая и бывшие отношения) ведут к более ответственному отношению к своим обязательствам."
   ]
  },
  {
   "cell_type": "markdown",
   "id": "e47a319f",
   "metadata": {
    "id": "1e8b2fca"
   },
   "source": [
    "### Есть ли зависимость между уровнем дохода и возвратом кредита в срок?"
   ]
  },
  {
   "cell_type": "code",
   "execution_count": 35,
   "id": "c8d6ce5c",
   "metadata": {},
   "outputs": [
    {
     "data": {
      "text/html": [
       "<div>\n",
       "<style scoped>\n",
       "    .dataframe tbody tr th:only-of-type {\n",
       "        vertical-align: middle;\n",
       "    }\n",
       "\n",
       "    .dataframe tbody tr th {\n",
       "        vertical-align: top;\n",
       "    }\n",
       "\n",
       "    .dataframe thead th {\n",
       "        text-align: right;\n",
       "    }\n",
       "</style>\n",
       "<table border=\"1\" class=\"dataframe\">\n",
       "  <thead>\n",
       "    <tr style=\"text-align: right;\">\n",
       "      <th></th>\n",
       "      <th>total_income_category</th>\n",
       "      <th>debt</th>\n",
       "    </tr>\n",
       "  </thead>\n",
       "  <tbody>\n",
       "    <tr>\n",
       "      <th>0</th>\n",
       "      <td>A</td>\n",
       "      <td>8.000000</td>\n",
       "    </tr>\n",
       "    <tr>\n",
       "      <th>1</th>\n",
       "      <td>B</td>\n",
       "      <td>7.060231</td>\n",
       "    </tr>\n",
       "    <tr>\n",
       "      <th>2</th>\n",
       "      <td>C</td>\n",
       "      <td>8.498210</td>\n",
       "    </tr>\n",
       "    <tr>\n",
       "      <th>3</th>\n",
       "      <td>D</td>\n",
       "      <td>6.017192</td>\n",
       "    </tr>\n",
       "    <tr>\n",
       "      <th>4</th>\n",
       "      <td>E</td>\n",
       "      <td>9.090909</td>\n",
       "    </tr>\n",
       "  </tbody>\n",
       "</table>\n",
       "</div>"
      ],
      "text/plain": [
       "  total_income_category      debt\n",
       "0                     A  8.000000\n",
       "1                     B  7.060231\n",
       "2                     C  8.498210\n",
       "3                     D  6.017192\n",
       "4                     E  9.090909"
      ]
     },
     "execution_count": 35,
     "metadata": {},
     "output_type": "execute_result"
    }
   ],
   "source": [
    "pd.DataFrame(data.groupby('total_income_category')['debt'].mean() * 100).reset_index()"
   ]
  },
  {
   "cell_type": "markdown",
   "id": "ebcc7671",
   "metadata": {
    "deletable": false,
    "id": "e8593def"
   },
   "source": [
    "**Вывод** \n",
    "\n",
    "Выборка по заемщикам, как с наименьшим доходом, так и с наибольшим, крайне недостаточна для формирования однозначных выводов. Можно думать, что самая низкодоходная E-категория не может корректно распоряжаться деньгами и \"влезает\" в кредиты, но неясно почему у А-категории также достаточно высокий процент задолженности.\n",
    "\n",
    "Если опираться только на группы В, С и D, то по полученным данным не наблюдается зависимость \"те, кто получает больше ЗП, лучше возвращает кредит\"."
   ]
  },
  {
   "cell_type": "markdown",
   "id": "9246826a",
   "metadata": {
    "id": "99ecbd1f"
   },
   "source": [
    "### Как разные цели кредита влияют на его возврат в срок?"
   ]
  },
  {
   "cell_type": "code",
   "execution_count": 36,
   "id": "75efa2e1",
   "metadata": {},
   "outputs": [
    {
     "data": {
      "text/html": [
       "<div>\n",
       "<style scoped>\n",
       "    .dataframe tbody tr th:only-of-type {\n",
       "        vertical-align: middle;\n",
       "    }\n",
       "\n",
       "    .dataframe tbody tr th {\n",
       "        vertical-align: top;\n",
       "    }\n",
       "\n",
       "    .dataframe thead th {\n",
       "        text-align: right;\n",
       "    }\n",
       "</style>\n",
       "<table border=\"1\" class=\"dataframe\">\n",
       "  <thead>\n",
       "    <tr style=\"text-align: right;\">\n",
       "      <th></th>\n",
       "      <th>purpose_category</th>\n",
       "      <th>debt</th>\n",
       "    </tr>\n",
       "  </thead>\n",
       "  <tbody>\n",
       "    <tr>\n",
       "      <th>0</th>\n",
       "      <td>операции с автомобилем</td>\n",
       "      <td>9.347978</td>\n",
       "    </tr>\n",
       "    <tr>\n",
       "      <th>1</th>\n",
       "      <td>операции с недвижимостью</td>\n",
       "      <td>7.255139</td>\n",
       "    </tr>\n",
       "    <tr>\n",
       "      <th>2</th>\n",
       "      <td>получение образования</td>\n",
       "      <td>9.252758</td>\n",
       "    </tr>\n",
       "    <tr>\n",
       "      <th>3</th>\n",
       "      <td>проведение свадьбы</td>\n",
       "      <td>7.911803</td>\n",
       "    </tr>\n",
       "  </tbody>\n",
       "</table>\n",
       "</div>"
      ],
      "text/plain": [
       "           purpose_category      debt\n",
       "0    операции с автомобилем  9.347978\n",
       "1  операции с недвижимостью  7.255139\n",
       "2     получение образования  9.252758\n",
       "3        проведение свадьбы  7.911803"
      ]
     },
     "execution_count": 36,
     "metadata": {},
     "output_type": "execute_result"
    }
   ],
   "source": [
    "pd.DataFrame(data.groupby('purpose_category')['debt'].mean() * 100).reset_index()"
   ]
  },
  {
   "cell_type": "markdown",
   "id": "830bd834",
   "metadata": {
    "deletable": false,
    "id": "b4bb2ce6"
   },
   "source": [
    "**Вывод** \n",
    "\n",
    "Чаще в срок возвращаются кредиты, взятые на операции с недвижимостью и на проведение свадьбы."
   ]
  },
  {
   "cell_type": "markdown",
   "id": "deaa3744",
   "metadata": {
    "id": "09c3ac4c"
   },
   "source": [
    "### Приведите возможные причины появления пропусков в исходных данных."
   ]
  },
  {
   "cell_type": "markdown",
   "id": "94560005",
   "metadata": {
    "deletable": false,
    "id": "9da2ceda"
   },
   "source": [
    "*Ответ:* Отфильтровав данные следующей командой до этапа заполнения пропущенных значений можно увидеть, что все пропуски присутствуют в записях одновременно. Возможной причиной этого является техническая ошибка при формировании таблицы с исходными данными (либо некий сбой во время выгрузки данных на анализ; либо при объединении данных в единый файл, который также должен был передаваться на анализ; либо эти данные не собирались).\n"
   ]
  },
  {
   "cell_type": "code",
   "execution_count": 5,
   "id": "72a52548",
   "metadata": {},
   "outputs": [
    {
     "data": {
      "text/html": [
       "<div>\n",
       "<style scoped>\n",
       "    .dataframe tbody tr th:only-of-type {\n",
       "        vertical-align: middle;\n",
       "    }\n",
       "\n",
       "    .dataframe tbody tr th {\n",
       "        vertical-align: top;\n",
       "    }\n",
       "\n",
       "    .dataframe thead th {\n",
       "        text-align: right;\n",
       "    }\n",
       "</style>\n",
       "<table border=\"1\" class=\"dataframe\">\n",
       "  <thead>\n",
       "    <tr style=\"text-align: right;\">\n",
       "      <th></th>\n",
       "      <th>children</th>\n",
       "      <th>days_employed</th>\n",
       "      <th>dob_years</th>\n",
       "      <th>education</th>\n",
       "      <th>education_id</th>\n",
       "      <th>family_status</th>\n",
       "      <th>family_status_id</th>\n",
       "      <th>gender</th>\n",
       "      <th>income_type</th>\n",
       "      <th>debt</th>\n",
       "      <th>total_income</th>\n",
       "      <th>purpose</th>\n",
       "    </tr>\n",
       "  </thead>\n",
       "  <tbody>\n",
       "    <tr>\n",
       "      <th>12</th>\n",
       "      <td>0</td>\n",
       "      <td>NaN</td>\n",
       "      <td>65</td>\n",
       "      <td>среднее</td>\n",
       "      <td>1</td>\n",
       "      <td>гражданский брак</td>\n",
       "      <td>1</td>\n",
       "      <td>M</td>\n",
       "      <td>пенсионер</td>\n",
       "      <td>0</td>\n",
       "      <td>NaN</td>\n",
       "      <td>сыграть свадьбу</td>\n",
       "    </tr>\n",
       "    <tr>\n",
       "      <th>26</th>\n",
       "      <td>0</td>\n",
       "      <td>NaN</td>\n",
       "      <td>41</td>\n",
       "      <td>среднее</td>\n",
       "      <td>1</td>\n",
       "      <td>женат / замужем</td>\n",
       "      <td>0</td>\n",
       "      <td>M</td>\n",
       "      <td>госслужащий</td>\n",
       "      <td>0</td>\n",
       "      <td>NaN</td>\n",
       "      <td>образование</td>\n",
       "    </tr>\n",
       "    <tr>\n",
       "      <th>29</th>\n",
       "      <td>0</td>\n",
       "      <td>NaN</td>\n",
       "      <td>63</td>\n",
       "      <td>среднее</td>\n",
       "      <td>1</td>\n",
       "      <td>Не женат / не замужем</td>\n",
       "      <td>4</td>\n",
       "      <td>F</td>\n",
       "      <td>пенсионер</td>\n",
       "      <td>0</td>\n",
       "      <td>NaN</td>\n",
       "      <td>строительство жилой недвижимости</td>\n",
       "    </tr>\n",
       "    <tr>\n",
       "      <th>41</th>\n",
       "      <td>0</td>\n",
       "      <td>NaN</td>\n",
       "      <td>50</td>\n",
       "      <td>среднее</td>\n",
       "      <td>1</td>\n",
       "      <td>женат / замужем</td>\n",
       "      <td>0</td>\n",
       "      <td>F</td>\n",
       "      <td>госслужащий</td>\n",
       "      <td>0</td>\n",
       "      <td>NaN</td>\n",
       "      <td>сделка с подержанным автомобилем</td>\n",
       "    </tr>\n",
       "    <tr>\n",
       "      <th>55</th>\n",
       "      <td>0</td>\n",
       "      <td>NaN</td>\n",
       "      <td>54</td>\n",
       "      <td>среднее</td>\n",
       "      <td>1</td>\n",
       "      <td>гражданский брак</td>\n",
       "      <td>1</td>\n",
       "      <td>F</td>\n",
       "      <td>пенсионер</td>\n",
       "      <td>1</td>\n",
       "      <td>NaN</td>\n",
       "      <td>сыграть свадьбу</td>\n",
       "    </tr>\n",
       "    <tr>\n",
       "      <th>...</th>\n",
       "      <td>...</td>\n",
       "      <td>...</td>\n",
       "      <td>...</td>\n",
       "      <td>...</td>\n",
       "      <td>...</td>\n",
       "      <td>...</td>\n",
       "      <td>...</td>\n",
       "      <td>...</td>\n",
       "      <td>...</td>\n",
       "      <td>...</td>\n",
       "      <td>...</td>\n",
       "      <td>...</td>\n",
       "    </tr>\n",
       "    <tr>\n",
       "      <th>21489</th>\n",
       "      <td>2</td>\n",
       "      <td>NaN</td>\n",
       "      <td>47</td>\n",
       "      <td>Среднее</td>\n",
       "      <td>1</td>\n",
       "      <td>женат / замужем</td>\n",
       "      <td>0</td>\n",
       "      <td>M</td>\n",
       "      <td>компаньон</td>\n",
       "      <td>0</td>\n",
       "      <td>NaN</td>\n",
       "      <td>сделка с автомобилем</td>\n",
       "    </tr>\n",
       "    <tr>\n",
       "      <th>21495</th>\n",
       "      <td>1</td>\n",
       "      <td>NaN</td>\n",
       "      <td>50</td>\n",
       "      <td>среднее</td>\n",
       "      <td>1</td>\n",
       "      <td>гражданский брак</td>\n",
       "      <td>1</td>\n",
       "      <td>F</td>\n",
       "      <td>сотрудник</td>\n",
       "      <td>0</td>\n",
       "      <td>NaN</td>\n",
       "      <td>свадьба</td>\n",
       "    </tr>\n",
       "    <tr>\n",
       "      <th>21497</th>\n",
       "      <td>0</td>\n",
       "      <td>NaN</td>\n",
       "      <td>48</td>\n",
       "      <td>ВЫСШЕЕ</td>\n",
       "      <td>0</td>\n",
       "      <td>женат / замужем</td>\n",
       "      <td>0</td>\n",
       "      <td>F</td>\n",
       "      <td>компаньон</td>\n",
       "      <td>0</td>\n",
       "      <td>NaN</td>\n",
       "      <td>строительство недвижимости</td>\n",
       "    </tr>\n",
       "    <tr>\n",
       "      <th>21502</th>\n",
       "      <td>1</td>\n",
       "      <td>NaN</td>\n",
       "      <td>42</td>\n",
       "      <td>среднее</td>\n",
       "      <td>1</td>\n",
       "      <td>женат / замужем</td>\n",
       "      <td>0</td>\n",
       "      <td>F</td>\n",
       "      <td>сотрудник</td>\n",
       "      <td>0</td>\n",
       "      <td>NaN</td>\n",
       "      <td>строительство жилой недвижимости</td>\n",
       "    </tr>\n",
       "    <tr>\n",
       "      <th>21510</th>\n",
       "      <td>2</td>\n",
       "      <td>NaN</td>\n",
       "      <td>28</td>\n",
       "      <td>среднее</td>\n",
       "      <td>1</td>\n",
       "      <td>женат / замужем</td>\n",
       "      <td>0</td>\n",
       "      <td>F</td>\n",
       "      <td>сотрудник</td>\n",
       "      <td>0</td>\n",
       "      <td>NaN</td>\n",
       "      <td>приобретение автомобиля</td>\n",
       "    </tr>\n",
       "  </tbody>\n",
       "</table>\n",
       "<p>2174 rows × 12 columns</p>\n",
       "</div>"
      ],
      "text/plain": [
       "       children  days_employed  dob_years education  education_id  \\\n",
       "12            0            NaN         65   среднее             1   \n",
       "26            0            NaN         41   среднее             1   \n",
       "29            0            NaN         63   среднее             1   \n",
       "41            0            NaN         50   среднее             1   \n",
       "55            0            NaN         54   среднее             1   \n",
       "...         ...            ...        ...       ...           ...   \n",
       "21489         2            NaN         47   Среднее             1   \n",
       "21495         1            NaN         50   среднее             1   \n",
       "21497         0            NaN         48    ВЫСШЕЕ             0   \n",
       "21502         1            NaN         42   среднее             1   \n",
       "21510         2            NaN         28   среднее             1   \n",
       "\n",
       "               family_status  family_status_id gender  income_type  debt  \\\n",
       "12          гражданский брак                 1      M    пенсионер     0   \n",
       "26           женат / замужем                 0      M  госслужащий     0   \n",
       "29     Не женат / не замужем                 4      F    пенсионер     0   \n",
       "41           женат / замужем                 0      F  госслужащий     0   \n",
       "55          гражданский брак                 1      F    пенсионер     1   \n",
       "...                      ...               ...    ...          ...   ...   \n",
       "21489        женат / замужем                 0      M    компаньон     0   \n",
       "21495       гражданский брак                 1      F    сотрудник     0   \n",
       "21497        женат / замужем                 0      F    компаньон     0   \n",
       "21502        женат / замужем                 0      F    сотрудник     0   \n",
       "21510        женат / замужем                 0      F    сотрудник     0   \n",
       "\n",
       "       total_income                           purpose  \n",
       "12              NaN                   сыграть свадьбу  \n",
       "26              NaN                       образование  \n",
       "29              NaN  строительство жилой недвижимости  \n",
       "41              NaN  сделка с подержанным автомобилем  \n",
       "55              NaN                   сыграть свадьбу  \n",
       "...             ...                               ...  \n",
       "21489           NaN              сделка с автомобилем  \n",
       "21495           NaN                           свадьба  \n",
       "21497           NaN        строительство недвижимости  \n",
       "21502           NaN  строительство жилой недвижимости  \n",
       "21510           NaN           приобретение автомобиля  \n",
       "\n",
       "[2174 rows x 12 columns]"
      ]
     },
     "execution_count": 5,
     "metadata": {},
     "output_type": "execute_result"
    }
   ],
   "source": [
    "data[(data['days_employed'].isna()) & (data['total_income'].isna())]"
   ]
  },
  {
   "cell_type": "markdown",
   "id": "43baaff0",
   "metadata": {
    "id": "7b0487d6"
   },
   "source": [
    "### Объясните, почему заполнить пропуски медианным значением — лучшее решение для количественных переменных."
   ]
  },
  {
   "cell_type": "markdown",
   "id": "528e1ba7",
   "metadata": {
    "deletable": false,
    "id": "7ecf2b8e"
   },
   "source": [
    "*Ответ:* В данном проекте пропуски присутствовали в данных о стаже работы и о зарплате. Такие данные в различных ситуациях могут сильно разниться, например, в случаях работающих и неработающих студентов и пенсионеров. Поскольку медиана является более устойчивым к выбросам в данных показателем, ее использование является лучшим решением."
   ]
  },
  {
   "cell_type": "markdown",
   "id": "3be33f63",
   "metadata": {
    "id": "6db5255a"
   },
   "source": [
    "## Общий вывод"
   ]
  },
  {
   "cell_type": "markdown",
   "id": "f2a8e2a5",
   "metadata": {
    "deletable": false,
    "id": "bad65432"
   },
   "source": [
    "Были выполнены проверки зависимости возврата кредита от различных факторов. Входные данные — статистика о платёжеспособности клиентов. Результаты исследования будут учтены при построении модели кредитного скоринга — системы, оцениваающей способность потенциального заёмщика вернуть кредит банку.\n",
    "\n",
    "Выводы по проверкам:\n",
    "- Есть ли зависимость между количеством детей и возвратом кредита в срок?\n",
    "\n",
    "Отсутствие детей в семье повышает возможность возврата кредита в срок (доля просрочек - 7.54%). У заемщиков с детьми доля просрочек варьируется в пределах 8.18-9.76%. При этом у заемщиков с пятью детьми просрочек нет вообще, но для выводов по данной категории необходимо провести дополнительное исследование.\n",
    "- Есть ли зависимость между семейным положением и возвратом кредита в срок? \n",
    "\n",
    "Клиенты, которые были или сейчас женаты официально, имеют наименьший риск просрочки (доля просрочек - 7.08%). У заемщиков, которыке не были женаты официально, коэффициент просрочки составляет 9.54%.\n",
    "- Есть ли зависимость между уровнем дохода и возвратом кредита в срок?\n",
    "\n",
    "Однозначный вывод по имеющимся данным сделать нельзя. Результаты анализа показывают, что самая низкодоходная E (от 0 до 30.000 у.е.) и самая высокодоходная A (от 1.000.001 у.е. и выше) категории клиентов примерно однинаово просрачивают возврат кредита (9.09% и 8% просрочек соответственно).\n",
    "\n",
    "Если опираться только на группы В, С и D (коэффициенты просрочки 7.06%, 8.5%, 6.02% при доходе 200.001–1.000.000 у.е., 50.001–200.000 у.е. и 30.001–50.000 у.е. соответственно), то по полученным данным не наблюдается зависимость \"те, кто получает больше ЗП, лучше возвращает кредит\".\n",
    "\n",
    "- По цели кредита\n",
    "\n",
    "Заемщики чаще возвращают в срок кредиты, взятые на операции с недвижимостью и на проведение свадьбы (доля просрочек - 7.3% и 7.9% соответственно). Доля просрочек по кредитам, выданным на получение образования и на операции с автомобилем составляет 9.26% и 9.35% соответственно."
   ]
  }
 ],
 "metadata": {
  "ExecuteTimeLog": [
   {
    "duration": 49,
    "start_time": "2022-12-25T00:42:43.297Z"
   },
   {
    "duration": 6,
    "start_time": "2022-12-25T00:42:50.761Z"
   },
   {
    "duration": 501,
    "start_time": "2022-12-25T00:42:55.927Z"
   },
   {
    "duration": 23,
    "start_time": "2022-12-25T00:42:56.430Z"
   },
   {
    "duration": 16,
    "start_time": "2022-12-25T00:42:56.455Z"
   },
   {
    "duration": 11,
    "start_time": "2022-12-25T00:42:56.473Z"
   },
   {
    "duration": 37,
    "start_time": "2022-12-25T00:42:56.486Z"
   },
   {
    "duration": 28,
    "start_time": "2022-12-25T00:42:56.524Z"
   },
   {
    "duration": 12,
    "start_time": "2022-12-25T00:42:56.555Z"
   },
   {
    "duration": 5,
    "start_time": "2022-12-25T00:42:56.569Z"
   },
   {
    "duration": 10,
    "start_time": "2022-12-25T00:42:56.576Z"
   },
   {
    "duration": 6,
    "start_time": "2022-12-25T00:42:56.589Z"
   },
   {
    "duration": 64,
    "start_time": "2022-12-25T00:42:56.597Z"
   },
   {
    "duration": 11,
    "start_time": "2022-12-25T00:42:56.662Z"
   },
   {
    "duration": 5,
    "start_time": "2022-12-25T00:42:56.674Z"
   },
   {
    "duration": 14,
    "start_time": "2022-12-25T00:42:56.681Z"
   },
   {
    "duration": 22,
    "start_time": "2022-12-25T00:42:56.697Z"
   },
   {
    "duration": 41,
    "start_time": "2022-12-25T00:42:56.721Z"
   },
   {
    "duration": 4,
    "start_time": "2022-12-25T00:42:56.764Z"
   },
   {
    "duration": 15,
    "start_time": "2022-12-25T00:42:56.769Z"
   },
   {
    "duration": 12,
    "start_time": "2022-12-25T00:42:56.786Z"
   },
   {
    "duration": 4,
    "start_time": "2022-12-25T00:42:56.800Z"
   },
   {
    "duration": 14,
    "start_time": "2022-12-25T00:42:56.806Z"
   },
   {
    "duration": 57,
    "start_time": "2022-12-25T00:42:56.822Z"
   },
   {
    "duration": 3,
    "start_time": "2022-12-25T00:42:56.881Z"
   },
   {
    "duration": 8,
    "start_time": "2022-12-25T00:42:56.885Z"
   },
   {
    "duration": 6,
    "start_time": "2022-12-25T00:42:56.895Z"
   },
   {
    "duration": 23,
    "start_time": "2022-12-25T00:43:28.015Z"
   },
   {
    "duration": 26,
    "start_time": "2022-12-25T00:43:49.231Z"
   },
   {
    "duration": 5,
    "start_time": "2022-12-25T00:46:05.921Z"
   },
   {
    "duration": 34,
    "start_time": "2022-12-25T00:46:38.823Z"
   },
   {
    "duration": 8,
    "start_time": "2022-12-25T00:46:41.806Z"
   },
   {
    "duration": 572,
    "start_time": "2022-12-25T00:46:53.161Z"
   },
   {
    "duration": 21,
    "start_time": "2022-12-25T00:47:03.105Z"
   },
   {
    "duration": 20,
    "start_time": "2022-12-25T00:47:26.827Z"
   },
   {
    "duration": 23,
    "start_time": "2022-12-25T00:51:53.929Z"
   },
   {
    "duration": 605,
    "start_time": "2022-12-25T00:52:30.041Z"
   },
   {
    "duration": 586,
    "start_time": "2022-12-25T00:52:37.443Z"
   },
   {
    "duration": 21,
    "start_time": "2022-12-25T00:52:51.193Z"
   },
   {
    "duration": 33,
    "start_time": "2022-12-25T00:53:21.294Z"
   },
   {
    "duration": 11,
    "start_time": "2022-12-25T00:54:01.837Z"
   },
   {
    "duration": 10,
    "start_time": "2022-12-25T00:54:22.882Z"
   },
   {
    "duration": 11,
    "start_time": "2022-12-25T00:59:34.822Z"
   },
   {
    "duration": 12,
    "start_time": "2022-12-25T00:59:58.871Z"
   },
   {
    "duration": 10,
    "start_time": "2022-12-25T01:00:16.304Z"
   },
   {
    "duration": 8,
    "start_time": "2022-12-25T01:00:27.165Z"
   },
   {
    "duration": 13,
    "start_time": "2022-12-25T01:00:45.953Z"
   },
   {
    "duration": 13,
    "start_time": "2022-12-25T01:04:29.990Z"
   },
   {
    "duration": 8,
    "start_time": "2022-12-25T01:06:29.947Z"
   },
   {
    "duration": 13,
    "start_time": "2022-12-25T01:08:33.578Z"
   },
   {
    "duration": 21,
    "start_time": "2022-12-25T01:08:39.818Z"
   },
   {
    "duration": 8,
    "start_time": "2022-12-25T01:09:33.589Z"
   },
   {
    "duration": 20,
    "start_time": "2022-12-25T01:10:37.142Z"
   },
   {
    "duration": 16,
    "start_time": "2022-12-25T01:11:12.097Z"
   },
   {
    "duration": 18,
    "start_time": "2022-12-25T01:11:23.524Z"
   },
   {
    "duration": 10,
    "start_time": "2022-12-25T01:13:31.923Z"
   },
   {
    "duration": 12,
    "start_time": "2022-12-25T01:14:16.057Z"
   },
   {
    "duration": 12,
    "start_time": "2022-12-25T01:14:29.146Z"
   },
   {
    "duration": 16,
    "start_time": "2022-12-25T01:14:47.056Z"
   },
   {
    "duration": 1230,
    "start_time": "2022-12-25T01:20:14.252Z"
   },
   {
    "duration": 6,
    "start_time": "2022-12-25T01:20:20.993Z"
   },
   {
    "duration": 642,
    "start_time": "2022-12-25T07:06:11.357Z"
   },
   {
    "duration": 20,
    "start_time": "2022-12-25T07:06:12.001Z"
   },
   {
    "duration": 13,
    "start_time": "2022-12-25T07:06:12.022Z"
   },
   {
    "duration": 9,
    "start_time": "2022-12-25T07:06:12.037Z"
   },
   {
    "duration": 31,
    "start_time": "2022-12-25T07:06:12.047Z"
   },
   {
    "duration": 3,
    "start_time": "2022-12-25T07:06:12.080Z"
   },
   {
    "duration": 20,
    "start_time": "2022-12-25T07:06:12.084Z"
   },
   {
    "duration": 4,
    "start_time": "2022-12-25T07:06:12.121Z"
   },
   {
    "duration": 15,
    "start_time": "2022-12-25T07:06:12.127Z"
   },
   {
    "duration": 5,
    "start_time": "2022-12-25T07:06:12.145Z"
   },
   {
    "duration": 45,
    "start_time": "2022-12-25T07:06:12.151Z"
   },
   {
    "duration": 24,
    "start_time": "2022-12-25T07:06:12.198Z"
   },
   {
    "duration": 4,
    "start_time": "2022-12-25T07:06:12.224Z"
   },
   {
    "duration": 12,
    "start_time": "2022-12-25T07:06:12.230Z"
   },
   {
    "duration": 20,
    "start_time": "2022-12-25T07:06:12.244Z"
   },
   {
    "duration": 15,
    "start_time": "2022-12-25T07:06:12.265Z"
   },
   {
    "duration": 6,
    "start_time": "2022-12-25T07:06:12.281Z"
   },
   {
    "duration": 34,
    "start_time": "2022-12-25T07:06:12.288Z"
   },
   {
    "duration": 5,
    "start_time": "2022-12-25T07:06:12.324Z"
   },
   {
    "duration": 11,
    "start_time": "2022-12-25T07:06:12.330Z"
   },
   {
    "duration": 12,
    "start_time": "2022-12-25T07:06:12.342Z"
   },
   {
    "duration": 8,
    "start_time": "2022-12-25T07:06:12.356Z"
   },
   {
    "duration": 16,
    "start_time": "2022-12-25T07:06:12.365Z"
   },
   {
    "duration": 5,
    "start_time": "2022-12-25T07:06:12.383Z"
   },
   {
    "duration": 87,
    "start_time": "2022-12-25T07:06:12.390Z"
   },
   {
    "duration": 0,
    "start_time": "2022-12-25T07:06:12.478Z"
   },
   {
    "duration": 0,
    "start_time": "2022-12-25T07:06:12.479Z"
   },
   {
    "duration": 8,
    "start_time": "2022-12-25T07:07:03.368Z"
   },
   {
    "duration": 19,
    "start_time": "2022-12-25T07:08:09.379Z"
   },
   {
    "duration": 16,
    "start_time": "2022-12-25T07:11:07.638Z"
   },
   {
    "duration": 18,
    "start_time": "2022-12-25T07:11:32.894Z"
   },
   {
    "duration": 4,
    "start_time": "2022-12-25T07:11:57.307Z"
   },
   {
    "duration": 5,
    "start_time": "2022-12-25T07:12:16.097Z"
   },
   {
    "duration": 23,
    "start_time": "2022-12-25T07:14:33.463Z"
   },
   {
    "duration": 18,
    "start_time": "2022-12-25T07:14:37.550Z"
   },
   {
    "duration": 19,
    "start_time": "2022-12-25T07:31:04.430Z"
   },
   {
    "duration": 17,
    "start_time": "2022-12-25T07:32:01.185Z"
   },
   {
    "duration": 18,
    "start_time": "2022-12-25T07:33:39.534Z"
   },
   {
    "duration": 17,
    "start_time": "2022-12-25T07:33:46.292Z"
   },
   {
    "duration": 19,
    "start_time": "2022-12-25T07:34:17.232Z"
   },
   {
    "duration": 22,
    "start_time": "2022-12-25T07:35:15.079Z"
   },
   {
    "duration": 18,
    "start_time": "2022-12-25T07:35:51.378Z"
   },
   {
    "duration": 18,
    "start_time": "2022-12-25T07:35:58.951Z"
   },
   {
    "duration": 64,
    "start_time": "2022-12-25T07:46:16.629Z"
   },
   {
    "duration": 14,
    "start_time": "2022-12-25T07:46:16.694Z"
   },
   {
    "duration": 20,
    "start_time": "2022-12-25T07:47:01.571Z"
   },
   {
    "duration": 7,
    "start_time": "2022-12-25T07:47:18.315Z"
   },
   {
    "duration": 554,
    "start_time": "2022-12-25T07:47:22.526Z"
   },
   {
    "duration": 386,
    "start_time": "2022-12-25T07:47:46.289Z"
   },
   {
    "duration": 18,
    "start_time": "2022-12-25T07:47:50.398Z"
   },
   {
    "duration": 6,
    "start_time": "2022-12-25T07:48:27.299Z"
   },
   {
    "duration": 6,
    "start_time": "2022-12-25T07:48:50.540Z"
   },
   {
    "duration": 8,
    "start_time": "2022-12-25T07:49:34.445Z"
   },
   {
    "duration": 13,
    "start_time": "2022-12-25T07:49:49.959Z"
   },
   {
    "duration": 67,
    "start_time": "2022-12-25T07:51:13.964Z"
   },
   {
    "duration": 14,
    "start_time": "2022-12-25T07:51:14.033Z"
   },
   {
    "duration": 24,
    "start_time": "2022-12-25T07:51:14.049Z"
   },
   {
    "duration": 10,
    "start_time": "2022-12-25T07:51:14.075Z"
   },
   {
    "duration": 56,
    "start_time": "2022-12-25T07:51:14.087Z"
   },
   {
    "duration": 3,
    "start_time": "2022-12-25T07:51:14.145Z"
   },
   {
    "duration": 13,
    "start_time": "2022-12-25T07:51:14.150Z"
   },
   {
    "duration": 4,
    "start_time": "2022-12-25T07:51:14.164Z"
   },
   {
    "duration": 11,
    "start_time": "2022-12-25T07:51:14.169Z"
   },
   {
    "duration": 7,
    "start_time": "2022-12-25T07:51:14.182Z"
   },
   {
    "duration": 54,
    "start_time": "2022-12-25T07:51:14.190Z"
   },
   {
    "duration": 10,
    "start_time": "2022-12-25T07:51:14.246Z"
   },
   {
    "duration": 4,
    "start_time": "2022-12-25T07:51:14.258Z"
   },
   {
    "duration": 14,
    "start_time": "2022-12-25T07:51:14.264Z"
   },
   {
    "duration": 43,
    "start_time": "2022-12-25T07:51:14.280Z"
   },
   {
    "duration": 17,
    "start_time": "2022-12-25T07:51:14.325Z"
   },
   {
    "duration": 4,
    "start_time": "2022-12-25T07:51:14.344Z"
   },
   {
    "duration": 13,
    "start_time": "2022-12-25T07:51:14.350Z"
   },
   {
    "duration": 6,
    "start_time": "2022-12-25T07:51:14.364Z"
   },
   {
    "duration": 4,
    "start_time": "2022-12-25T07:51:14.372Z"
   },
   {
    "duration": 14,
    "start_time": "2022-12-25T07:51:14.377Z"
   },
   {
    "duration": 31,
    "start_time": "2022-12-25T07:51:14.393Z"
   },
   {
    "duration": 21,
    "start_time": "2022-12-25T07:51:14.426Z"
   },
   {
    "duration": 6,
    "start_time": "2022-12-25T07:51:14.449Z"
   },
   {
    "duration": 21,
    "start_time": "2022-12-25T07:51:14.456Z"
   },
   {
    "duration": 16,
    "start_time": "2022-12-25T07:51:14.479Z"
   },
   {
    "duration": 19,
    "start_time": "2022-12-25T07:51:14.521Z"
   },
   {
    "duration": 13,
    "start_time": "2022-12-25T08:37:43.969Z"
   },
   {
    "duration": 18,
    "start_time": "2022-12-25T08:43:25.654Z"
   },
   {
    "duration": 18,
    "start_time": "2022-12-25T08:46:38.860Z"
   },
   {
    "duration": 17,
    "start_time": "2022-12-25T08:47:01.284Z"
   },
   {
    "duration": 17,
    "start_time": "2022-12-25T08:47:19.635Z"
   },
   {
    "duration": 67,
    "start_time": "2022-12-25T08:53:10.300Z"
   },
   {
    "duration": 14,
    "start_time": "2022-12-25T08:53:10.369Z"
   },
   {
    "duration": 15,
    "start_time": "2022-12-25T08:53:10.385Z"
   },
   {
    "duration": 9,
    "start_time": "2022-12-25T08:53:10.420Z"
   },
   {
    "duration": 36,
    "start_time": "2022-12-25T08:53:10.431Z"
   },
   {
    "duration": 3,
    "start_time": "2022-12-25T08:53:10.469Z"
   },
   {
    "duration": 18,
    "start_time": "2022-12-25T08:53:10.473Z"
   },
   {
    "duration": 5,
    "start_time": "2022-12-25T08:53:10.493Z"
   },
   {
    "duration": 8,
    "start_time": "2022-12-25T08:53:10.500Z"
   },
   {
    "duration": 4,
    "start_time": "2022-12-25T08:53:10.520Z"
   },
   {
    "duration": 36,
    "start_time": "2022-12-25T08:53:10.526Z"
   },
   {
    "duration": 13,
    "start_time": "2022-12-25T08:53:10.564Z"
   },
   {
    "duration": 14,
    "start_time": "2022-12-25T08:53:10.579Z"
   },
   {
    "duration": 29,
    "start_time": "2022-12-25T08:53:10.595Z"
   },
   {
    "duration": 26,
    "start_time": "2022-12-25T08:53:10.626Z"
   },
   {
    "duration": 20,
    "start_time": "2022-12-25T08:53:10.654Z"
   },
   {
    "duration": 3,
    "start_time": "2022-12-25T08:53:10.676Z"
   },
   {
    "duration": 22,
    "start_time": "2022-12-25T08:53:10.680Z"
   },
   {
    "duration": 28,
    "start_time": "2022-12-25T08:53:10.703Z"
   },
   {
    "duration": 6,
    "start_time": "2022-12-25T08:53:10.732Z"
   },
   {
    "duration": 15,
    "start_time": "2022-12-25T08:53:10.739Z"
   },
   {
    "duration": 19,
    "start_time": "2022-12-25T08:53:10.755Z"
   },
   {
    "duration": 15,
    "start_time": "2022-12-25T08:53:10.776Z"
   },
   {
    "duration": 14,
    "start_time": "2022-12-25T08:53:10.793Z"
   },
   {
    "duration": 26,
    "start_time": "2022-12-25T08:53:10.808Z"
   },
   {
    "duration": 11,
    "start_time": "2022-12-25T08:53:54.174Z"
   },
   {
    "duration": 12,
    "start_time": "2022-12-25T08:54:04.274Z"
   },
   {
    "duration": 67,
    "start_time": "2022-12-25T08:54:10.445Z"
   },
   {
    "duration": 15,
    "start_time": "2022-12-25T08:54:10.514Z"
   },
   {
    "duration": 21,
    "start_time": "2022-12-25T08:54:10.530Z"
   },
   {
    "duration": 11,
    "start_time": "2022-12-25T08:54:10.554Z"
   },
   {
    "duration": 39,
    "start_time": "2022-12-25T08:54:10.567Z"
   },
   {
    "duration": 14,
    "start_time": "2022-12-25T08:54:10.608Z"
   },
   {
    "duration": 9,
    "start_time": "2022-12-25T08:54:10.624Z"
   },
   {
    "duration": 5,
    "start_time": "2022-12-25T08:54:10.635Z"
   },
   {
    "duration": 7,
    "start_time": "2022-12-25T08:54:10.641Z"
   },
   {
    "duration": 5,
    "start_time": "2022-12-25T08:54:10.650Z"
   },
   {
    "duration": 37,
    "start_time": "2022-12-25T08:54:10.657Z"
   },
   {
    "duration": 32,
    "start_time": "2022-12-25T08:54:10.695Z"
   },
   {
    "duration": 7,
    "start_time": "2022-12-25T08:54:10.729Z"
   },
   {
    "duration": 22,
    "start_time": "2022-12-25T08:54:10.738Z"
   },
   {
    "duration": 26,
    "start_time": "2022-12-25T08:54:10.762Z"
   },
   {
    "duration": 38,
    "start_time": "2022-12-25T08:54:10.790Z"
   },
   {
    "duration": 3,
    "start_time": "2022-12-25T08:54:10.830Z"
   },
   {
    "duration": 12,
    "start_time": "2022-12-25T08:54:10.834Z"
   },
   {
    "duration": 7,
    "start_time": "2022-12-25T08:54:10.848Z"
   },
   {
    "duration": 4,
    "start_time": "2022-12-25T08:54:10.857Z"
   },
   {
    "duration": 18,
    "start_time": "2022-12-25T08:54:10.863Z"
   },
   {
    "duration": 16,
    "start_time": "2022-12-25T08:54:10.883Z"
   },
   {
    "duration": 36,
    "start_time": "2022-12-25T08:54:10.900Z"
   },
   {
    "duration": 15,
    "start_time": "2022-12-25T08:54:10.937Z"
   },
   {
    "duration": 15,
    "start_time": "2022-12-25T08:54:10.954Z"
   },
   {
    "duration": 50,
    "start_time": "2022-12-25T13:08:05.391Z"
   },
   {
    "duration": 667,
    "start_time": "2022-12-25T13:08:27.630Z"
   },
   {
    "duration": 22,
    "start_time": "2022-12-25T13:08:28.299Z"
   },
   {
    "duration": 16,
    "start_time": "2022-12-25T13:08:28.322Z"
   },
   {
    "duration": 9,
    "start_time": "2022-12-25T13:08:28.340Z"
   },
   {
    "duration": 34,
    "start_time": "2022-12-25T13:08:28.351Z"
   },
   {
    "duration": 3,
    "start_time": "2022-12-25T13:08:28.387Z"
   },
   {
    "duration": 8,
    "start_time": "2022-12-25T13:08:28.416Z"
   },
   {
    "duration": 4,
    "start_time": "2022-12-25T13:08:28.426Z"
   },
   {
    "duration": 8,
    "start_time": "2022-12-25T13:08:28.432Z"
   },
   {
    "duration": 4,
    "start_time": "2022-12-25T13:08:28.442Z"
   },
   {
    "duration": 67,
    "start_time": "2022-12-25T13:08:28.448Z"
   },
   {
    "duration": 10,
    "start_time": "2022-12-25T13:08:28.517Z"
   },
   {
    "duration": 4,
    "start_time": "2022-12-25T13:08:28.528Z"
   },
   {
    "duration": 12,
    "start_time": "2022-12-25T13:08:28.534Z"
   },
   {
    "duration": 20,
    "start_time": "2022-12-25T13:08:28.547Z"
   },
   {
    "duration": 16,
    "start_time": "2022-12-25T13:08:28.568Z"
   },
   {
    "duration": 30,
    "start_time": "2022-12-25T13:08:28.586Z"
   },
   {
    "duration": 13,
    "start_time": "2022-12-25T13:08:28.617Z"
   },
   {
    "duration": 7,
    "start_time": "2022-12-25T13:08:28.632Z"
   },
   {
    "duration": 4,
    "start_time": "2022-12-25T13:08:28.641Z"
   },
   {
    "duration": 11,
    "start_time": "2022-12-25T13:08:28.647Z"
   },
   {
    "duration": 15,
    "start_time": "2022-12-25T13:08:28.660Z"
   },
   {
    "duration": 54,
    "start_time": "2022-12-25T13:08:28.676Z"
   },
   {
    "duration": 16,
    "start_time": "2022-12-25T13:08:28.732Z"
   },
   {
    "duration": 18,
    "start_time": "2022-12-25T13:08:28.749Z"
   },
   {
    "duration": 18,
    "start_time": "2022-12-25T13:33:41.815Z"
   },
   {
    "duration": 22,
    "start_time": "2022-12-25T13:35:45.910Z"
   },
   {
    "duration": 25,
    "start_time": "2022-12-25T13:37:16.393Z"
   },
   {
    "duration": 24,
    "start_time": "2022-12-25T13:37:29.680Z"
   },
   {
    "duration": 27,
    "start_time": "2022-12-25T13:37:43.021Z"
   },
   {
    "duration": 18,
    "start_time": "2022-12-25T13:37:57.235Z"
   },
   {
    "duration": 24,
    "start_time": "2022-12-25T13:38:16.519Z"
   },
   {
    "duration": 19,
    "start_time": "2022-12-25T13:39:15.951Z"
   },
   {
    "duration": 27,
    "start_time": "2022-12-25T13:39:18.881Z"
   },
   {
    "duration": 20,
    "start_time": "2022-12-25T13:39:37.603Z"
   },
   {
    "duration": 20,
    "start_time": "2022-12-25T13:40:09.772Z"
   },
   {
    "duration": 18,
    "start_time": "2022-12-25T13:40:25.326Z"
   },
   {
    "duration": 25,
    "start_time": "2022-12-25T13:40:30.454Z"
   },
   {
    "duration": 22,
    "start_time": "2022-12-25T13:41:19.177Z"
   },
   {
    "duration": 18,
    "start_time": "2022-12-25T13:42:33.452Z"
   },
   {
    "duration": 20,
    "start_time": "2022-12-25T13:44:12.945Z"
   },
   {
    "duration": 14,
    "start_time": "2022-12-25T13:44:24.139Z"
   },
   {
    "duration": 18,
    "start_time": "2022-12-25T13:49:17.623Z"
   },
   {
    "duration": 18,
    "start_time": "2022-12-25T13:49:34.989Z"
   },
   {
    "duration": 24,
    "start_time": "2022-12-25T13:49:43.275Z"
   },
   {
    "duration": 18,
    "start_time": "2022-12-25T13:51:09.393Z"
   },
   {
    "duration": 17,
    "start_time": "2022-12-25T13:51:30.453Z"
   },
   {
    "duration": 19,
    "start_time": "2022-12-25T13:51:52.207Z"
   },
   {
    "duration": 23,
    "start_time": "2022-12-25T13:52:20.640Z"
   },
   {
    "duration": 22,
    "start_time": "2022-12-25T13:52:37.613Z"
   },
   {
    "duration": 28,
    "start_time": "2022-12-25T13:53:03.549Z"
   },
   {
    "duration": 68,
    "start_time": "2022-12-25T14:09:11.087Z"
   },
   {
    "duration": 16,
    "start_time": "2022-12-25T14:09:11.157Z"
   },
   {
    "duration": 24,
    "start_time": "2022-12-25T14:09:11.175Z"
   },
   {
    "duration": 25,
    "start_time": "2022-12-25T14:10:10.637Z"
   },
   {
    "duration": 20,
    "start_time": "2022-12-25T14:11:21.250Z"
   },
   {
    "duration": 3,
    "start_time": "2022-12-25T14:34:09.994Z"
   },
   {
    "duration": 126,
    "start_time": "2022-12-25T14:34:17.557Z"
   },
   {
    "duration": 15,
    "start_time": "2022-12-25T14:35:00.967Z"
   },
   {
    "duration": 73,
    "start_time": "2022-12-25T14:35:13.711Z"
   },
   {
    "duration": 15,
    "start_time": "2022-12-25T14:35:13.785Z"
   },
   {
    "duration": 25,
    "start_time": "2022-12-25T14:35:13.801Z"
   },
   {
    "duration": 9,
    "start_time": "2022-12-25T14:35:13.828Z"
   },
   {
    "duration": 38,
    "start_time": "2022-12-25T14:35:13.839Z"
   },
   {
    "duration": 2,
    "start_time": "2022-12-25T14:35:13.879Z"
   },
   {
    "duration": 13,
    "start_time": "2022-12-25T14:35:13.883Z"
   },
   {
    "duration": 20,
    "start_time": "2022-12-25T14:35:13.897Z"
   },
   {
    "duration": 9,
    "start_time": "2022-12-25T14:35:13.918Z"
   },
   {
    "duration": 5,
    "start_time": "2022-12-25T14:35:13.930Z"
   },
   {
    "duration": 35,
    "start_time": "2022-12-25T14:35:13.937Z"
   },
   {
    "duration": 10,
    "start_time": "2022-12-25T14:35:13.974Z"
   },
   {
    "duration": 30,
    "start_time": "2022-12-25T14:35:13.986Z"
   },
   {
    "duration": 12,
    "start_time": "2022-12-25T14:35:14.018Z"
   },
   {
    "duration": 23,
    "start_time": "2022-12-25T14:35:14.031Z"
   },
   {
    "duration": 21,
    "start_time": "2022-12-25T14:35:14.056Z"
   },
   {
    "duration": 4,
    "start_time": "2022-12-25T14:35:14.079Z"
   },
   {
    "duration": 46,
    "start_time": "2022-12-25T14:35:14.085Z"
   },
   {
    "duration": 10,
    "start_time": "2022-12-25T14:35:14.132Z"
   },
   {
    "duration": 4,
    "start_time": "2022-12-25T14:35:14.144Z"
   },
   {
    "duration": 10,
    "start_time": "2022-12-25T14:35:14.149Z"
   },
   {
    "duration": 19,
    "start_time": "2022-12-25T14:35:14.161Z"
   },
   {
    "duration": 34,
    "start_time": "2022-12-25T14:35:14.182Z"
   },
   {
    "duration": 19,
    "start_time": "2022-12-25T14:35:14.218Z"
   },
   {
    "duration": 17,
    "start_time": "2022-12-25T14:35:14.239Z"
   },
   {
    "duration": 12,
    "start_time": "2022-12-25T14:35:14.258Z"
   },
   {
    "duration": 16,
    "start_time": "2022-12-25T14:36:41.659Z"
   },
   {
    "duration": 17,
    "start_time": "2022-12-25T14:37:05.856Z"
   },
   {
    "duration": 32,
    "start_time": "2022-12-25T14:37:26.476Z"
   },
   {
    "duration": 24,
    "start_time": "2022-12-25T14:37:54.938Z"
   },
   {
    "duration": 26,
    "start_time": "2022-12-25T14:38:16.296Z"
   },
   {
    "duration": 28,
    "start_time": "2022-12-25T14:38:30.777Z"
   },
   {
    "duration": 22,
    "start_time": "2022-12-25T14:38:45.057Z"
   },
   {
    "duration": 19,
    "start_time": "2022-12-25T14:39:27.029Z"
   },
   {
    "duration": 25,
    "start_time": "2022-12-25T14:39:38.224Z"
   },
   {
    "duration": 31,
    "start_time": "2022-12-25T14:43:54.040Z"
   },
   {
    "duration": 20,
    "start_time": "2022-12-25T14:44:10.680Z"
   },
   {
    "duration": 68,
    "start_time": "2022-12-25T14:57:51.914Z"
   },
   {
    "duration": 14,
    "start_time": "2022-12-25T14:57:51.983Z"
   },
   {
    "duration": 22,
    "start_time": "2022-12-25T14:57:51.998Z"
   },
   {
    "duration": 9,
    "start_time": "2022-12-25T14:57:52.022Z"
   },
   {
    "duration": 36,
    "start_time": "2022-12-25T14:57:52.033Z"
   },
   {
    "duration": 4,
    "start_time": "2022-12-25T14:57:52.071Z"
   },
   {
    "duration": 21,
    "start_time": "2022-12-25T14:57:52.077Z"
   },
   {
    "duration": 5,
    "start_time": "2022-12-25T14:57:52.115Z"
   },
   {
    "duration": 8,
    "start_time": "2022-12-25T14:57:52.121Z"
   },
   {
    "duration": 5,
    "start_time": "2022-12-25T14:57:52.132Z"
   },
   {
    "duration": 50,
    "start_time": "2022-12-25T14:57:52.139Z"
   },
   {
    "duration": 11,
    "start_time": "2022-12-25T14:57:52.215Z"
   },
   {
    "duration": 4,
    "start_time": "2022-12-25T14:57:52.227Z"
   },
   {
    "duration": 13,
    "start_time": "2022-12-25T14:57:52.233Z"
   },
   {
    "duration": 19,
    "start_time": "2022-12-25T14:57:52.247Z"
   },
   {
    "duration": 17,
    "start_time": "2022-12-25T14:57:52.268Z"
   },
   {
    "duration": 30,
    "start_time": "2022-12-25T14:57:52.286Z"
   },
   {
    "duration": 9,
    "start_time": "2022-12-25T14:57:52.318Z"
   },
   {
    "duration": 21,
    "start_time": "2022-12-25T14:57:52.329Z"
   },
   {
    "duration": 11,
    "start_time": "2022-12-25T14:57:52.352Z"
   },
   {
    "duration": 22,
    "start_time": "2022-12-25T14:57:52.364Z"
   },
   {
    "duration": 38,
    "start_time": "2022-12-25T14:57:52.387Z"
   },
   {
    "duration": 26,
    "start_time": "2022-12-25T14:57:52.427Z"
   },
   {
    "duration": 19,
    "start_time": "2022-12-25T14:57:52.455Z"
   },
   {
    "duration": 20,
    "start_time": "2022-12-25T14:57:52.476Z"
   },
   {
    "duration": 25,
    "start_time": "2022-12-25T14:57:52.498Z"
   },
   {
    "duration": 455,
    "start_time": "2022-12-26T09:00:46.878Z"
   },
   {
    "duration": 23,
    "start_time": "2022-12-26T09:00:47.335Z"
   },
   {
    "duration": 22,
    "start_time": "2022-12-26T09:00:47.359Z"
   },
   {
    "duration": 25,
    "start_time": "2022-12-26T09:00:47.383Z"
   },
   {
    "duration": 52,
    "start_time": "2022-12-26T09:00:47.410Z"
   },
   {
    "duration": 4,
    "start_time": "2022-12-26T09:00:47.463Z"
   },
   {
    "duration": 29,
    "start_time": "2022-12-26T09:00:47.468Z"
   },
   {
    "duration": 19,
    "start_time": "2022-12-26T09:00:47.499Z"
   },
   {
    "duration": 18,
    "start_time": "2022-12-26T09:00:47.519Z"
   },
   {
    "duration": 21,
    "start_time": "2022-12-26T09:00:47.538Z"
   },
   {
    "duration": 34,
    "start_time": "2022-12-26T09:00:47.561Z"
   },
   {
    "duration": 8,
    "start_time": "2022-12-26T09:00:47.597Z"
   },
   {
    "duration": 28,
    "start_time": "2022-12-26T09:00:47.607Z"
   },
   {
    "duration": 49,
    "start_time": "2022-12-26T09:00:47.638Z"
   },
   {
    "duration": 37,
    "start_time": "2022-12-26T09:00:47.689Z"
   },
   {
    "duration": 23,
    "start_time": "2022-12-26T09:00:47.727Z"
   },
   {
    "duration": 35,
    "start_time": "2022-12-26T09:00:47.752Z"
   },
   {
    "duration": 33,
    "start_time": "2022-12-26T09:00:47.789Z"
   },
   {
    "duration": 41,
    "start_time": "2022-12-26T09:00:47.824Z"
   },
   {
    "duration": 7,
    "start_time": "2022-12-26T09:00:47.867Z"
   },
   {
    "duration": 43,
    "start_time": "2022-12-26T09:00:47.875Z"
   },
   {
    "duration": 47,
    "start_time": "2022-12-26T09:00:47.920Z"
   },
   {
    "duration": 40,
    "start_time": "2022-12-26T09:00:47.968Z"
   },
   {
    "duration": 23,
    "start_time": "2022-12-26T09:00:48.009Z"
   },
   {
    "duration": 35,
    "start_time": "2022-12-26T09:00:48.034Z"
   },
   {
    "duration": 14,
    "start_time": "2022-12-26T09:00:48.071Z"
   },
   {
    "duration": 58,
    "start_time": "2022-12-26T18:39:18.560Z"
   }
  ],
  "colab": {
   "name": "dpp_template_part2.ipynb",
   "provenance": []
  },
  "kernelspec": {
   "display_name": "Python 3 (ipykernel)",
   "language": "python",
   "name": "python3"
  },
  "language_info": {
   "codemirror_mode": {
    "name": "ipython",
    "version": 3
   },
   "file_extension": ".py",
   "mimetype": "text/x-python",
   "name": "python",
   "nbconvert_exporter": "python",
   "pygments_lexer": "ipython3",
   "version": "3.7.16"
  },
  "toc": {
   "base_numbering": 1,
   "nav_menu": {
    "height": "267.997px",
    "width": "337.997px"
   },
   "number_sections": true,
   "sideBar": true,
   "skip_h1_title": true,
   "title_cell": "Содержание",
   "title_sidebar": "Содержание",
   "toc_cell": true,
   "toc_position": {
    "height": "382px",
    "left": "10px",
    "top": "10px",
    "width": "206.165px"
   },
   "toc_section_display": true,
   "toc_window_display": true
  }
 },
 "nbformat": 4,
 "nbformat_minor": 5
}
