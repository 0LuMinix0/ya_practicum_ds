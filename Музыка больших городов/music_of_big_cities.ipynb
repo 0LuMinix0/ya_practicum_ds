{
 "cells": [
  {
   "cell_type": "markdown",
   "metadata": {
    "deletable": false,
    "editable": false,
    "id": "E0vqbgi9ay0H"
   },
   "source": [
    "# Яндекс Музыка"
   ]
  },
  {
   "cell_type": "markdown",
   "metadata": {
    "id": "VUC88oWjTJw2"
   },
   "source": [
    "**Цель исследования** — проверить три гипотезы:\n",
    "1. Активность пользователей зависит от дня недели. Причём в Москве и Петербурге это проявляется по-разному.\n",
    "2. В понедельник утром в Москве преобладают одни жанры, а в Петербурге — другие. Так же и вечером пятницы преобладают разные жанры — в зависимости от города. \n",
    "3. Москва и Петербург предпочитают разные жанры музыки. В Москве чаще слушают поп-музыку, в Петербурге — русский рэп.\n",
    "\n",
    "**Ход исследования**\n",
    "\n",
    "О качестве данных ничего не известно. Поэтому перед проверкой гипотез понадобится обзор данных. \n",
    "\n",
    "Необходимо проверить данные на ошибки и оценить их влияние на исследование.\n",
    "\n",
    "Исследование пройдёт в три этапа:\n",
    " 1. Обзор данных.\n",
    " 2. Предобработка данных.\n",
    " 3. Проверка гипотез."
   ]
  },
  {
   "cell_type": "code",
   "execution_count": 1,
   "metadata": {
    "deletable": false,
    "id": "AXN7PHPN_Zcs"
   },
   "outputs": [],
   "source": [
    "import pandas as pd"
   ]
  },
  {
   "cell_type": "markdown",
   "metadata": {
    "deletable": false,
    "id": "Ml1hmfXC_Zcs"
   },
   "source": [
    "## Обзор данных\n",
    "\n"
   ]
  },
  {
   "cell_type": "code",
   "execution_count": 2,
   "metadata": {
    "deletable": false,
    "id": "fFVu7vqh_Zct"
   },
   "outputs": [],
   "source": [
    "try:\n",
    "    df = pd.read_csv('datasets\\yandex_music_project.csv')\n",
    "except:\n",
    "    df = pd.read_csv('https://code.s3.yandex.net/datasets/yandex_music_project.csv')"
   ]
  },
  {
   "cell_type": "code",
   "execution_count": 3,
   "metadata": {
    "deletable": false,
    "id": "oWTVX3gW_Zct"
   },
   "outputs": [
    {
     "data": {
      "text/html": [
       "<div>\n",
       "<style scoped>\n",
       "    .dataframe tbody tr th:only-of-type {\n",
       "        vertical-align: middle;\n",
       "    }\n",
       "\n",
       "    .dataframe tbody tr th {\n",
       "        vertical-align: top;\n",
       "    }\n",
       "\n",
       "    .dataframe thead th {\n",
       "        text-align: right;\n",
       "    }\n",
       "</style>\n",
       "<table border=\"1\" class=\"dataframe\">\n",
       "  <thead>\n",
       "    <tr style=\"text-align: right;\">\n",
       "      <th></th>\n",
       "      <th>userID</th>\n",
       "      <th>Track</th>\n",
       "      <th>artist</th>\n",
       "      <th>genre</th>\n",
       "      <th>City</th>\n",
       "      <th>time</th>\n",
       "      <th>Day</th>\n",
       "    </tr>\n",
       "  </thead>\n",
       "  <tbody>\n",
       "    <tr>\n",
       "      <th>0</th>\n",
       "      <td>FFB692EC</td>\n",
       "      <td>Kamigata To Boots</td>\n",
       "      <td>The Mass Missile</td>\n",
       "      <td>rock</td>\n",
       "      <td>Saint-Petersburg</td>\n",
       "      <td>20:28:33</td>\n",
       "      <td>Wednesday</td>\n",
       "    </tr>\n",
       "    <tr>\n",
       "      <th>1</th>\n",
       "      <td>55204538</td>\n",
       "      <td>Delayed Because of Accident</td>\n",
       "      <td>Andreas Rönnberg</td>\n",
       "      <td>rock</td>\n",
       "      <td>Moscow</td>\n",
       "      <td>14:07:09</td>\n",
       "      <td>Friday</td>\n",
       "    </tr>\n",
       "    <tr>\n",
       "      <th>2</th>\n",
       "      <td>20EC38</td>\n",
       "      <td>Funiculì funiculà</td>\n",
       "      <td>Mario Lanza</td>\n",
       "      <td>pop</td>\n",
       "      <td>Saint-Petersburg</td>\n",
       "      <td>20:58:07</td>\n",
       "      <td>Wednesday</td>\n",
       "    </tr>\n",
       "    <tr>\n",
       "      <th>3</th>\n",
       "      <td>A3DD03C9</td>\n",
       "      <td>Dragons in the Sunset</td>\n",
       "      <td>Fire + Ice</td>\n",
       "      <td>folk</td>\n",
       "      <td>Saint-Petersburg</td>\n",
       "      <td>08:37:09</td>\n",
       "      <td>Monday</td>\n",
       "    </tr>\n",
       "    <tr>\n",
       "      <th>4</th>\n",
       "      <td>E2DC1FAE</td>\n",
       "      <td>Soul People</td>\n",
       "      <td>Space Echo</td>\n",
       "      <td>dance</td>\n",
       "      <td>Moscow</td>\n",
       "      <td>08:34:34</td>\n",
       "      <td>Monday</td>\n",
       "    </tr>\n",
       "    <tr>\n",
       "      <th>5</th>\n",
       "      <td>842029A1</td>\n",
       "      <td>Преданная</td>\n",
       "      <td>IMPERVTOR</td>\n",
       "      <td>rusrap</td>\n",
       "      <td>Saint-Petersburg</td>\n",
       "      <td>13:09:41</td>\n",
       "      <td>Friday</td>\n",
       "    </tr>\n",
       "    <tr>\n",
       "      <th>6</th>\n",
       "      <td>4CB90AA5</td>\n",
       "      <td>True</td>\n",
       "      <td>Roman Messer</td>\n",
       "      <td>dance</td>\n",
       "      <td>Moscow</td>\n",
       "      <td>13:00:07</td>\n",
       "      <td>Wednesday</td>\n",
       "    </tr>\n",
       "    <tr>\n",
       "      <th>7</th>\n",
       "      <td>F03E1C1F</td>\n",
       "      <td>Feeling This Way</td>\n",
       "      <td>Polina Griffith</td>\n",
       "      <td>dance</td>\n",
       "      <td>Moscow</td>\n",
       "      <td>20:47:49</td>\n",
       "      <td>Wednesday</td>\n",
       "    </tr>\n",
       "    <tr>\n",
       "      <th>8</th>\n",
       "      <td>8FA1D3BE</td>\n",
       "      <td>И вновь продолжается бой</td>\n",
       "      <td>NaN</td>\n",
       "      <td>ruspop</td>\n",
       "      <td>Moscow</td>\n",
       "      <td>09:17:40</td>\n",
       "      <td>Friday</td>\n",
       "    </tr>\n",
       "    <tr>\n",
       "      <th>9</th>\n",
       "      <td>E772D5C0</td>\n",
       "      <td>Pessimist</td>\n",
       "      <td>NaN</td>\n",
       "      <td>dance</td>\n",
       "      <td>Saint-Petersburg</td>\n",
       "      <td>21:20:49</td>\n",
       "      <td>Wednesday</td>\n",
       "    </tr>\n",
       "  </tbody>\n",
       "</table>\n",
       "</div>"
      ],
      "text/plain": [
       "     userID                        Track            artist   genre  \\\n",
       "0  FFB692EC            Kamigata To Boots  The Mass Missile    rock   \n",
       "1  55204538  Delayed Because of Accident  Andreas Rönnberg    rock   \n",
       "2    20EC38            Funiculì funiculà       Mario Lanza     pop   \n",
       "3  A3DD03C9        Dragons in the Sunset        Fire + Ice    folk   \n",
       "4  E2DC1FAE                  Soul People        Space Echo   dance   \n",
       "5  842029A1                    Преданная         IMPERVTOR  rusrap   \n",
       "6  4CB90AA5                         True      Roman Messer   dance   \n",
       "7  F03E1C1F             Feeling This Way   Polina Griffith   dance   \n",
       "8  8FA1D3BE     И вновь продолжается бой               NaN  ruspop   \n",
       "9  E772D5C0                    Pessimist               NaN   dance   \n",
       "\n",
       "             City        time        Day  \n",
       "0  Saint-Petersburg  20:28:33  Wednesday  \n",
       "1            Moscow  14:07:09     Friday  \n",
       "2  Saint-Petersburg  20:58:07  Wednesday  \n",
       "3  Saint-Petersburg  08:37:09     Monday  \n",
       "4            Moscow  08:34:34     Monday  \n",
       "5  Saint-Petersburg  13:09:41     Friday  \n",
       "6            Moscow  13:00:07  Wednesday  \n",
       "7            Moscow  20:47:49  Wednesday  \n",
       "8            Moscow  09:17:40     Friday  \n",
       "9  Saint-Petersburg  21:20:49  Wednesday  "
      ]
     },
     "execution_count": 3,
     "metadata": {},
     "output_type": "execute_result"
    }
   ],
   "source": [
    "df.head(10)"
   ]
  },
  {
   "cell_type": "code",
   "execution_count": 4,
   "metadata": {
    "deletable": false,
    "id": "DSf2kIb-_Zct"
   },
   "outputs": [
    {
     "name": "stdout",
     "output_type": "stream",
     "text": [
      "<class 'pandas.core.frame.DataFrame'>\n",
      "RangeIndex: 65079 entries, 0 to 65078\n",
      "Data columns (total 7 columns):\n",
      " #   Column    Non-Null Count  Dtype \n",
      "---  ------    --------------  ----- \n",
      " 0     userID  65079 non-null  object\n",
      " 1   Track     63848 non-null  object\n",
      " 2   artist    57876 non-null  object\n",
      " 3   genre     63881 non-null  object\n",
      " 4     City    65079 non-null  object\n",
      " 5   time      65079 non-null  object\n",
      " 6   Day       65079 non-null  object\n",
      "dtypes: object(7)\n",
      "memory usage: 3.5+ MB\n"
     ]
    }
   ],
   "source": [
    "df.info()"
   ]
  },
  {
   "cell_type": "markdown",
   "metadata": {
    "id": "TaQ2Iwbr_Zct"
   },
   "source": [
    "В таблице семь столбцов. Тип данных во всех столбцах — `object`.\n",
    "\n",
    "Согласно документации к данным:\n",
    "* `userID` — идентификатор пользователя;\n",
    "* `Track` — название трека;  \n",
    "* `artist` — имя исполнителя;\n",
    "* `genre` — название жанра;\n",
    "* `City` — город пользователя;\n",
    "* `time` — время начала прослушивания;\n",
    "* `Day` — день недели.\n",
    "\n",
    "Количество значений в столбцах различается. Значит, в данных есть пропущенные значения.\n",
    "\n",
    "В названиях колонок видны нарушения стиля:\n",
    "* Строчные буквы сочетаются с прописными.\n",
    "* Встречаются пробелы.\n",
    "* Отсутствие стиля snake_case."
   ]
  },
  {
   "cell_type": "markdown",
   "metadata": {
    "deletable": false,
    "id": "MCB6-dXG_Zct"
   },
   "source": [
    "**Вывод**\n",
    "\n",
    "В каждой строке таблицы — данные о прослушанном треке. Часть колонок описывает саму композицию: название, исполнителя и жанр. Остальные данные рассказывают о пользователе: из какого он города, когда он слушал музыку. \n",
    "\n",
    "Предварительно можно утверждать, что данных достаточно для проверки гипотез. Но встречаются пропуски в данных, а в названиях колонок — расхождения с хорошим стилем.\n",
    "\n",
    "Чтобы двигаться дальше, нужно устранить проблемы в данных."
   ]
  },
  {
   "cell_type": "markdown",
   "metadata": {
    "id": "SjYF6Ub9_Zct"
   },
   "source": [
    "## Предобработка данных"
   ]
  },
  {
   "cell_type": "markdown",
   "metadata": {
    "deletable": false,
    "id": "dIaKXr29_Zct",
    "tags": [
     "start_task"
    ]
   },
   "source": [
    "### Стиль заголовков"
   ]
  },
  {
   "cell_type": "markdown",
   "metadata": {},
   "source": [
    "Выведем на экран названия столбцов."
   ]
  },
  {
   "cell_type": "code",
   "execution_count": 5,
   "metadata": {
    "deletable": false,
    "id": "oKOTdF_Q_Zct"
   },
   "outputs": [
    {
     "data": {
      "text/plain": [
       "Index(['  userID', 'Track', 'artist', 'genre', '  City  ', 'time', 'Day'], dtype='object')"
      ]
     },
     "execution_count": 5,
     "metadata": {},
     "output_type": "execute_result"
    }
   ],
   "source": [
    "df.columns"
   ]
  },
  {
   "cell_type": "markdown",
   "metadata": {
    "deletable": false,
    "id": "zj5534cv_Zct",
    "tags": [
     "start_task"
    ]
   },
   "source": [
    "Приведем названия в соответствие с хорошим стилем:\n",
    "* несколько слов в названии запишем в \"змеином регистре\",\n",
    "* все символы сделаем строчными,\n",
    "* устраним пробелы."
   ]
  },
  {
   "cell_type": "code",
   "execution_count": 6,
   "metadata": {
    "deletable": false,
    "id": "ISlFqs5y_Zct"
   },
   "outputs": [],
   "source": [
    "df = df.rename(columns={'  userID' : 'user_id', 'Track' : 'track', '  City  ' : 'city', 'Day' : 'day'})"
   ]
  },
  {
   "cell_type": "code",
   "execution_count": 7,
   "metadata": {
    "deletable": false,
    "id": "d4NOAmTW_Zct"
   },
   "outputs": [
    {
     "data": {
      "text/plain": [
       "Index(['user_id', 'track', 'artist', 'genre', 'city', 'time', 'day'], dtype='object')"
      ]
     },
     "execution_count": 7,
     "metadata": {},
     "output_type": "execute_result"
    }
   ],
   "source": [
    "df.columns"
   ]
  },
  {
   "cell_type": "markdown",
   "metadata": {
    "id": "5ISfbcfY_Zct",
    "tags": [
     "start_task"
    ]
   },
   "source": [
    "### Пропуски значений"
   ]
  },
  {
   "cell_type": "code",
   "execution_count": 8,
   "metadata": {
    "deletable": false,
    "id": "RskX29qr_Zct"
   },
   "outputs": [
    {
     "data": {
      "text/plain": [
       "user_id       0\n",
       "track      1231\n",
       "artist     7203\n",
       "genre      1198\n",
       "city          0\n",
       "time          0\n",
       "day           0\n",
       "dtype: int64"
      ]
     },
     "execution_count": 8,
     "metadata": {},
     "output_type": "execute_result"
    }
   ],
   "source": [
    "df.isna().sum()"
   ]
  },
  {
   "cell_type": "markdown",
   "metadata": {
    "id": "fSv2laPA_Zct",
    "tags": [
     "start_task"
    ]
   },
   "source": [
    "Заменим пропущенные значения в столбцах `track`, `artist` и `genre` на строку `'unknown'`."
   ]
  },
  {
   "cell_type": "code",
   "execution_count": 9,
   "metadata": {
    "deletable": false,
    "id": "KplB5qWs_Zct"
   },
   "outputs": [],
   "source": [
    "columns_to_replace = ['track', 'artist', 'genre']\n",
    "df[columns_to_replace] = df[columns_to_replace].fillna('unknown')"
   ]
  },
  {
   "cell_type": "code",
   "execution_count": 10,
   "metadata": {
    "deletable": false,
    "id": "Tq4nYRX4_Zct"
   },
   "outputs": [
    {
     "data": {
      "text/plain": [
       "user_id    0\n",
       "track      0\n",
       "artist     0\n",
       "genre      0\n",
       "city       0\n",
       "time       0\n",
       "day        0\n",
       "dtype: int64"
      ]
     },
     "execution_count": 10,
     "metadata": {},
     "output_type": "execute_result"
    }
   ],
   "source": [
    "df.isna().sum()"
   ]
  },
  {
   "cell_type": "markdown",
   "metadata": {
    "id": "BWKRtBJ3_Zct",
    "tags": [
     "start_task"
    ]
   },
   "source": [
    "### Дубликаты"
   ]
  },
  {
   "cell_type": "code",
   "execution_count": 11,
   "metadata": {
    "deletable": false,
    "id": "36eES_S0_Zct"
   },
   "outputs": [
    {
     "data": {
      "text/plain": [
       "3826"
      ]
     },
     "execution_count": 11,
     "metadata": {},
     "output_type": "execute_result"
    }
   ],
   "source": [
    "df.duplicated().sum()"
   ]
  },
  {
   "cell_type": "markdown",
   "metadata": {
    "id": "Ot25h6XR_Zct",
    "tags": [
     "start_task"
    ]
   },
   "source": [
    "Удалим явные дубликаты."
   ]
  },
  {
   "cell_type": "code",
   "execution_count": 12,
   "metadata": {
    "deletable": false,
    "id": "exFHq6tt_Zct"
   },
   "outputs": [],
   "source": [
    "df = df.drop_duplicates()"
   ]
  },
  {
   "cell_type": "code",
   "execution_count": 13,
   "metadata": {
    "deletable": false,
    "id": "-8PuNWQ0_Zct"
   },
   "outputs": [
    {
     "data": {
      "text/plain": [
       "0"
      ]
     },
     "execution_count": 13,
     "metadata": {},
     "output_type": "execute_result"
    }
   ],
   "source": [
    "df.duplicated().sum()"
   ]
  },
  {
   "cell_type": "markdown",
   "metadata": {
    "id": "QlFBsxAr_Zct"
   },
   "source": [
    "Проверим существование неявных дубликатов в столбце `genre`."
   ]
  },
  {
   "cell_type": "code",
   "execution_count": 14,
   "metadata": {
    "deletable": false,
    "id": "JIUcqzZN_Zct"
   },
   "outputs": [
    {
     "data": {
      "text/plain": [
       "array(['acid', 'acoustic', 'action', 'adult', 'africa', 'afrikaans',\n",
       "       'alternative', 'alternativepunk', 'ambient', 'americana',\n",
       "       'animated', 'anime', 'arabesk', 'arabic', 'arena',\n",
       "       'argentinetango', 'art', 'audiobook', 'author', 'avantgarde',\n",
       "       'axé', 'baile', 'balkan', 'beats', 'bigroom', 'black', 'bluegrass',\n",
       "       'blues', 'bollywood', 'bossa', 'brazilian', 'breakbeat', 'breaks',\n",
       "       'broadway', 'cantautori', 'cantopop', 'canzone', 'caribbean',\n",
       "       'caucasian', 'celtic', 'chamber', 'chanson', 'children', 'chill',\n",
       "       'chinese', 'choral', 'christian', 'christmas', 'classical',\n",
       "       'classicmetal', 'club', 'colombian', 'comedy', 'conjazz',\n",
       "       'contemporary', 'country', 'cuban', 'dance', 'dancehall',\n",
       "       'dancepop', 'dark', 'death', 'deep', 'deutschrock', 'deutschspr',\n",
       "       'dirty', 'disco', 'dnb', 'documentary', 'downbeat', 'downtempo',\n",
       "       'drum', 'dub', 'dubstep', 'eastern', 'easy', 'electronic',\n",
       "       'electropop', 'emo', 'entehno', 'epicmetal', 'estrada', 'ethnic',\n",
       "       'eurofolk', 'european', 'experimental', 'extrememetal', 'fado',\n",
       "       'fairytail', 'film', 'fitness', 'flamenco', 'folk', 'folklore',\n",
       "       'folkmetal', 'folkrock', 'folktronica', 'forró', 'frankreich',\n",
       "       'französisch', 'french', 'funk', 'future', 'gangsta', 'garage',\n",
       "       'german', 'ghazal', 'gitarre', 'glitch', 'gospel', 'gothic',\n",
       "       'grime', 'grunge', 'gypsy', 'handsup', \"hard'n'heavy\", 'hardcore',\n",
       "       'hardstyle', 'hardtechno', 'hip', 'hip-hop', 'hiphop',\n",
       "       'historisch', 'holiday', 'hop', 'horror', 'house', 'hymn', 'idm',\n",
       "       'independent', 'indian', 'indie', 'indipop', 'industrial',\n",
       "       'inspirational', 'instrumental', 'international', 'irish', 'jam',\n",
       "       'japanese', 'jazz', 'jewish', 'jpop', 'jungle', 'k-pop',\n",
       "       'karadeniz', 'karaoke', 'kayokyoku', 'korean', 'laiko', 'latin',\n",
       "       'latino', 'leftfield', 'local', 'lounge', 'loungeelectronic',\n",
       "       'lovers', 'malaysian', 'mandopop', 'marschmusik', 'meditative',\n",
       "       'mediterranean', 'melodic', 'metal', 'metalcore', 'mexican',\n",
       "       'middle', 'minimal', 'miscellaneous', 'modern', 'mood', 'mpb',\n",
       "       'muslim', 'native', 'neoklassik', 'neue', 'new', 'newage',\n",
       "       'newwave', 'nu', 'nujazz', 'numetal', 'oceania', 'old', 'opera',\n",
       "       'orchestral', 'other', 'piano', 'podcasts', 'pop', 'popdance',\n",
       "       'popelectronic', 'popeurodance', 'poprussian', 'post',\n",
       "       'posthardcore', 'postrock', 'power', 'progmetal', 'progressive',\n",
       "       'psychedelic', 'punjabi', 'punk', 'quebecois', 'ragga', 'ram',\n",
       "       'rancheras', 'rap', 'rave', 'reggae', 'reggaeton', 'regional',\n",
       "       'relax', 'religious', 'retro', 'rhythm', 'rnb', 'rnr', 'rock',\n",
       "       'rockabilly', 'rockalternative', 'rockindie', 'rockother',\n",
       "       'romance', 'roots', 'ruspop', 'rusrap', 'rusrock', 'russian',\n",
       "       'salsa', 'samba', 'scenic', 'schlager', 'self', 'sertanejo',\n",
       "       'shanson', 'shoegazing', 'showtunes', 'singer', 'ska', 'skarock',\n",
       "       'slow', 'smooth', 'soft', 'soul', 'soulful', 'sound', 'soundtrack',\n",
       "       'southern', 'specialty', 'speech', 'spiritual', 'sport',\n",
       "       'stonerrock', 'surf', 'swing', 'synthpop', 'synthrock',\n",
       "       'sängerportrait', 'tango', 'tanzorchester', 'taraftar', 'tatar',\n",
       "       'tech', 'techno', 'teen', 'thrash', 'top', 'traditional',\n",
       "       'tradjazz', 'trance', 'tribal', 'trip', 'triphop', 'tropical',\n",
       "       'türk', 'türkçe', 'ukrrock', 'unknown', 'urban', 'uzbek',\n",
       "       'variété', 'vi', 'videogame', 'vocal', 'western', 'world',\n",
       "       'worldbeat', 'ïîï', 'электроника'], dtype=object)"
      ]
     },
     "execution_count": 14,
     "metadata": {},
     "output_type": "execute_result"
    }
   ],
   "source": [
    "df['genre'].sort_values().unique()"
   ]
  },
  {
   "cell_type": "markdown",
   "metadata": {
    "id": "qej-Qmuo_Zct",
    "tags": [
     "start_task"
    ]
   },
   "source": [
    "Имеются неявные дубликаты названия `hiphop`:\n",
    "* hip,\n",
    "* hop,\n",
    "* hip-hop.\n",
    "\n",
    "Приведем их к значению `hiphop`."
   ]
  },
  {
   "cell_type": "code",
   "execution_count": 15,
   "metadata": {
    "deletable": false,
    "id": "ErNDkmns_Zct"
   },
   "outputs": [],
   "source": [
    "df['genre'] = df['genre'].replace('hip', 'hiphop')\n",
    "df['genre'] = df['genre'].replace('hop', 'hiphop')\n",
    "df['genre'] = df['genre'].replace('hip-hop', 'hiphop')"
   ]
  },
  {
   "cell_type": "code",
   "execution_count": 16,
   "metadata": {
    "deletable": false,
    "id": "wvixALnFG15m"
   },
   "outputs": [
    {
     "data": {
      "text/plain": [
       "array(['acid', 'acoustic', 'action', 'adult', 'africa', 'afrikaans',\n",
       "       'alternative', 'alternativepunk', 'ambient', 'americana',\n",
       "       'animated', 'anime', 'arabesk', 'arabic', 'arena',\n",
       "       'argentinetango', 'art', 'audiobook', 'author', 'avantgarde',\n",
       "       'axé', 'baile', 'balkan', 'beats', 'bigroom', 'black', 'bluegrass',\n",
       "       'blues', 'bollywood', 'bossa', 'brazilian', 'breakbeat', 'breaks',\n",
       "       'broadway', 'cantautori', 'cantopop', 'canzone', 'caribbean',\n",
       "       'caucasian', 'celtic', 'chamber', 'chanson', 'children', 'chill',\n",
       "       'chinese', 'choral', 'christian', 'christmas', 'classical',\n",
       "       'classicmetal', 'club', 'colombian', 'comedy', 'conjazz',\n",
       "       'contemporary', 'country', 'cuban', 'dance', 'dancehall',\n",
       "       'dancepop', 'dark', 'death', 'deep', 'deutschrock', 'deutschspr',\n",
       "       'dirty', 'disco', 'dnb', 'documentary', 'downbeat', 'downtempo',\n",
       "       'drum', 'dub', 'dubstep', 'eastern', 'easy', 'electronic',\n",
       "       'electropop', 'emo', 'entehno', 'epicmetal', 'estrada', 'ethnic',\n",
       "       'eurofolk', 'european', 'experimental', 'extrememetal', 'fado',\n",
       "       'fairytail', 'film', 'fitness', 'flamenco', 'folk', 'folklore',\n",
       "       'folkmetal', 'folkrock', 'folktronica', 'forró', 'frankreich',\n",
       "       'französisch', 'french', 'funk', 'future', 'gangsta', 'garage',\n",
       "       'german', 'ghazal', 'gitarre', 'glitch', 'gospel', 'gothic',\n",
       "       'grime', 'grunge', 'gypsy', 'handsup', \"hard'n'heavy\", 'hardcore',\n",
       "       'hardstyle', 'hardtechno', 'hiphop', 'historisch', 'holiday',\n",
       "       'horror', 'house', 'hymn', 'idm', 'independent', 'indian', 'indie',\n",
       "       'indipop', 'industrial', 'inspirational', 'instrumental',\n",
       "       'international', 'irish', 'jam', 'japanese', 'jazz', 'jewish',\n",
       "       'jpop', 'jungle', 'k-pop', 'karadeniz', 'karaoke', 'kayokyoku',\n",
       "       'korean', 'laiko', 'latin', 'latino', 'leftfield', 'local',\n",
       "       'lounge', 'loungeelectronic', 'lovers', 'malaysian', 'mandopop',\n",
       "       'marschmusik', 'meditative', 'mediterranean', 'melodic', 'metal',\n",
       "       'metalcore', 'mexican', 'middle', 'minimal', 'miscellaneous',\n",
       "       'modern', 'mood', 'mpb', 'muslim', 'native', 'neoklassik', 'neue',\n",
       "       'new', 'newage', 'newwave', 'nu', 'nujazz', 'numetal', 'oceania',\n",
       "       'old', 'opera', 'orchestral', 'other', 'piano', 'podcasts', 'pop',\n",
       "       'popdance', 'popelectronic', 'popeurodance', 'poprussian', 'post',\n",
       "       'posthardcore', 'postrock', 'power', 'progmetal', 'progressive',\n",
       "       'psychedelic', 'punjabi', 'punk', 'quebecois', 'ragga', 'ram',\n",
       "       'rancheras', 'rap', 'rave', 'reggae', 'reggaeton', 'regional',\n",
       "       'relax', 'religious', 'retro', 'rhythm', 'rnb', 'rnr', 'rock',\n",
       "       'rockabilly', 'rockalternative', 'rockindie', 'rockother',\n",
       "       'romance', 'roots', 'ruspop', 'rusrap', 'rusrock', 'russian',\n",
       "       'salsa', 'samba', 'scenic', 'schlager', 'self', 'sertanejo',\n",
       "       'shanson', 'shoegazing', 'showtunes', 'singer', 'ska', 'skarock',\n",
       "       'slow', 'smooth', 'soft', 'soul', 'soulful', 'sound', 'soundtrack',\n",
       "       'southern', 'specialty', 'speech', 'spiritual', 'sport',\n",
       "       'stonerrock', 'surf', 'swing', 'synthpop', 'synthrock',\n",
       "       'sängerportrait', 'tango', 'tanzorchester', 'taraftar', 'tatar',\n",
       "       'tech', 'techno', 'teen', 'thrash', 'top', 'traditional',\n",
       "       'tradjazz', 'trance', 'tribal', 'trip', 'triphop', 'tropical',\n",
       "       'türk', 'türkçe', 'ukrrock', 'unknown', 'urban', 'uzbek',\n",
       "       'variété', 'vi', 'videogame', 'vocal', 'western', 'world',\n",
       "       'worldbeat', 'ïîï', 'электроника'], dtype=object)"
      ]
     },
     "execution_count": 16,
     "metadata": {},
     "output_type": "execute_result"
    }
   ],
   "source": [
    "df['genre'].sort_values().unique()"
   ]
  },
  {
   "cell_type": "markdown",
   "metadata": {
    "id": "jz6a9-7HQUDd"
   },
   "source": [
    "**Вывод**\n",
    "\n",
    "Предобработка обнаружила три проблемы в данных:\n",
    "\n",
    "- нарушения в стиле заголовков,\n",
    "- пропущенные значения,\n",
    "- дубликаты — явные и неявные.\n",
    "\n",
    "Заголовки исправлены , пропущенные значения заменены на `'unknown'`, устранены дубликаты."
   ]
  },
  {
   "cell_type": "markdown",
   "metadata": {
    "deletable": false,
    "editable": false,
    "id": "WttZHXH0SqKk"
   },
   "source": [
    "## Проверка гипотез"
   ]
  },
  {
   "cell_type": "markdown",
   "metadata": {
    "deletable": false,
    "editable": false,
    "id": "Im936VVi_Zcu"
   },
   "source": [
    "### Сравнение поведения пользователей двух столиц"
   ]
  },
  {
   "cell_type": "markdown",
   "metadata": {
    "id": "nwt_MuaL_Zcu"
   },
   "source": [
    "Первая гипотеза утверждает, что пользователи по-разному слушают музыку в Москве и Санкт-Петербурге. Проверим это предположение по данным о трёх днях недели — понедельнике, среде и пятнице. Для этого:\n",
    "\n",
    "* Разделим пользователей Москвы и Санкт-Петербурга.\n",
    "* Сравним, сколько треков послушала каждая группа пользователей в понедельник, среду и пятницу.\n"
   ]
  },
  {
   "cell_type": "markdown",
   "metadata": {
    "id": "8Dw_YMmT_Zcu",
    "tags": [
     "start_task"
    ]
   },
   "source": [
    "Оценим активность пользователей в каждом городе. Сгруппируем данные по городу и посчитаем прослушивания в каждой группе."
   ]
  },
  {
   "cell_type": "code",
   "execution_count": 17,
   "metadata": {
    "deletable": false,
    "id": "0_Qs96oh_Zcu"
   },
   "outputs": [
    {
     "data": {
      "text/plain": [
       "city\n",
       "Moscow              42741\n",
       "Saint-Petersburg    18512\n",
       "Name: track, dtype: int64"
      ]
     },
     "execution_count": 17,
     "metadata": {},
     "output_type": "execute_result"
    }
   ],
   "source": [
    "df.groupby('city')['track'].count()"
   ]
  },
  {
   "cell_type": "markdown",
   "metadata": {
    "id": "dzli3w8o_Zcu",
    "tags": [
     "start_task"
    ]
   },
   "source": [
    "В Москве прослушиваний больше, чем в Петербурге. Из этого не следует, что московские пользователи чаще слушают музыку. \n",
    "\n",
    "Сгруппируем данные по дню недели и посчитаем прослушивания в понедельник, среду и пятницу."
   ]
  },
  {
   "cell_type": "code",
   "execution_count": 18,
   "metadata": {
    "deletable": false,
    "id": "uZMKjiJz_Zcu",
    "scrolled": true
   },
   "outputs": [
    {
     "data": {
      "text/plain": [
       "day\n",
       "Friday       21840\n",
       "Monday       21354\n",
       "Wednesday    18059\n",
       "Name: track, dtype: int64"
      ]
     },
     "execution_count": 18,
     "metadata": {},
     "output_type": "execute_result"
    }
   ],
   "source": [
    "df.groupby('day')['track'].count()"
   ]
  },
  {
   "cell_type": "markdown",
   "metadata": {
    "id": "cC2tNrlL_Zcu"
   },
   "source": [
    "В среднем пользователи из двух городов менее активны по средам."
   ]
  },
  {
   "cell_type": "markdown",
   "metadata": {
    "id": "POzs8bGa_Zcu",
    "tags": [
     "start_task"
    ]
   },
   "source": [
    "Создадим функцию `number_tracks()`, которая посчитает прослушивания для заданного дня и города."
   ]
  },
  {
   "cell_type": "code",
   "execution_count": 19,
   "metadata": {},
   "outputs": [
    {
     "data": {
      "text/html": [
       "<div>\n",
       "<style scoped>\n",
       "    .dataframe tbody tr th:only-of-type {\n",
       "        vertical-align: middle;\n",
       "    }\n",
       "\n",
       "    .dataframe tbody tr th {\n",
       "        vertical-align: top;\n",
       "    }\n",
       "\n",
       "    .dataframe thead th {\n",
       "        text-align: right;\n",
       "    }\n",
       "</style>\n",
       "<table border=\"1\" class=\"dataframe\">\n",
       "  <thead>\n",
       "    <tr style=\"text-align: right;\">\n",
       "      <th></th>\n",
       "      <th>user_id</th>\n",
       "      <th>track</th>\n",
       "      <th>artist</th>\n",
       "      <th>genre</th>\n",
       "      <th>city</th>\n",
       "      <th>time</th>\n",
       "      <th>day</th>\n",
       "    </tr>\n",
       "  </thead>\n",
       "  <tbody>\n",
       "    <tr>\n",
       "      <th>0</th>\n",
       "      <td>FFB692EC</td>\n",
       "      <td>Kamigata To Boots</td>\n",
       "      <td>The Mass Missile</td>\n",
       "      <td>rock</td>\n",
       "      <td>Saint-Petersburg</td>\n",
       "      <td>20:28:33</td>\n",
       "      <td>Wednesday</td>\n",
       "    </tr>\n",
       "    <tr>\n",
       "      <th>1</th>\n",
       "      <td>55204538</td>\n",
       "      <td>Delayed Because of Accident</td>\n",
       "      <td>Andreas Rönnberg</td>\n",
       "      <td>rock</td>\n",
       "      <td>Moscow</td>\n",
       "      <td>14:07:09</td>\n",
       "      <td>Friday</td>\n",
       "    </tr>\n",
       "    <tr>\n",
       "      <th>2</th>\n",
       "      <td>20EC38</td>\n",
       "      <td>Funiculì funiculà</td>\n",
       "      <td>Mario Lanza</td>\n",
       "      <td>pop</td>\n",
       "      <td>Saint-Petersburg</td>\n",
       "      <td>20:58:07</td>\n",
       "      <td>Wednesday</td>\n",
       "    </tr>\n",
       "    <tr>\n",
       "      <th>3</th>\n",
       "      <td>A3DD03C9</td>\n",
       "      <td>Dragons in the Sunset</td>\n",
       "      <td>Fire + Ice</td>\n",
       "      <td>folk</td>\n",
       "      <td>Saint-Petersburg</td>\n",
       "      <td>08:37:09</td>\n",
       "      <td>Monday</td>\n",
       "    </tr>\n",
       "    <tr>\n",
       "      <th>4</th>\n",
       "      <td>E2DC1FAE</td>\n",
       "      <td>Soul People</td>\n",
       "      <td>Space Echo</td>\n",
       "      <td>dance</td>\n",
       "      <td>Moscow</td>\n",
       "      <td>08:34:34</td>\n",
       "      <td>Monday</td>\n",
       "    </tr>\n",
       "    <tr>\n",
       "      <th>...</th>\n",
       "      <td>...</td>\n",
       "      <td>...</td>\n",
       "      <td>...</td>\n",
       "      <td>...</td>\n",
       "      <td>...</td>\n",
       "      <td>...</td>\n",
       "      <td>...</td>\n",
       "    </tr>\n",
       "    <tr>\n",
       "      <th>65074</th>\n",
       "      <td>729CBB09</td>\n",
       "      <td>My Name</td>\n",
       "      <td>McLean</td>\n",
       "      <td>rnb</td>\n",
       "      <td>Moscow</td>\n",
       "      <td>13:32:28</td>\n",
       "      <td>Wednesday</td>\n",
       "    </tr>\n",
       "    <tr>\n",
       "      <th>65075</th>\n",
       "      <td>D08D4A55</td>\n",
       "      <td>Maybe One Day (feat. Black Spade)</td>\n",
       "      <td>Blu &amp; Exile</td>\n",
       "      <td>hiphop</td>\n",
       "      <td>Saint-Petersburg</td>\n",
       "      <td>10:00:00</td>\n",
       "      <td>Monday</td>\n",
       "    </tr>\n",
       "    <tr>\n",
       "      <th>65076</th>\n",
       "      <td>C5E3A0D5</td>\n",
       "      <td>Jalopiina</td>\n",
       "      <td>unknown</td>\n",
       "      <td>industrial</td>\n",
       "      <td>Moscow</td>\n",
       "      <td>20:09:26</td>\n",
       "      <td>Friday</td>\n",
       "    </tr>\n",
       "    <tr>\n",
       "      <th>65077</th>\n",
       "      <td>321D0506</td>\n",
       "      <td>Freight Train</td>\n",
       "      <td>Chas McDevitt</td>\n",
       "      <td>rock</td>\n",
       "      <td>Moscow</td>\n",
       "      <td>21:43:59</td>\n",
       "      <td>Friday</td>\n",
       "    </tr>\n",
       "    <tr>\n",
       "      <th>65078</th>\n",
       "      <td>3A64EF84</td>\n",
       "      <td>Tell Me Sweet Little Lies</td>\n",
       "      <td>Monica Lopez</td>\n",
       "      <td>country</td>\n",
       "      <td>Moscow</td>\n",
       "      <td>21:59:46</td>\n",
       "      <td>Friday</td>\n",
       "    </tr>\n",
       "  </tbody>\n",
       "</table>\n",
       "<p>61253 rows × 7 columns</p>\n",
       "</div>"
      ],
      "text/plain": [
       "        user_id                              track            artist  \\\n",
       "0      FFB692EC                  Kamigata To Boots  The Mass Missile   \n",
       "1      55204538        Delayed Because of Accident  Andreas Rönnberg   \n",
       "2        20EC38                  Funiculì funiculà       Mario Lanza   \n",
       "3      A3DD03C9              Dragons in the Sunset        Fire + Ice   \n",
       "4      E2DC1FAE                        Soul People        Space Echo   \n",
       "...         ...                                ...               ...   \n",
       "65074  729CBB09                            My Name            McLean   \n",
       "65075  D08D4A55  Maybe One Day (feat. Black Spade)       Blu & Exile   \n",
       "65076  C5E3A0D5                          Jalopiina           unknown   \n",
       "65077  321D0506                      Freight Train     Chas McDevitt   \n",
       "65078  3A64EF84          Tell Me Sweet Little Lies      Monica Lopez   \n",
       "\n",
       "            genre              city      time        day  \n",
       "0            rock  Saint-Petersburg  20:28:33  Wednesday  \n",
       "1            rock            Moscow  14:07:09     Friday  \n",
       "2             pop  Saint-Petersburg  20:58:07  Wednesday  \n",
       "3            folk  Saint-Petersburg  08:37:09     Monday  \n",
       "4           dance            Moscow  08:34:34     Monday  \n",
       "...           ...               ...       ...        ...  \n",
       "65074         rnb            Moscow  13:32:28  Wednesday  \n",
       "65075      hiphop  Saint-Petersburg  10:00:00     Monday  \n",
       "65076  industrial            Moscow  20:09:26     Friday  \n",
       "65077        rock            Moscow  21:43:59     Friday  \n",
       "65078     country            Moscow  21:59:46     Friday  \n",
       "\n",
       "[61253 rows x 7 columns]"
      ]
     },
     "execution_count": 19,
     "metadata": {},
     "output_type": "execute_result"
    }
   ],
   "source": [
    "df"
   ]
  },
  {
   "cell_type": "code",
   "execution_count": 20,
   "metadata": {
    "deletable": false,
    "id": "Nz3GdQB1_Zcu"
   },
   "outputs": [],
   "source": [
    "def number_tracks(day, city):\n",
    "    track_list_count = df[(df['day'] == day) & (df['city'] == city)]['user_id'].count()\n",
    "    return track_list_count"
   ]
  },
  {
   "cell_type": "markdown",
   "metadata": {
    "id": "ytf7xFrFJQ2r",
    "tags": [
     "start_task"
    ]
   },
   "source": [
    "Получим данные для каждого города в каждый из трёх дней."
   ]
  },
  {
   "cell_type": "code",
   "execution_count": 21,
   "metadata": {
    "deletable": false,
    "id": "rJcRATNQ_Zcu"
   },
   "outputs": [
    {
     "data": {
      "text/plain": [
       "15740"
      ]
     },
     "execution_count": 21,
     "metadata": {},
     "output_type": "execute_result"
    }
   ],
   "source": [
    "number_tracks('Monday', 'Moscow')"
   ]
  },
  {
   "cell_type": "code",
   "execution_count": 22,
   "metadata": {
    "deletable": false,
    "id": "hq_ncZ5T_Zcu"
   },
   "outputs": [
    {
     "data": {
      "text/plain": [
       "5614"
      ]
     },
     "execution_count": 22,
     "metadata": {},
     "output_type": "execute_result"
    }
   ],
   "source": [
    "number_tracks('Monday', 'Saint-Petersburg')"
   ]
  },
  {
   "cell_type": "code",
   "execution_count": 23,
   "metadata": {
    "deletable": false,
    "id": "_NTy2VPU_Zcu"
   },
   "outputs": [
    {
     "data": {
      "text/plain": [
       "11056"
      ]
     },
     "execution_count": 23,
     "metadata": {},
     "output_type": "execute_result"
    }
   ],
   "source": [
    "number_tracks('Wednesday', 'Moscow')"
   ]
  },
  {
   "cell_type": "code",
   "execution_count": 24,
   "metadata": {
    "deletable": false,
    "id": "j2y3TAwo_Zcu"
   },
   "outputs": [
    {
     "data": {
      "text/plain": [
       "7003"
      ]
     },
     "execution_count": 24,
     "metadata": {},
     "output_type": "execute_result"
    }
   ],
   "source": [
    "number_tracks('Wednesday', 'Saint-Petersburg')"
   ]
  },
  {
   "cell_type": "code",
   "execution_count": 25,
   "metadata": {
    "deletable": false,
    "id": "vYDw5u_K_Zcu"
   },
   "outputs": [
    {
     "data": {
      "text/plain": [
       "15945"
      ]
     },
     "execution_count": 25,
     "metadata": {},
     "output_type": "execute_result"
    }
   ],
   "source": [
    "number_tracks('Friday', 'Moscow')"
   ]
  },
  {
   "cell_type": "code",
   "execution_count": 26,
   "metadata": {
    "deletable": false,
    "id": "8_yzFtW3_Zcu"
   },
   "outputs": [
    {
     "data": {
      "text/plain": [
       "5895"
      ]
     },
     "execution_count": 26,
     "metadata": {},
     "output_type": "execute_result"
    }
   ],
   "source": [
    "number_tracks('Friday', 'Saint-Petersburg')"
   ]
  },
  {
   "cell_type": "code",
   "execution_count": 27,
   "metadata": {
    "deletable": false,
    "id": "APAcLpOr_Zcu"
   },
   "outputs": [],
   "source": [
    "info = pd.DataFrame(data=[['Moscow', 15740, 11056, 15945],\n",
    "                          ['Saint-Petersburg', 5614, 7003, 5895]],\n",
    "                    columns=['city', 'monday', 'wednesday', 'friday'])"
   ]
  },
  {
   "cell_type": "code",
   "execution_count": 28,
   "metadata": {},
   "outputs": [
    {
     "data": {
      "text/html": [
       "<div>\n",
       "<style scoped>\n",
       "    .dataframe tbody tr th:only-of-type {\n",
       "        vertical-align: middle;\n",
       "    }\n",
       "\n",
       "    .dataframe tbody tr th {\n",
       "        vertical-align: top;\n",
       "    }\n",
       "\n",
       "    .dataframe thead th {\n",
       "        text-align: right;\n",
       "    }\n",
       "</style>\n",
       "<table border=\"1\" class=\"dataframe\">\n",
       "  <thead>\n",
       "    <tr style=\"text-align: right;\">\n",
       "      <th></th>\n",
       "      <th>city</th>\n",
       "      <th>monday</th>\n",
       "      <th>wednesday</th>\n",
       "      <th>friday</th>\n",
       "    </tr>\n",
       "  </thead>\n",
       "  <tbody>\n",
       "    <tr>\n",
       "      <th>0</th>\n",
       "      <td>Moscow</td>\n",
       "      <td>15740</td>\n",
       "      <td>11056</td>\n",
       "      <td>15945</td>\n",
       "    </tr>\n",
       "    <tr>\n",
       "      <th>1</th>\n",
       "      <td>Saint-Petersburg</td>\n",
       "      <td>5614</td>\n",
       "      <td>7003</td>\n",
       "      <td>5895</td>\n",
       "    </tr>\n",
       "  </tbody>\n",
       "</table>\n",
       "</div>"
      ],
      "text/plain": [
       "               city  monday  wednesday  friday\n",
       "0            Moscow   15740      11056   15945\n",
       "1  Saint-Petersburg    5614       7003    5895"
      ]
     },
     "execution_count": 28,
     "metadata": {},
     "output_type": "execute_result"
    }
   ],
   "source": [
    "info"
   ]
  },
  {
   "cell_type": "markdown",
   "metadata": {
    "id": "-EgPIHYu_Zcu"
   },
   "source": [
    "**Вывод**\n",
    "\n",
    "Данные показывают разницу поведения пользователей:\n",
    "\n",
    "- В Москве пик прослушиваний приходится на понедельник и пятницу, а в среду заметен спад.\n",
    "- В Петербурге, наоборот, больше слушают музыку по средам. Активность в понедельник и пятницу здесь почти в равной мере уступает среде.\n",
    "\n",
    "Значит, данные говорят в пользу первой гипотезы."
   ]
  },
  {
   "cell_type": "markdown",
   "metadata": {
    "deletable": false,
    "editable": false,
    "id": "atZAxtq4_Zcu"
   },
   "source": [
    "### Музыка в начале и в конце недели"
   ]
  },
  {
   "cell_type": "markdown",
   "metadata": {
    "deletable": false,
    "editable": false,
    "id": "eXrQqXFH_Zcu"
   },
   "source": [
    "Согласно второй гипотезе, утром в понедельник в Москве преобладают одни жанры, а в Петербурге — другие. Так же и вечером пятницы преобладают разные жанры — в зависимости от города."
   ]
  },
  {
   "cell_type": "code",
   "execution_count": 29,
   "metadata": {
    "deletable": false,
    "id": "qeaFfM_P_Zcu"
   },
   "outputs": [],
   "source": [
    "moscow_general = df[df['city'] == 'Moscow']"
   ]
  },
  {
   "cell_type": "code",
   "execution_count": 30,
   "metadata": {
    "deletable": false,
    "id": "ORaVRKto_Zcu"
   },
   "outputs": [],
   "source": [
    "spb_general = df[df['city'] == 'Saint-Petersburg']"
   ]
  },
  {
   "cell_type": "markdown",
   "metadata": {
    "id": "MEJV-CX2_Zcu",
    "tags": [
     "start_task"
    ]
   },
   "source": [
    "Создадим функцию `genre_weekday()`, которая возвращает информацию о топ-10 жанров тех треков, которые прослушивали в указанный день, в промежутке между двумя отметками времени."
   ]
  },
  {
   "cell_type": "code",
   "execution_count": 31,
   "metadata": {
    "deletable": false,
    "id": "laJT9BYl_Zcu"
   },
   "outputs": [],
   "source": [
    "def genre_weekday(table, day, time1, time2):\n",
    "    genre_df_grouped = (table[(table['day'] == day) & \n",
    "                              (table['time'] > time1) & \n",
    "                              (table['time'] < time2)]\n",
    "                        .groupby('genre')['genre'].count()\n",
    "                        .sort_values(ascending=False))\n",
    "    return genre_df_grouped[:10]"
   ]
  },
  {
   "cell_type": "markdown",
   "metadata": {
    "id": "la2s2_PF_Zcu",
    "tags": [
     "start_task"
    ]
   },
   "source": [
    "Cравним результаты для Москвы и Санкт-Петербурга в понедельник утром (с 7:00 до 11:00) и в пятницу вечером (с 17:00 до 23:00)."
   ]
  },
  {
   "cell_type": "code",
   "execution_count": 32,
   "metadata": {
    "deletable": false,
    "id": "yz7itPUQ_Zcu"
   },
   "outputs": [
    {
     "data": {
      "text/plain": [
       "genre\n",
       "pop            781\n",
       "dance          549\n",
       "electronic     480\n",
       "rock           474\n",
       "hiphop         286\n",
       "ruspop         186\n",
       "world          181\n",
       "rusrap         175\n",
       "alternative    164\n",
       "unknown        161\n",
       "Name: genre, dtype: int64"
      ]
     },
     "execution_count": 32,
     "metadata": {},
     "output_type": "execute_result"
    }
   ],
   "source": [
    "genre_weekday(moscow_general, 'Monday', '07:00', '11:00')"
   ]
  },
  {
   "cell_type": "code",
   "execution_count": 33,
   "metadata": {
    "deletable": false,
    "id": "kwUcHPdy_Zcu"
   },
   "outputs": [
    {
     "data": {
      "text/plain": [
       "genre\n",
       "pop            218\n",
       "dance          182\n",
       "rock           162\n",
       "electronic     147\n",
       "hiphop          80\n",
       "ruspop          64\n",
       "alternative     58\n",
       "rusrap          55\n",
       "jazz            44\n",
       "classical       40\n",
       "Name: genre, dtype: int64"
      ]
     },
     "execution_count": 33,
     "metadata": {},
     "output_type": "execute_result"
    }
   ],
   "source": [
    "genre_weekday(spb_general, 'Monday', '07:00', '11:00')"
   ]
  },
  {
   "cell_type": "code",
   "execution_count": 34,
   "metadata": {
    "deletable": false,
    "id": "EzXVRE1o_Zcu"
   },
   "outputs": [
    {
     "data": {
      "text/plain": [
       "genre\n",
       "pop            713\n",
       "rock           517\n",
       "dance          495\n",
       "electronic     482\n",
       "hiphop         273\n",
       "world          208\n",
       "ruspop         170\n",
       "alternative    163\n",
       "classical      163\n",
       "rusrap         142\n",
       "Name: genre, dtype: int64"
      ]
     },
     "execution_count": 34,
     "metadata": {},
     "output_type": "execute_result"
    }
   ],
   "source": [
    "genre_weekday(moscow_general, 'Friday', '17:00', '23:00')"
   ]
  },
  {
   "cell_type": "code",
   "execution_count": 35,
   "metadata": {
    "deletable": false,
    "id": "JZaEKu5v_Zcu"
   },
   "outputs": [
    {
     "data": {
      "text/plain": [
       "genre\n",
       "pop            256\n",
       "electronic     216\n",
       "rock           216\n",
       "dance          210\n",
       "hiphop          97\n",
       "alternative     63\n",
       "jazz            61\n",
       "classical       60\n",
       "rusrap          59\n",
       "world           54\n",
       "Name: genre, dtype: int64"
      ]
     },
     "execution_count": 35,
     "metadata": {},
     "output_type": "execute_result"
    }
   ],
   "source": [
    "genre_weekday(spb_general, 'Friday', '17:00', '23:00')"
   ]
  },
  {
   "cell_type": "markdown",
   "metadata": {
    "id": "wrCe4MNX_Zcu"
   },
   "source": [
    "**Вывод**\n",
    "\n",
    "По топ-10 жанров утра понедельника:\n",
    "\n",
    "1. В Москве и Петербурге слушают похожую музыку. Единственное отличие — в московский рейтинг вошёл жанр “world”, а в петербургский — джаз и классика.\n",
    "\n",
    "2. В Москве пропущенных значений оказалось так много, что значение `'unknown'` заняло десятое место среди самых популярных жанров. Значит, пропущенные значения занимают существенную долю в данных и угрожают достоверности исследования.\n",
    "\n",
    "Вечер пятницы не меняет эту картину. Некоторые жанры поднимаются немного выше, другие спускаются, но в целом топ-10 остаётся тем же самым.\n",
    "\n",
    "Таким образом, вторая гипотеза подтвердилась лишь частично:\n",
    "* Пользователи слушают похожую музыку в начале недели и в конце.\n",
    "* Разница между Москвой и Петербургом не слишком выражена. В Москве чаще слушают русскую популярную музыку, в Петербурге — джаз.\n",
    "\n",
    "Однако пропуски в данных ставят под сомнение этот результат. В Москве их так много, что рейтинг топ-10 мог бы выглядеть иначе, если бы не утерянные данные о жанрах."
   ]
  },
  {
   "cell_type": "markdown",
   "metadata": {
    "deletable": false,
    "editable": false,
    "id": "JolODAqr_Zcu"
   },
   "source": [
    "### Жанровые предпочтения в Москве и Петербурге\n",
    "\n",
    "Гипотеза: Петербург — столица рэпа, музыку этого жанра там слушают чаще, чем в Москве.  А Москва — город контрастов, в котором, тем не менее, преобладает поп-музыка."
   ]
  },
  {
   "cell_type": "markdown",
   "metadata": {
    "id": "DlegSvaT_Zcu",
    "tags": [
     "start_task"
    ]
   },
   "source": [
    "Посчитаем прослушивания треков каждого жанра в Москве."
   ]
  },
  {
   "cell_type": "code",
   "execution_count": 36,
   "metadata": {
    "deletable": false,
    "id": "r19lIPke_Zcu"
   },
   "outputs": [],
   "source": [
    "moscow_genres = (moscow_general\n",
    "                 .groupby('genre')['genre'].count()\n",
    "                 .sort_values(ascending=False))"
   ]
  },
  {
   "cell_type": "code",
   "execution_count": 37,
   "metadata": {
    "deletable": false,
    "id": "WhCSooF8_Zcv"
   },
   "outputs": [
    {
     "data": {
      "text/plain": [
       "genre\n",
       "pop            5892\n",
       "dance          4435\n",
       "rock           3965\n",
       "electronic     3786\n",
       "hiphop         2096\n",
       "classical      1616\n",
       "world          1432\n",
       "alternative    1379\n",
       "ruspop         1372\n",
       "rusrap         1161\n",
       "Name: genre, dtype: int64"
      ]
     },
     "execution_count": 37,
     "metadata": {},
     "output_type": "execute_result"
    }
   ],
   "source": [
    "moscow_genres.head(10)"
   ]
  },
  {
   "cell_type": "markdown",
   "metadata": {
    "id": "cnPG2vnN_Zcv",
    "tags": [
     "start_task"
    ]
   },
   "source": [
    "Посчитаем прослушивания треков каждого жанра в Санкт-Петербурге.\n"
   ]
  },
  {
   "cell_type": "code",
   "execution_count": 38,
   "metadata": {
    "deletable": false,
    "id": "gluLIpE7_Zcv"
   },
   "outputs": [],
   "source": [
    "spb_genres = (spb_general\n",
    "              .groupby('genre')['genre'].count()\n",
    "              .sort_values(ascending=False))"
   ]
  },
  {
   "cell_type": "code",
   "execution_count": 39,
   "metadata": {
    "deletable": false,
    "id": "uaGJHjVU_Zcv"
   },
   "outputs": [
    {
     "data": {
      "text/plain": [
       "genre\n",
       "pop            2431\n",
       "dance          1932\n",
       "rock           1879\n",
       "electronic     1736\n",
       "hiphop          960\n",
       "alternative     649\n",
       "classical       646\n",
       "rusrap          564\n",
       "ruspop          538\n",
       "world           515\n",
       "Name: genre, dtype: int64"
      ]
     },
     "execution_count": 39,
     "metadata": {},
     "output_type": "execute_result"
    }
   ],
   "source": [
    "spb_genres.head(10)"
   ]
  },
  {
   "cell_type": "markdown",
   "metadata": {
    "id": "nVhnJEm__Zcv"
   },
   "source": [
    "**Вывод**\n",
    "\n",
    "Гипотеза частично подтвердилась:\n",
    "* Поп-музыка — самый популярный жанр в Москве, как и предполагала гипотеза. Более того, в топ-10 жанров встречается близкий жанр — русская популярная музыка.\n",
    "* Вопреки ожиданиям, рэп одинаково популярен в Москве и Петербурге. \n"
   ]
  },
  {
   "cell_type": "markdown",
   "metadata": {
    "deletable": false,
    "editable": false,
    "id": "ykKQ0N65_Zcv"
   },
   "source": [
    "## Итоги исследования"
   ]
  },
  {
   "cell_type": "markdown",
   "metadata": {
    "id": "tjUwbHb3_Zcv"
   },
   "source": [
    "В результате проверки трех гипотез установлено:\n",
    "\n",
    "1. День недели по-разному влияет на активность пользователей в Москве и Петербурге. \n",
    "\n",
    "Первая гипотеза полностью подтвердилась.\n",
    "\n",
    "2. Музыкальные предпочтения не сильно меняются в течение недели — будь то Москва или Петербург. Небольшие различия заметны в начале недели, по понедельникам:\n",
    "* в Москве слушают музыку жанра “world”,\n",
    "* в Петербурге — джаз и классику.\n",
    "\n",
    "Таким образом, вторая гипотеза подтвердилась лишь отчасти. Этот результат мог оказаться иным, если бы не пропуски в данных.\n",
    "\n",
    "3. Во вкусах пользователей Москвы и Петербурга больше общего чем различий. Вопреки ожиданиям, предпочтения жанров в Петербурге напоминают московские.\n",
    "\n",
    "Третья гипотеза не подтвердилась. Если различия в предпочтениях и существуют, на основной массе пользователей они незаметны."
   ]
  }
 ],
 "metadata": {
  "ExecuteTimeLog": [
   {
    "duration": 401,
    "start_time": "2022-12-07T22:33:16.823Z"
   },
   {
    "duration": 233,
    "start_time": "2022-12-07T22:34:13.903Z"
   },
   {
    "duration": 15,
    "start_time": "2022-12-07T22:34:31.434Z"
   },
   {
    "duration": 28,
    "start_time": "2022-12-07T22:34:44.446Z"
   },
   {
    "duration": 3,
    "start_time": "2022-12-07T22:36:32.196Z"
   },
   {
    "duration": 4,
    "start_time": "2022-12-07T22:37:01.135Z"
   },
   {
    "duration": 11,
    "start_time": "2022-12-07T22:39:42.960Z"
   },
   {
    "duration": 13,
    "start_time": "2022-12-07T22:39:47.211Z"
   },
   {
    "duration": 4,
    "start_time": "2022-12-07T22:40:05.731Z"
   },
   {
    "duration": 15,
    "start_time": "2022-12-07T22:41:07.605Z"
   },
   {
    "duration": 3,
    "start_time": "2022-12-07T22:41:08.658Z"
   },
   {
    "duration": 34,
    "start_time": "2022-12-07T22:41:41.275Z"
   },
   {
    "duration": 25,
    "start_time": "2022-12-07T22:41:57.276Z"
   },
   {
    "duration": 26,
    "start_time": "2022-12-07T22:42:04.987Z"
   },
   {
    "duration": 31,
    "start_time": "2022-12-07T22:43:07.556Z"
   },
   {
    "duration": 25,
    "start_time": "2022-12-07T22:43:20.264Z"
   },
   {
    "duration": 27,
    "start_time": "2022-12-07T22:44:15.021Z"
   },
   {
    "duration": 67,
    "start_time": "2022-12-07T22:46:54.626Z"
   },
   {
    "duration": 17,
    "start_time": "2022-12-07T22:48:29.874Z"
   },
   {
    "duration": 2,
    "start_time": "2022-12-07T22:49:04.906Z"
   },
   {
    "duration": 181,
    "start_time": "2022-12-07T22:49:04.910Z"
   },
   {
    "duration": 9,
    "start_time": "2022-12-07T22:49:05.093Z"
   },
   {
    "duration": 39,
    "start_time": "2022-12-07T22:49:05.104Z"
   },
   {
    "duration": 5,
    "start_time": "2022-12-07T22:49:05.144Z"
   },
   {
    "duration": 14,
    "start_time": "2022-12-07T22:49:05.150Z"
   },
   {
    "duration": 23,
    "start_time": "2022-12-07T22:49:05.165Z"
   },
   {
    "duration": 6,
    "start_time": "2022-12-07T22:49:05.190Z"
   },
   {
    "duration": 36,
    "start_time": "2022-12-07T22:49:05.198Z"
   },
   {
    "duration": 17,
    "start_time": "2022-12-07T22:49:14.447Z"
   },
   {
    "duration": 10,
    "start_time": "2022-12-07T22:50:18.024Z"
   },
   {
    "duration": 8,
    "start_time": "2022-12-07T22:51:18.894Z"
   },
   {
    "duration": 8,
    "start_time": "2022-12-07T22:51:20.920Z"
   },
   {
    "duration": 8,
    "start_time": "2022-12-07T22:51:24.933Z"
   },
   {
    "duration": 2,
    "start_time": "2022-12-07T22:51:32.691Z"
   },
   {
    "duration": 181,
    "start_time": "2022-12-07T22:51:32.695Z"
   },
   {
    "duration": 10,
    "start_time": "2022-12-07T22:51:32.877Z"
   },
   {
    "duration": 31,
    "start_time": "2022-12-07T22:51:32.889Z"
   },
   {
    "duration": 5,
    "start_time": "2022-12-07T22:51:32.922Z"
   },
   {
    "duration": 8,
    "start_time": "2022-12-07T22:51:32.928Z"
   },
   {
    "duration": 10,
    "start_time": "2022-12-07T22:51:32.937Z"
   },
   {
    "duration": 4,
    "start_time": "2022-12-07T22:51:32.948Z"
   },
   {
    "duration": 25,
    "start_time": "2022-12-07T22:51:32.953Z"
   },
   {
    "duration": 18,
    "start_time": "2022-12-07T22:51:37.622Z"
   },
   {
    "duration": 24,
    "start_time": "2022-12-07T22:51:40.002Z"
   },
   {
    "duration": 59,
    "start_time": "2022-12-07T22:52:53.802Z"
   },
   {
    "duration": 70,
    "start_time": "2022-12-07T22:53:15.863Z"
   },
   {
    "duration": 111,
    "start_time": "2022-12-07T22:53:56.686Z"
   },
   {
    "duration": 3,
    "start_time": "2022-12-07T22:54:10.803Z"
   },
   {
    "duration": 157,
    "start_time": "2022-12-07T22:54:10.808Z"
   },
   {
    "duration": 11,
    "start_time": "2022-12-07T22:54:10.967Z"
   },
   {
    "duration": 36,
    "start_time": "2022-12-07T22:54:10.979Z"
   },
   {
    "duration": 3,
    "start_time": "2022-12-07T22:54:11.017Z"
   },
   {
    "duration": 6,
    "start_time": "2022-12-07T22:54:11.022Z"
   },
   {
    "duration": 7,
    "start_time": "2022-12-07T22:54:11.030Z"
   },
   {
    "duration": 6,
    "start_time": "2022-12-07T22:54:11.039Z"
   },
   {
    "duration": 45,
    "start_time": "2022-12-07T22:54:11.046Z"
   },
   {
    "duration": 22,
    "start_time": "2022-12-07T22:54:11.093Z"
   },
   {
    "duration": 30,
    "start_time": "2022-12-07T22:54:11.118Z"
   },
   {
    "duration": 61,
    "start_time": "2022-12-07T22:54:11.149Z"
   },
   {
    "duration": 2,
    "start_time": "2022-12-07T22:54:52.299Z"
   },
   {
    "duration": 207,
    "start_time": "2022-12-07T22:54:52.303Z"
   },
   {
    "duration": 11,
    "start_time": "2022-12-07T22:54:52.512Z"
   },
   {
    "duration": 32,
    "start_time": "2022-12-07T22:54:52.524Z"
   },
   {
    "duration": 11,
    "start_time": "2022-12-07T22:54:52.559Z"
   },
   {
    "duration": 7,
    "start_time": "2022-12-07T22:54:52.572Z"
   },
   {
    "duration": 9,
    "start_time": "2022-12-07T22:54:52.581Z"
   },
   {
    "duration": 4,
    "start_time": "2022-12-07T22:54:52.592Z"
   },
   {
    "duration": 38,
    "start_time": "2022-12-07T22:54:52.598Z"
   },
   {
    "duration": 26,
    "start_time": "2022-12-07T22:54:52.638Z"
   },
   {
    "duration": 27,
    "start_time": "2022-12-07T22:54:52.666Z"
   },
   {
    "duration": 75,
    "start_time": "2022-12-07T22:54:52.695Z"
   },
   {
    "duration": 2,
    "start_time": "2022-12-07T22:54:57.211Z"
   },
   {
    "duration": 167,
    "start_time": "2022-12-07T22:54:57.215Z"
   },
   {
    "duration": 9,
    "start_time": "2022-12-07T22:54:57.384Z"
   },
   {
    "duration": 35,
    "start_time": "2022-12-07T22:54:57.395Z"
   },
   {
    "duration": 2,
    "start_time": "2022-12-07T22:54:57.432Z"
   },
   {
    "duration": 8,
    "start_time": "2022-12-07T22:54:57.435Z"
   },
   {
    "duration": 10,
    "start_time": "2022-12-07T22:54:57.444Z"
   },
   {
    "duration": 6,
    "start_time": "2022-12-07T22:54:57.455Z"
   },
   {
    "duration": 23,
    "start_time": "2022-12-07T22:54:57.463Z"
   },
   {
    "duration": 39,
    "start_time": "2022-12-07T22:54:57.488Z"
   },
   {
    "duration": 23,
    "start_time": "2022-12-07T22:54:57.529Z"
   },
   {
    "duration": 82,
    "start_time": "2022-12-07T22:54:57.554Z"
   },
   {
    "duration": 71,
    "start_time": "2022-12-07T22:55:01.335Z"
   },
   {
    "duration": 62,
    "start_time": "2022-12-07T22:55:03.493Z"
   },
   {
    "duration": 2,
    "start_time": "2022-12-07T22:55:25.244Z"
   },
   {
    "duration": 153,
    "start_time": "2022-12-07T22:55:25.248Z"
   },
   {
    "duration": 10,
    "start_time": "2022-12-07T22:55:25.402Z"
   },
   {
    "duration": 32,
    "start_time": "2022-12-07T22:55:25.416Z"
   },
   {
    "duration": 2,
    "start_time": "2022-12-07T22:55:25.450Z"
   },
   {
    "duration": 6,
    "start_time": "2022-12-07T22:55:25.453Z"
   },
   {
    "duration": 8,
    "start_time": "2022-12-07T22:55:25.460Z"
   },
   {
    "duration": 4,
    "start_time": "2022-12-07T22:55:25.469Z"
   },
   {
    "duration": 50,
    "start_time": "2022-12-07T22:55:25.475Z"
   },
   {
    "duration": 26,
    "start_time": "2022-12-07T22:55:25.526Z"
   },
   {
    "duration": 22,
    "start_time": "2022-12-07T22:55:25.554Z"
   },
   {
    "duration": 63,
    "start_time": "2022-12-07T22:55:25.577Z"
   },
   {
    "duration": 62,
    "start_time": "2022-12-07T22:55:26.709Z"
   },
   {
    "duration": 57,
    "start_time": "2022-12-07T22:55:47.165Z"
   },
   {
    "duration": 7,
    "start_time": "2022-12-07T22:56:58.925Z"
   },
   {
    "duration": 9,
    "start_time": "2022-12-07T22:58:05.449Z"
   },
   {
    "duration": 7,
    "start_time": "2022-12-07T22:58:16.989Z"
   },
   {
    "duration": 6,
    "start_time": "2022-12-07T22:58:47.233Z"
   },
   {
    "duration": 5,
    "start_time": "2022-12-07T22:59:14.130Z"
   },
   {
    "duration": 37,
    "start_time": "2022-12-07T22:59:32.608Z"
   },
   {
    "duration": 37,
    "start_time": "2022-12-07T22:59:53.819Z"
   },
   {
    "duration": 10,
    "start_time": "2022-12-07T23:01:55.362Z"
   },
   {
    "duration": 39,
    "start_time": "2022-12-07T23:02:13.002Z"
   },
   {
    "duration": 32,
    "start_time": "2022-12-07T23:05:29.436Z"
   },
   {
    "duration": 30,
    "start_time": "2022-12-07T23:05:58.826Z"
   },
   {
    "duration": 33,
    "start_time": "2022-12-07T23:06:03.434Z"
   },
   {
    "duration": 4613,
    "start_time": "2022-12-07T23:06:17.127Z"
   },
   {
    "duration": 67,
    "start_time": "2022-12-07T23:06:59.995Z"
   },
   {
    "duration": 9,
    "start_time": "2022-12-07T23:07:04.406Z"
   },
   {
    "duration": 32,
    "start_time": "2022-12-07T23:07:25.328Z"
   },
   {
    "duration": 8,
    "start_time": "2022-12-07T23:07:48.400Z"
   },
   {
    "duration": 10,
    "start_time": "2022-12-07T23:07:58.233Z"
   },
   {
    "duration": 33,
    "start_time": "2022-12-07T23:08:15.181Z"
   },
   {
    "duration": 12,
    "start_time": "2022-12-07T23:08:53.073Z"
   },
   {
    "duration": 11,
    "start_time": "2022-12-07T23:09:53.454Z"
   },
   {
    "duration": 35,
    "start_time": "2022-12-07T23:10:02.647Z"
   },
   {
    "duration": 12,
    "start_time": "2022-12-07T23:10:31.268Z"
   },
   {
    "duration": 12,
    "start_time": "2022-12-07T23:11:47.325Z"
   },
   {
    "duration": 12,
    "start_time": "2022-12-07T23:11:57.731Z"
   },
   {
    "duration": 33,
    "start_time": "2022-12-07T23:12:17.597Z"
   },
   {
    "duration": 12,
    "start_time": "2022-12-07T23:12:30.336Z"
   },
   {
    "duration": 12,
    "start_time": "2022-12-07T23:14:02.703Z"
   },
   {
    "duration": 12,
    "start_time": "2022-12-07T23:14:10.450Z"
   },
   {
    "duration": 53,
    "start_time": "2022-12-08T06:01:19.263Z"
   },
   {
    "duration": 334,
    "start_time": "2022-12-08T06:01:27.978Z"
   },
   {
    "duration": 247,
    "start_time": "2022-12-08T06:01:28.314Z"
   },
   {
    "duration": 19,
    "start_time": "2022-12-08T06:01:28.564Z"
   },
   {
    "duration": 32,
    "start_time": "2022-12-08T06:01:28.586Z"
   },
   {
    "duration": 2,
    "start_time": "2022-12-08T06:01:28.620Z"
   },
   {
    "duration": 6,
    "start_time": "2022-12-08T06:01:28.624Z"
   },
   {
    "duration": 13,
    "start_time": "2022-12-08T06:01:28.632Z"
   },
   {
    "duration": 8,
    "start_time": "2022-12-08T06:01:28.646Z"
   },
   {
    "duration": 28,
    "start_time": "2022-12-08T06:01:28.656Z"
   },
   {
    "duration": 24,
    "start_time": "2022-12-08T06:01:28.686Z"
   },
   {
    "duration": 26,
    "start_time": "2022-12-08T06:01:28.721Z"
   },
   {
    "duration": 74,
    "start_time": "2022-12-08T06:01:28.749Z"
   },
   {
    "duration": 65,
    "start_time": "2022-12-08T06:01:28.825Z"
   },
   {
    "duration": 68,
    "start_time": "2022-12-08T06:01:28.892Z"
   },
   {
    "duration": 37,
    "start_time": "2022-12-08T06:01:28.962Z"
   },
   {
    "duration": 23,
    "start_time": "2022-12-08T06:01:29.000Z"
   },
   {
    "duration": 38,
    "start_time": "2022-12-08T06:01:29.024Z"
   },
   {
    "duration": 12,
    "start_time": "2022-12-08T06:01:29.063Z"
   },
   {
    "duration": 11,
    "start_time": "2022-12-08T06:01:31.600Z"
   },
   {
    "duration": 759,
    "start_time": "2022-12-08T06:01:34.199Z"
   },
   {
    "duration": 723,
    "start_time": "2022-12-08T06:01:38.859Z"
   },
   {
    "duration": 707,
    "start_time": "2022-12-08T06:02:18.990Z"
   },
   {
    "duration": 783,
    "start_time": "2022-12-08T06:02:37.982Z"
   },
   {
    "duration": 21,
    "start_time": "2022-12-08T06:02:57.837Z"
   },
   {
    "duration": 28,
    "start_time": "2022-12-08T06:03:22.479Z"
   },
   {
    "duration": 15,
    "start_time": "2022-12-08T06:05:43.084Z"
   },
   {
    "duration": 3,
    "start_time": "2022-12-08T06:07:35.092Z"
   },
   {
    "duration": 3,
    "start_time": "2022-12-08T06:08:21.504Z"
   },
   {
    "duration": 16,
    "start_time": "2022-12-08T06:09:49.842Z"
   },
   {
    "duration": 18,
    "start_time": "2022-12-08T06:09:51.268Z"
   },
   {
    "duration": 14,
    "start_time": "2022-12-08T06:09:52.396Z"
   },
   {
    "duration": 15,
    "start_time": "2022-12-08T06:09:53.839Z"
   },
   {
    "duration": 16,
    "start_time": "2022-12-08T06:09:54.695Z"
   },
   {
    "duration": 15,
    "start_time": "2022-12-08T06:09:56.323Z"
   },
   {
    "duration": 3,
    "start_time": "2022-12-08T06:15:00.997Z"
   },
   {
    "duration": 9,
    "start_time": "2022-12-08T06:15:06.843Z"
   },
   {
    "duration": 4,
    "start_time": "2022-12-08T06:15:13.852Z"
   },
   {
    "duration": 11,
    "start_time": "2022-12-08T06:16:37.447Z"
   },
   {
    "duration": 9,
    "start_time": "2022-12-08T06:16:57.475Z"
   },
   {
    "duration": 7,
    "start_time": "2022-12-08T06:23:14.186Z"
   },
   {
    "duration": 15,
    "start_time": "2022-12-08T06:23:25.778Z"
   },
   {
    "duration": 218,
    "start_time": "2022-12-08T06:23:32.488Z"
   },
   {
    "duration": 246,
    "start_time": "2022-12-08T06:23:56.393Z"
   },
   {
    "duration": 18,
    "start_time": "2022-12-08T06:24:28.884Z"
   },
   {
    "duration": 25,
    "start_time": "2022-12-08T06:25:23.433Z"
   },
   {
    "duration": 26,
    "start_time": "2022-12-08T06:25:31.797Z"
   },
   {
    "duration": 17,
    "start_time": "2022-12-08T06:25:51.961Z"
   },
   {
    "duration": 18,
    "start_time": "2022-12-08T06:26:13.959Z"
   },
   {
    "duration": 22,
    "start_time": "2022-12-08T06:26:27.624Z"
   },
   {
    "duration": 27,
    "start_time": "2022-12-08T06:26:40.246Z"
   },
   {
    "duration": 22,
    "start_time": "2022-12-08T06:26:56.854Z"
   },
   {
    "duration": 24,
    "start_time": "2022-12-08T06:27:06.049Z"
   },
   {
    "duration": 23,
    "start_time": "2022-12-08T06:27:14.985Z"
   },
   {
    "duration": 27,
    "start_time": "2022-12-08T06:27:20.521Z"
   },
   {
    "duration": 415,
    "start_time": "2022-12-08T07:41:19.118Z"
   },
   {
    "duration": 241,
    "start_time": "2022-12-08T07:41:19.535Z"
   },
   {
    "duration": 17,
    "start_time": "2022-12-08T07:41:19.778Z"
   },
   {
    "duration": 48,
    "start_time": "2022-12-08T07:41:19.796Z"
   },
   {
    "duration": 29,
    "start_time": "2022-12-08T07:41:19.846Z"
   },
   {
    "duration": 47,
    "start_time": "2022-12-08T07:41:19.877Z"
   },
   {
    "duration": 36,
    "start_time": "2022-12-08T07:41:19.926Z"
   },
   {
    "duration": 13,
    "start_time": "2022-12-08T07:41:19.964Z"
   },
   {
    "duration": 54,
    "start_time": "2022-12-08T07:41:19.978Z"
   },
   {
    "duration": 33,
    "start_time": "2022-12-08T07:41:20.033Z"
   },
   {
    "duration": 31,
    "start_time": "2022-12-08T07:41:20.067Z"
   },
   {
    "duration": 92,
    "start_time": "2022-12-08T07:41:20.099Z"
   },
   {
    "duration": 73,
    "start_time": "2022-12-08T07:41:20.192Z"
   },
   {
    "duration": 61,
    "start_time": "2022-12-08T07:41:20.268Z"
   },
   {
    "duration": 54,
    "start_time": "2022-12-08T07:41:20.331Z"
   },
   {
    "duration": 11,
    "start_time": "2022-12-08T07:41:20.386Z"
   },
   {
    "duration": 57,
    "start_time": "2022-12-08T07:41:20.398Z"
   },
   {
    "duration": 69,
    "start_time": "2022-12-08T07:41:20.457Z"
   },
   {
    "duration": 12,
    "start_time": "2022-12-08T07:41:20.528Z"
   },
   {
    "duration": 3,
    "start_time": "2022-12-08T07:41:20.542Z"
   },
   {
    "duration": 25,
    "start_time": "2022-12-08T07:41:20.546Z"
   },
   {
    "duration": 14,
    "start_time": "2022-12-08T07:41:20.572Z"
   },
   {
    "duration": 15,
    "start_time": "2022-12-08T07:41:20.588Z"
   },
   {
    "duration": 14,
    "start_time": "2022-12-08T07:41:20.604Z"
   },
   {
    "duration": 43,
    "start_time": "2022-12-08T07:41:20.620Z"
   },
   {
    "duration": 15,
    "start_time": "2022-12-08T07:41:20.665Z"
   },
   {
    "duration": 4,
    "start_time": "2022-12-08T07:41:20.681Z"
   },
   {
    "duration": 18,
    "start_time": "2022-12-08T07:41:20.687Z"
   },
   {
    "duration": 17,
    "start_time": "2022-12-08T07:41:20.707Z"
   },
   {
    "duration": 62,
    "start_time": "2022-12-08T07:45:07.621Z"
   },
   {
    "duration": 3,
    "start_time": "2022-12-08T07:45:14.761Z"
   },
   {
    "duration": 65,
    "start_time": "2022-12-08T07:46:16.775Z"
   },
   {
    "duration": 4,
    "start_time": "2022-12-08T07:46:52.314Z"
   },
   {
    "duration": 24,
    "start_time": "2022-12-08T07:46:56.376Z"
   },
   {
    "duration": 4,
    "start_time": "2022-12-08T07:47:25.067Z"
   },
   {
    "duration": 22,
    "start_time": "2022-12-08T07:47:26.843Z"
   },
   {
    "duration": 14,
    "start_time": "2022-12-08T07:48:28.745Z"
   },
   {
    "duration": 16,
    "start_time": "2022-12-08T07:48:30.254Z"
   },
   {
    "duration": 11,
    "start_time": "2022-12-08T07:48:35.007Z"
   },
   {
    "duration": 23,
    "start_time": "2022-12-08T07:49:27.456Z"
   },
   {
    "duration": 11,
    "start_time": "2022-12-08T07:49:28.568Z"
   },
   {
    "duration": 15,
    "start_time": "2022-12-08T07:50:26.658Z"
   },
   {
    "duration": 16,
    "start_time": "2022-12-08T07:50:30.719Z"
   },
   {
    "duration": 3,
    "start_time": "2022-12-08T07:51:00.617Z"
   },
   {
    "duration": 19,
    "start_time": "2022-12-08T07:51:02.155Z"
   },
   {
    "duration": 16,
    "start_time": "2022-12-08T07:51:03.446Z"
   },
   {
    "duration": 18,
    "start_time": "2022-12-08T07:51:05.324Z"
   },
   {
    "duration": 12,
    "start_time": "2022-12-08T07:51:07.215Z"
   },
   {
    "duration": 11,
    "start_time": "2022-12-08T07:53:23.765Z"
   },
   {
    "duration": 13,
    "start_time": "2022-12-08T07:53:33.741Z"
   },
   {
    "duration": 8,
    "start_time": "2022-12-08T07:53:38.871Z"
   },
   {
    "duration": 5,
    "start_time": "2022-12-08T07:53:57.701Z"
   },
   {
    "duration": 4,
    "start_time": "2022-12-08T07:54:53.239Z"
   },
   {
    "duration": 30,
    "start_time": "2022-12-08T07:54:54.798Z"
   },
   {
    "duration": 15,
    "start_time": "2022-12-08T07:54:57.577Z"
   },
   {
    "duration": 17,
    "start_time": "2022-12-08T07:54:58.844Z"
   },
   {
    "duration": 15,
    "start_time": "2022-12-08T07:55:01.267Z"
   },
   {
    "duration": 33,
    "start_time": "2022-12-08T07:57:30.618Z"
   },
   {
    "duration": 12,
    "start_time": "2022-12-08T07:58:11.942Z"
   },
   {
    "duration": 30,
    "start_time": "2022-12-08T07:58:21.573Z"
   },
   {
    "duration": 10,
    "start_time": "2022-12-08T07:58:33.573Z"
   },
   {
    "duration": 10,
    "start_time": "2022-12-08T07:59:56.731Z"
   },
   {
    "duration": 10,
    "start_time": "2022-12-08T08:00:10.083Z"
   },
   {
    "duration": 6,
    "start_time": "2022-12-08T08:00:11.285Z"
   },
   {
    "duration": 7,
    "start_time": "2022-12-08T08:01:10.797Z"
   },
   {
    "duration": 6,
    "start_time": "2022-12-08T08:01:12.851Z"
   },
   {
    "duration": 9,
    "start_time": "2022-12-08T08:01:24.732Z"
   },
   {
    "duration": 402,
    "start_time": "2023-08-07T12:48:57.114Z"
   },
   {
    "duration": 498,
    "start_time": "2023-08-07T12:49:18.987Z"
   },
   {
    "duration": 622,
    "start_time": "2023-08-07T12:49:41.365Z"
   }
  ],
  "colab": {
   "collapsed_sections": [
    "E0vqbgi9ay0H",
    "VUC88oWjTJw2"
   ],
   "name": "automatization_template_upd4.ipynb",
   "provenance": []
  },
  "kernelspec": {
   "display_name": "Python 3 (ipykernel)",
   "language": "python",
   "name": "python3"
  },
  "language_info": {
   "codemirror_mode": {
    "name": "ipython",
    "version": 3
   },
   "file_extension": ".py",
   "mimetype": "text/x-python",
   "name": "python",
   "nbconvert_exporter": "python",
   "pygments_lexer": "ipython3",
   "version": "3.11.3"
  },
  "toc": {
   "base_numbering": 1,
   "nav_menu": {
    "height": "215px",
    "width": "403px"
   },
   "number_sections": true,
   "sideBar": true,
   "skip_h1_title": true,
   "title_cell": "Table of Contents",
   "title_sidebar": "Contents",
   "toc_cell": false,
   "toc_position": {
    "height": "calc(100% - 180px)",
    "left": "10px",
    "top": "150px",
    "width": "285.812px"
   },
   "toc_section_display": true,
   "toc_window_display": true
  }
 },
 "nbformat": 4,
 "nbformat_minor": 1
}
